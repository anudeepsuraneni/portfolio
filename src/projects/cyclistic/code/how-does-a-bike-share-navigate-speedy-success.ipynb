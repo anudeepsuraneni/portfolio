{
 "cells": [
  {
   "cell_type": "markdown",
   "id": "185afbc0",
   "metadata": {
    "papermill": {
     "duration": 0.015001,
     "end_time": "2025-06-04T10:13:42.910708",
     "exception": false,
     "start_time": "2025-06-04T10:13:42.895707",
     "status": "completed"
    },
    "tags": []
   },
   "source": [
    "# How Does a Bike-Share Navigate Speedy Success?"
   ]
  },
  {
   "cell_type": "markdown",
   "id": "221887d7",
   "metadata": {
    "papermill": {
     "duration": 0.018598,
     "end_time": "2025-06-04T10:13:42.944348",
     "exception": false,
     "start_time": "2025-06-04T10:13:42.925750",
     "status": "completed"
    },
    "tags": []
   },
   "source": [
    "## Case Study Overview\n",
    "\n",
    "* This case study is my **capstone project** for the *Google Data Analytics Professional Certificate*.\n",
    "* I am a **junior data analyst** on the **marketing analytics team** at **Cyclistic**, a fictional bike-share company based in Chicago.\n",
    "* In 2016, Cyclistic operates **over 5,800 bicycles** and **600+ docking stations** across the city. This bike-share program offers three pricing options: **Single-ride passes**, **Full-day passes**, and **Annual memberships**.\n",
    "* Customers with **single-ride** or **full-day passes** are referred to as **Casual Riders**.\n",
    "* Customers with **annual memberships** are referred to as **Annual Members**."
   ]
  },
  {
   "cell_type": "markdown",
   "id": "70577a36",
   "metadata": {
    "papermill": {
     "duration": 0.010799,
     "end_time": "2025-06-04T10:13:42.967601",
     "exception": false,
     "start_time": "2025-06-04T10:13:42.956802",
     "status": "completed"
    },
    "tags": []
   },
   "source": [
    "## Business Objective\n",
    "\n",
    "### Context\n",
    "\n",
    "* **Lily Moreno**, Director of Marketing and my manager, believes that growing the number of **annual members** is essential for Cyclistic’s future success.\n",
    "* Instead of targeting entirely new customers, she sees potential in converting **existing casual riders** into **annual members**.\n",
    "* Casual riders are already using Cyclistic and are familiar with the service — making them ideal candidates for membership.\n",
    "\n",
    "### Team’s Primary Goal\n",
    "\n",
    "Create effective marketing strategies to convert casual riders into annual members.\n",
    "\n",
    "### Focus Area\n",
    "\n",
    "To achieve the primary goal, our team must address the following key questions:\n",
    "1. How do annual members and casual riders use Cyclistic bikes differently?\n",
    "2. Why would casual riders consider purchasing annual memberships?\n",
    "3. How can Cyclistic use digital media to influence casual riders?\n",
    "\n",
    "I was asked to focus on **first question**:\n",
    "    \n",
    "> **Analyze Cyclistic's historical bike trip data to uncover trends and key differences in usage between annual members and casual riders. These insights will guide recommendations for targeted marketing initiatives aimed at increasing annual memberships.**"
   ]
  },
  {
   "cell_type": "markdown",
   "id": "36a4626e",
   "metadata": {
    "papermill": {
     "duration": 0.010334,
     "end_time": "2025-06-04T10:13:42.988231",
     "exception": false,
     "start_time": "2025-06-04T10:13:42.977897",
     "status": "completed"
    },
    "tags": []
   },
   "source": [
    "## Data Sources\n",
    "\n",
    "* As Cyclistic is a fictional company, I am using **Divvy bicycle sharing service** [trip data](https://divvy-tripdata.s3.amazonaws.com/index.html) as **proxy data** for this analysis.\n",
    "* **Lyft Bikes and Scooters**, which manages *Chicago's Divvy bike-sharing program*, made specific Divvy system data available to the **public** under this [license agreement](https://divvybikes.com/data-license-agreement).\n",
    "* These public datasets are **credible** as they are *reliable*, *original*, *comprehensive*, *current*, and *cited*.\n",
    "* The riders' privacy will be protected throughout this analysis, by actively preventing usage of any personally identifiable information.\n",
    "* The Divvy's [2019 Q1](https://docs.google.com/spreadsheets/d/1uCTsHlZLm4L7-ueaSLwDg0ut3BP_V4mKDo2IMpaXrk4/template/preview?resourcekey=0-dQAUjAu2UUCsLEQQt20PDA#gid=1797029090) & [2020 Q1](https://docs.google.com/spreadsheets/d/179QVLO_yu5BJEKFVZShsKag74ZaUYIF6FevLYzs3hRc/template/preview#gid=640449855) datasets are downloaded and uploaded into this **Kaggle notebook** for analysis and an extra layer of security.\n",
    "* **Kaggle's R kernel** will be used to clean, analyze, and visualize the data."
   ]
  },
  {
   "cell_type": "markdown",
   "id": "85c4039e",
   "metadata": {
    "papermill": {
     "duration": 0.010313,
     "end_time": "2025-06-04T10:13:43.008839",
     "exception": false,
     "start_time": "2025-06-04T10:13:42.998526",
     "status": "completed"
    },
    "tags": []
   },
   "source": [
    "Load required R packages: `tidyverse` and `conflicted`."
   ]
  },
  {
   "cell_type": "code",
   "execution_count": 1,
   "id": "c034f540",
   "metadata": {
    "_execution_state": "idle",
    "_kg_hide-output": true,
    "_uuid": "051d70d956493feee0c6d64651c6a088724dca2a",
    "execution": {
     "iopub.execute_input": "2025-06-04T10:13:43.032757Z",
     "iopub.status.busy": "2025-06-04T10:13:43.031039Z",
     "iopub.status.idle": "2025-06-04T10:13:44.568383Z",
     "shell.execute_reply": "2025-06-04T10:13:44.566913Z"
    },
    "papermill": {
     "duration": 1.551888,
     "end_time": "2025-06-04T10:13:44.570734",
     "exception": false,
     "start_time": "2025-06-04T10:13:43.018846",
     "status": "completed"
    },
    "tags": []
   },
   "outputs": [
    {
     "name": "stderr",
     "output_type": "stream",
     "text": [
      "── \u001b[1mAttaching core tidyverse packages\u001b[22m ──────────────────────── tidyverse 2.0.0 ──\n",
      "\u001b[32m✔\u001b[39m \u001b[34mdplyr    \u001b[39m 1.1.4     \u001b[32m✔\u001b[39m \u001b[34mreadr    \u001b[39m 2.1.5\n",
      "\u001b[32m✔\u001b[39m \u001b[34mforcats  \u001b[39m 1.0.0     \u001b[32m✔\u001b[39m \u001b[34mstringr  \u001b[39m 1.5.1\n",
      "\u001b[32m✔\u001b[39m \u001b[34mggplot2  \u001b[39m 3.5.1     \u001b[32m✔\u001b[39m \u001b[34mtibble   \u001b[39m 3.2.1\n",
      "\u001b[32m✔\u001b[39m \u001b[34mlubridate\u001b[39m 1.9.3     \u001b[32m✔\u001b[39m \u001b[34mtidyr    \u001b[39m 1.3.1\n",
      "\u001b[32m✔\u001b[39m \u001b[34mpurrr    \u001b[39m 1.0.2     \n"
     ]
    },
    {
     "name": "stderr",
     "output_type": "stream",
     "text": [
      "── \u001b[1mConflicts\u001b[22m ────────────────────────────────────────── tidyverse_conflicts() ──\n",
      "\u001b[31m✖\u001b[39m \u001b[34mdplyr\u001b[39m::\u001b[32mfilter()\u001b[39m masks \u001b[34mstats\u001b[39m::filter()\n",
      "\u001b[31m✖\u001b[39m \u001b[34mdplyr\u001b[39m::\u001b[32mlag()\u001b[39m    masks \u001b[34mstats\u001b[39m::lag()\n",
      "\u001b[36mℹ\u001b[39m Use the conflicted package (\u001b[3m\u001b[34m<http://conflicted.r-lib.org/>\u001b[39m\u001b[23m) to force all conflicts to become errors\n"
     ]
    },
    {
     "name": "stderr",
     "output_type": "stream",
     "text": [
      "\u001b[1m\u001b[22m\u001b[90m[conflicted]\u001b[39m Will prefer \u001b[1m\u001b[34mdplyr\u001b[39m\u001b[22m::filter over any other package.\n"
     ]
    },
    {
     "name": "stderr",
     "output_type": "stream",
     "text": [
      "\u001b[1m\u001b[22m\u001b[90m[conflicted]\u001b[39m Will prefer \u001b[1m\u001b[34mdplyr\u001b[39m\u001b[22m::lag over any other package.\n"
     ]
    }
   ],
   "source": [
    "library(tidyverse) # metapackage of all tidyverse packages\n",
    "library(conflicted) # to manage conflicts between packages\n",
    "\n",
    "# set dplyr::filter and dplyr::lag as the default choices\n",
    "conflict_prefer(\"filter\", \"dplyr\")\n",
    "conflict_prefer(\"lag\", \"dplyr\")"
   ]
  },
  {
   "cell_type": "markdown",
   "id": "3f088be2",
   "metadata": {
    "papermill": {
     "duration": 0.010166,
     "end_time": "2025-06-04T10:13:44.591447",
     "exception": false,
     "start_time": "2025-06-04T10:13:44.581281",
     "status": "completed"
    },
    "tags": []
   },
   "source": [
    "Load the datasets as dataframes into this notebook."
   ]
  },
  {
   "cell_type": "code",
   "execution_count": 2,
   "id": "b6ae120a",
   "metadata": {
    "execution": {
     "iopub.execute_input": "2025-06-04T10:13:44.646232Z",
     "iopub.status.busy": "2025-06-04T10:13:44.614237Z",
     "iopub.status.idle": "2025-06-04T10:13:48.205245Z",
     "shell.execute_reply": "2025-06-04T10:13:48.203167Z"
    },
    "papermill": {
     "duration": 3.607304,
     "end_time": "2025-06-04T10:13:48.208919",
     "exception": false,
     "start_time": "2025-06-04T10:13:44.601615",
     "status": "completed"
    },
    "tags": []
   },
   "outputs": [],
   "source": [
    "# Input data files are available in the read-only \"../input/\" directory\n",
    "\n",
    "q1_2019 <- read_csv(\n",
    "  \"../input/divvy-tripdata/Divvy_Trips_2019_Q1/Divvy_Trips_2019_Q1.csv\",\n",
    "  show_col_types = FALSE\n",
    ")\n",
    "q1_2020 <- read_csv(\n",
    "  \"../input/divvy-tripdata/Divvy_Trips_2020_Q1/Divvy_Trips_2020_Q1.csv\",\n",
    "  show_col_types = FALSE\n",
    ")"
   ]
  },
  {
   "cell_type": "markdown",
   "id": "0fde6097",
   "metadata": {
    "papermill": {
     "duration": 0.012892,
     "end_time": "2025-06-04T10:13:48.235353",
     "exception": false,
     "start_time": "2025-06-04T10:13:48.222461",
     "status": "completed"
    },
    "tags": []
   },
   "source": [
    "Create `display_dimensions` function to understand the dimensions of a dataset."
   ]
  },
  {
   "cell_type": "code",
   "execution_count": 3,
   "id": "89e7c08e",
   "metadata": {
    "execution": {
     "iopub.execute_input": "2025-06-04T10:13:48.264703Z",
     "iopub.status.busy": "2025-06-04T10:13:48.261194Z",
     "iopub.status.idle": "2025-06-04T10:13:48.298004Z",
     "shell.execute_reply": "2025-06-04T10:13:48.291279Z"
    },
    "papermill": {
     "duration": 0.058908,
     "end_time": "2025-06-04T10:13:48.305679",
     "exception": false,
     "start_time": "2025-06-04T10:13:48.246771",
     "status": "completed"
    },
    "tags": []
   },
   "outputs": [],
   "source": [
    "display_dimensions <- function(df, df_name) {\n",
    "    dimensions <- dim(df)\n",
    "    cat(\"The\", df_name, \"dataframe has\", dimensions[1], \n",
    "        \"rows in\", dimensions[2], \"columns:\", \n",
    "        paste(colnames(df), collapse = \", \"), \"\\n\")\n",
    "}"
   ]
  },
  {
   "cell_type": "markdown",
   "id": "75e6d5fe",
   "metadata": {
    "_kg_hide-output": false,
    "papermill": {
     "duration": 0.078396,
     "end_time": "2025-06-04T10:13:48.413555",
     "exception": false,
     "start_time": "2025-06-04T10:13:48.335159",
     "status": "completed"
    },
    "tags": []
   },
   "source": [
    "Understand the dimensions of both datasets."
   ]
  },
  {
   "cell_type": "code",
   "execution_count": 4,
   "id": "0154fbba",
   "metadata": {
    "execution": {
     "iopub.execute_input": "2025-06-04T10:13:48.437453Z",
     "iopub.status.busy": "2025-06-04T10:13:48.436325Z",
     "iopub.status.idle": "2025-06-04T10:13:48.461601Z",
     "shell.execute_reply": "2025-06-04T10:13:48.459770Z"
    },
    "papermill": {
     "duration": 0.039728,
     "end_time": "2025-06-04T10:13:48.463871",
     "exception": false,
     "start_time": "2025-06-04T10:13:48.424143",
     "status": "completed"
    },
    "tags": []
   },
   "outputs": [
    {
     "name": "stdout",
     "output_type": "stream",
     "text": [
      "The 2019 Q1 dataframe has 365069 rows in 12 columns: trip_id, start_time, end_time, bikeid, tripduration, from_station_id, from_station_name, to_station_id, to_station_name, usertype, gender, birthyear \n"
     ]
    },
    {
     "name": "stdout",
     "output_type": "stream",
     "text": [
      "\n"
     ]
    },
    {
     "name": "stdout",
     "output_type": "stream",
     "text": [
      "The 2020 Q1 dataframe has 426887 rows in 13 columns: ride_id, rideable_type, started_at, ended_at, start_station_name, start_station_id, end_station_name, end_station_id, start_lat, start_lng, end_lat, end_lng, member_casual \n"
     ]
    }
   ],
   "source": [
    "display_dimensions(q1_2019, \"2019 Q1\")\n",
    "cat(\"\\n\")\n",
    "display_dimensions(q1_2020, \"2020 Q1\")"
   ]
  },
  {
   "cell_type": "markdown",
   "id": "8c77f1e1",
   "metadata": {
    "papermill": {
     "duration": 0.01548,
     "end_time": "2025-06-04T10:13:48.498149",
     "exception": false,
     "start_time": "2025-06-04T10:13:48.482669",
     "status": "completed"
    },
    "tags": []
   },
   "source": [
    "**These are the differences identified in column names between the two datasets:**\n",
    "\n",
    "* `ride_id` in 2020 Q1 dataset is named `trip_id` in 2019 Q1 dataset.\n",
    "* `started_at` and `ended_at` in 2020 Q1 dataset are named `start_time` and `end_time` in 2019 Q1 dataset.\n",
    "* `start_station_name` and `start_station_id` in 2020 Q1 dataset are named `from_station_name` and `from_station_id` in 2019 Q1 dataset.\n",
    "* `end_station_name` and `end_station_id` in 2020 Q1 dataset are named `to_station_name` and `to_station_id` in 2019 Q1 dataset.\n",
    "* `member_casual` in 2020 Q1 dataset is named `usertype` in 2019 Q1 dataset.\n",
    "* `bikeid`, `tripduration`, `gender`, and `birthyear` columns in the 2019 Q1 dataset are not present in the 2020 Q1 dataset.\n",
    "* `rideable_type`, `start_lat`, `start_lng`, `end_lat`, and `end_lng` columns in the 2020 Q1 dataset are not present in the 2019 Q1 dataset."
   ]
  },
  {
   "cell_type": "markdown",
   "id": "898cbde0",
   "metadata": {
    "papermill": {
     "duration": 0.013284,
     "end_time": "2025-06-04T10:13:48.527466",
     "exception": false,
     "start_time": "2025-06-04T10:13:48.514182",
     "status": "completed"
    },
    "tags": []
   },
   "source": [
    "Remove the fields that are not common in both datasets to streamline the data and focus on the columns that are essential for understanding bike usage patterns."
   ]
  },
  {
   "cell_type": "code",
   "execution_count": 5,
   "id": "a0f9f89d",
   "metadata": {
    "execution": {
     "iopub.execute_input": "2025-06-04T10:13:48.554128Z",
     "iopub.status.busy": "2025-06-04T10:13:48.552179Z",
     "iopub.status.idle": "2025-06-04T10:13:48.579529Z",
     "shell.execute_reply": "2025-06-04T10:13:48.578127Z"
    },
    "papermill": {
     "duration": 0.042809,
     "end_time": "2025-06-04T10:13:48.581749",
     "exception": false,
     "start_time": "2025-06-04T10:13:48.538940",
     "status": "completed"
    },
    "tags": []
   },
   "outputs": [],
   "source": [
    "q1_2019 <- q1_2019 %>%\n",
    "  select(\n",
    "    -c(bikeid, tripduration, gender, birthyear)\n",
    "  )\n",
    "\n",
    "q1_2020 <- q1_2020 %>%\n",
    "  select(\n",
    "    -c(rideable_type, start_lat, start_lng, end_lat, end_lng)\n",
    "  )"
   ]
  },
  {
   "cell_type": "markdown",
   "id": "02f97446",
   "metadata": {
    "papermill": {
     "duration": 0.011424,
     "end_time": "2025-06-04T10:13:48.610567",
     "exception": false,
     "start_time": "2025-06-04T10:13:48.599143",
     "status": "completed"
    },
    "tags": []
   },
   "source": [
    "Standardize the column names of 2019 Q1 dataset to match the latest 2020 Q1 dataset. This will ensure consistency in column names across both datasets, making it easier to combine and analyze them later."
   ]
  },
  {
   "cell_type": "code",
   "execution_count": 6,
   "id": "99d37079",
   "metadata": {
    "execution": {
     "iopub.execute_input": "2025-06-04T10:13:48.637715Z",
     "iopub.status.busy": "2025-06-04T10:13:48.636217Z",
     "iopub.status.idle": "2025-06-04T10:13:48.652607Z",
     "shell.execute_reply": "2025-06-04T10:13:48.650976Z"
    },
    "papermill": {
     "duration": 0.0331,
     "end_time": "2025-06-04T10:13:48.655226",
     "exception": false,
     "start_time": "2025-06-04T10:13:48.622126",
     "status": "completed"
    },
    "tags": []
   },
   "outputs": [],
   "source": [
    "q1_2019 <- q1_2019 %>%\n",
    "  rename(\n",
    "    ride_id = trip_id,\n",
    "    started_at = start_time,\n",
    "    ended_at = end_time,\n",
    "    start_station_name = from_station_name,\n",
    "    start_station_id = from_station_id,\n",
    "    end_station_name = to_station_name,\n",
    "    end_station_id = to_station_id,\n",
    "    member_casual = usertype\n",
    "  )"
   ]
  },
  {
   "cell_type": "markdown",
   "id": "3896accf",
   "metadata": {
    "papermill": {
     "duration": 0.011333,
     "end_time": "2025-06-04T10:13:48.678305",
     "exception": false,
     "start_time": "2025-06-04T10:13:48.666972",
     "status": "completed"
    },
    "tags": []
   },
   "source": [
    "Confirm that the column names of the 2019 Q1 dataset match the 2020 Q1 dataset."
   ]
  },
  {
   "cell_type": "code",
   "execution_count": 7,
   "id": "85ea6877",
   "metadata": {
    "execution": {
     "iopub.execute_input": "2025-06-04T10:13:48.712485Z",
     "iopub.status.busy": "2025-06-04T10:13:48.710388Z",
     "iopub.status.idle": "2025-06-04T10:13:48.744632Z",
     "shell.execute_reply": "2025-06-04T10:13:48.739527Z"
    },
    "papermill": {
     "duration": 0.061314,
     "end_time": "2025-06-04T10:13:48.750504",
     "exception": false,
     "start_time": "2025-06-04T10:13:48.689190",
     "status": "completed"
    },
    "tags": []
   },
   "outputs": [
    {
     "name": "stdout",
     "output_type": "stream",
     "text": [
      "The 2019 Q1 dataframe has 365069 rows in 8 columns: ride_id, started_at, ended_at, start_station_id, start_station_name, end_station_id, end_station_name, member_casual \n"
     ]
    },
    {
     "name": "stdout",
     "output_type": "stream",
     "text": [
      "\n"
     ]
    },
    {
     "name": "stdout",
     "output_type": "stream",
     "text": [
      "The 2020 Q1 dataframe has 426887 rows in 8 columns: ride_id, started_at, ended_at, start_station_name, start_station_id, end_station_name, end_station_id, member_casual \n"
     ]
    }
   ],
   "source": [
    "display_dimensions(q1_2019, \"2019 Q1\")\n",
    "cat(\"\\n\")\n",
    "display_dimensions(q1_2020, \"2020 Q1\")"
   ]
  },
  {
   "cell_type": "markdown",
   "id": "83073da6",
   "metadata": {
    "papermill": {
     "duration": 0.012188,
     "end_time": "2025-06-04T10:13:48.774778",
     "exception": false,
     "start_time": "2025-06-04T10:13:48.762590",
     "status": "completed"
    },
    "tags": []
   },
   "source": [
    "Create `display_column_types` function to inspect the types of the columns in a dataset."
   ]
  },
  {
   "cell_type": "code",
   "execution_count": 8,
   "id": "2064fea9",
   "metadata": {
    "execution": {
     "iopub.execute_input": "2025-06-04T10:13:48.809060Z",
     "iopub.status.busy": "2025-06-04T10:13:48.807130Z",
     "iopub.status.idle": "2025-06-04T10:13:48.819088Z",
     "shell.execute_reply": "2025-06-04T10:13:48.817700Z"
    },
    "papermill": {
     "duration": 0.031233,
     "end_time": "2025-06-04T10:13:48.821596",
     "exception": false,
     "start_time": "2025-06-04T10:13:48.790363",
     "status": "completed"
    },
    "tags": []
   },
   "outputs": [],
   "source": [
    "display_column_types <- function(df, df_name) {\n",
    "    cat(\"Types of columns in\", df_name, \"dataframe:\\n\")\n",
    "    sapply(df, class)\n",
    "}"
   ]
  },
  {
   "cell_type": "markdown",
   "id": "d0328bdb",
   "metadata": {
    "papermill": {
     "duration": 0.012468,
     "end_time": "2025-06-04T10:13:48.846831",
     "exception": false,
     "start_time": "2025-06-04T10:13:48.834363",
     "status": "completed"
    },
    "tags": []
   },
   "source": [
    "Inspect the types of the columns in both datasets to identify any discrepancies that may affect the analysis."
   ]
  },
  {
   "cell_type": "code",
   "execution_count": 9,
   "id": "3f6446db",
   "metadata": {
    "execution": {
     "iopub.execute_input": "2025-06-04T10:13:48.873697Z",
     "iopub.status.busy": "2025-06-04T10:13:48.872348Z",
     "iopub.status.idle": "2025-06-04T10:13:48.919287Z",
     "shell.execute_reply": "2025-06-04T10:13:48.916927Z"
    },
    "papermill": {
     "duration": 0.063477,
     "end_time": "2025-06-04T10:13:48.922231",
     "exception": false,
     "start_time": "2025-06-04T10:13:48.858754",
     "status": "completed"
    },
    "tags": []
   },
   "outputs": [
    {
     "name": "stdout",
     "output_type": "stream",
     "text": [
      "Types of columns in 2019 Q1 dataframe:\n"
     ]
    },
    {
     "data": {
      "text/html": [
       "<dl>\n",
       "\t<dt>$ride_id</dt>\n",
       "\t\t<dd>'numeric'</dd>\n",
       "\t<dt>$started_at</dt>\n",
       "\t\t<dd><style>\n",
       ".list-inline {list-style: none; margin:0; padding: 0}\n",
       ".list-inline>li {display: inline-block}\n",
       ".list-inline>li:not(:last-child)::after {content: \"\\00b7\"; padding: 0 .5ex}\n",
       "</style>\n",
       "<ol class=list-inline><li>'POSIXct'</li><li>'POSIXt'</li></ol>\n",
       "</dd>\n",
       "\t<dt>$ended_at</dt>\n",
       "\t\t<dd><style>\n",
       ".list-inline {list-style: none; margin:0; padding: 0}\n",
       ".list-inline>li {display: inline-block}\n",
       ".list-inline>li:not(:last-child)::after {content: \"\\00b7\"; padding: 0 .5ex}\n",
       "</style>\n",
       "<ol class=list-inline><li>'POSIXct'</li><li>'POSIXt'</li></ol>\n",
       "</dd>\n",
       "\t<dt>$start_station_id</dt>\n",
       "\t\t<dd>'numeric'</dd>\n",
       "\t<dt>$start_station_name</dt>\n",
       "\t\t<dd>'character'</dd>\n",
       "\t<dt>$end_station_id</dt>\n",
       "\t\t<dd>'numeric'</dd>\n",
       "\t<dt>$end_station_name</dt>\n",
       "\t\t<dd>'character'</dd>\n",
       "\t<dt>$member_casual</dt>\n",
       "\t\t<dd>'character'</dd>\n",
       "</dl>\n"
      ],
      "text/latex": [
       "\\begin{description}\n",
       "\\item[\\$ride\\_id] 'numeric'\n",
       "\\item[\\$started\\_at] \\begin{enumerate*}\n",
       "\\item 'POSIXct'\n",
       "\\item 'POSIXt'\n",
       "\\end{enumerate*}\n",
       "\n",
       "\\item[\\$ended\\_at] \\begin{enumerate*}\n",
       "\\item 'POSIXct'\n",
       "\\item 'POSIXt'\n",
       "\\end{enumerate*}\n",
       "\n",
       "\\item[\\$start\\_station\\_id] 'numeric'\n",
       "\\item[\\$start\\_station\\_name] 'character'\n",
       "\\item[\\$end\\_station\\_id] 'numeric'\n",
       "\\item[\\$end\\_station\\_name] 'character'\n",
       "\\item[\\$member\\_casual] 'character'\n",
       "\\end{description}\n"
      ],
      "text/markdown": [
       "$ride_id\n",
       ":   'numeric'\n",
       "$started_at\n",
       ":   1. 'POSIXct'\n",
       "2. 'POSIXt'\n",
       "\n",
       "\n",
       "\n",
       "$ended_at\n",
       ":   1. 'POSIXct'\n",
       "2. 'POSIXt'\n",
       "\n",
       "\n",
       "\n",
       "$start_station_id\n",
       ":   'numeric'\n",
       "$start_station_name\n",
       ":   'character'\n",
       "$end_station_id\n",
       ":   'numeric'\n",
       "$end_station_name\n",
       ":   'character'\n",
       "$member_casual\n",
       ":   'character'\n",
       "\n",
       "\n"
      ],
      "text/plain": [
       "$ride_id\n",
       "[1] \"numeric\"\n",
       "\n",
       "$started_at\n",
       "[1] \"POSIXct\" \"POSIXt\" \n",
       "\n",
       "$ended_at\n",
       "[1] \"POSIXct\" \"POSIXt\" \n",
       "\n",
       "$start_station_id\n",
       "[1] \"numeric\"\n",
       "\n",
       "$start_station_name\n",
       "[1] \"character\"\n",
       "\n",
       "$end_station_id\n",
       "[1] \"numeric\"\n",
       "\n",
       "$end_station_name\n",
       "[1] \"character\"\n",
       "\n",
       "$member_casual\n",
       "[1] \"character\"\n"
      ]
     },
     "metadata": {},
     "output_type": "display_data"
    },
    {
     "name": "stdout",
     "output_type": "stream",
     "text": [
      "\n"
     ]
    },
    {
     "name": "stdout",
     "output_type": "stream",
     "text": [
      "Types of columns in 2020 Q1 dataframe:\n"
     ]
    },
    {
     "data": {
      "text/html": [
       "<dl>\n",
       "\t<dt>$ride_id</dt>\n",
       "\t\t<dd>'character'</dd>\n",
       "\t<dt>$started_at</dt>\n",
       "\t\t<dd><style>\n",
       ".list-inline {list-style: none; margin:0; padding: 0}\n",
       ".list-inline>li {display: inline-block}\n",
       ".list-inline>li:not(:last-child)::after {content: \"\\00b7\"; padding: 0 .5ex}\n",
       "</style>\n",
       "<ol class=list-inline><li>'POSIXct'</li><li>'POSIXt'</li></ol>\n",
       "</dd>\n",
       "\t<dt>$ended_at</dt>\n",
       "\t\t<dd><style>\n",
       ".list-inline {list-style: none; margin:0; padding: 0}\n",
       ".list-inline>li {display: inline-block}\n",
       ".list-inline>li:not(:last-child)::after {content: \"\\00b7\"; padding: 0 .5ex}\n",
       "</style>\n",
       "<ol class=list-inline><li>'POSIXct'</li><li>'POSIXt'</li></ol>\n",
       "</dd>\n",
       "\t<dt>$start_station_name</dt>\n",
       "\t\t<dd>'character'</dd>\n",
       "\t<dt>$start_station_id</dt>\n",
       "\t\t<dd>'numeric'</dd>\n",
       "\t<dt>$end_station_name</dt>\n",
       "\t\t<dd>'character'</dd>\n",
       "\t<dt>$end_station_id</dt>\n",
       "\t\t<dd>'numeric'</dd>\n",
       "\t<dt>$member_casual</dt>\n",
       "\t\t<dd>'character'</dd>\n",
       "</dl>\n"
      ],
      "text/latex": [
       "\\begin{description}\n",
       "\\item[\\$ride\\_id] 'character'\n",
       "\\item[\\$started\\_at] \\begin{enumerate*}\n",
       "\\item 'POSIXct'\n",
       "\\item 'POSIXt'\n",
       "\\end{enumerate*}\n",
       "\n",
       "\\item[\\$ended\\_at] \\begin{enumerate*}\n",
       "\\item 'POSIXct'\n",
       "\\item 'POSIXt'\n",
       "\\end{enumerate*}\n",
       "\n",
       "\\item[\\$start\\_station\\_name] 'character'\n",
       "\\item[\\$start\\_station\\_id] 'numeric'\n",
       "\\item[\\$end\\_station\\_name] 'character'\n",
       "\\item[\\$end\\_station\\_id] 'numeric'\n",
       "\\item[\\$member\\_casual] 'character'\n",
       "\\end{description}\n"
      ],
      "text/markdown": [
       "$ride_id\n",
       ":   'character'\n",
       "$started_at\n",
       ":   1. 'POSIXct'\n",
       "2. 'POSIXt'\n",
       "\n",
       "\n",
       "\n",
       "$ended_at\n",
       ":   1. 'POSIXct'\n",
       "2. 'POSIXt'\n",
       "\n",
       "\n",
       "\n",
       "$start_station_name\n",
       ":   'character'\n",
       "$start_station_id\n",
       ":   'numeric'\n",
       "$end_station_name\n",
       ":   'character'\n",
       "$end_station_id\n",
       ":   'numeric'\n",
       "$member_casual\n",
       ":   'character'\n",
       "\n",
       "\n"
      ],
      "text/plain": [
       "$ride_id\n",
       "[1] \"character\"\n",
       "\n",
       "$started_at\n",
       "[1] \"POSIXct\" \"POSIXt\" \n",
       "\n",
       "$ended_at\n",
       "[1] \"POSIXct\" \"POSIXt\" \n",
       "\n",
       "$start_station_name\n",
       "[1] \"character\"\n",
       "\n",
       "$start_station_id\n",
       "[1] \"numeric\"\n",
       "\n",
       "$end_station_name\n",
       "[1] \"character\"\n",
       "\n",
       "$end_station_id\n",
       "[1] \"numeric\"\n",
       "\n",
       "$member_casual\n",
       "[1] \"character\"\n"
      ]
     },
     "metadata": {},
     "output_type": "display_data"
    }
   ],
   "source": [
    "display_column_types(q1_2019, \"2019 Q1\")\n",
    "cat(\"\\n\")\n",
    "display_column_types(q1_2020, \"2020 Q1\")"
   ]
  },
  {
   "cell_type": "markdown",
   "id": "e0a16a6d",
   "metadata": {
    "papermill": {
     "duration": 0.012335,
     "end_time": "2025-06-04T10:13:48.947723",
     "exception": false,
     "start_time": "2025-06-04T10:13:48.935388",
     "status": "completed"
    },
    "tags": []
   },
   "source": [
    "The `ride_id` column in the 2019 Q1 dataset is of type `integer`, while in the 2020 Q1 dataset it is of type `character`. To ensure consistency, I will convert this column in the 2019 Q1 dataset to `character` type."
   ]
  },
  {
   "cell_type": "code",
   "execution_count": 10,
   "id": "a5111752",
   "metadata": {
    "execution": {
     "iopub.execute_input": "2025-06-04T10:13:48.974789Z",
     "iopub.status.busy": "2025-06-04T10:13:48.973022Z",
     "iopub.status.idle": "2025-06-04T10:13:48.996234Z",
     "shell.execute_reply": "2025-06-04T10:13:48.994498Z"
    },
    "papermill": {
     "duration": 0.039668,
     "end_time": "2025-06-04T10:13:48.999108",
     "exception": false,
     "start_time": "2025-06-04T10:13:48.959440",
     "status": "completed"
    },
    "tags": []
   },
   "outputs": [],
   "source": [
    "q1_2019 <- q1_2019 %>%\n",
    "  mutate(\n",
    "    ride_id = as.character(ride_id)\n",
    "  )"
   ]
  },
  {
   "cell_type": "markdown",
   "id": "bfe1afc4",
   "metadata": {
    "papermill": {
     "duration": 0.011758,
     "end_time": "2025-06-04T10:13:49.022653",
     "exception": false,
     "start_time": "2025-06-04T10:13:49.010895",
     "status": "completed"
    },
    "tags": []
   },
   "source": [
    "Inspect the structure of both datasets. This will help verify that the data types and column names are consistent across both datasets."
   ]
  },
  {
   "cell_type": "code",
   "execution_count": 11,
   "id": "edbc095d",
   "metadata": {
    "execution": {
     "iopub.execute_input": "2025-06-04T10:13:49.049832Z",
     "iopub.status.busy": "2025-06-04T10:13:49.048202Z",
     "iopub.status.idle": "2025-06-04T10:13:49.105314Z",
     "shell.execute_reply": "2025-06-04T10:13:49.103072Z"
    },
    "papermill": {
     "duration": 0.072915,
     "end_time": "2025-06-04T10:13:49.107507",
     "exception": false,
     "start_time": "2025-06-04T10:13:49.034592",
     "status": "completed"
    },
    "tags": []
   },
   "outputs": [
    {
     "name": "stdout",
     "output_type": "stream",
     "text": [
      "The structure of 2019 Q1 dataframe:\n"
     ]
    },
    {
     "name": "stdout",
     "output_type": "stream",
     "text": [
      "tibble [365,069 × 8] (S3: tbl_df/tbl/data.frame)\n",
      " $ ride_id           : chr [1:365069] \"21742443\" \"21742444\" \"21742445\" \"21742446\" ...\n",
      " $ started_at        : POSIXct[1:365069], format: \"2019-01-01 00:04:37\" \"2019-01-01 00:08:13\" ...\n",
      " $ ended_at          : POSIXct[1:365069], format: \"2019-01-01 00:11:07\" \"2019-01-01 00:15:34\" ...\n",
      " $ start_station_id  : num [1:365069] 199 44 15 123 173 98 98 211 150 268 ...\n",
      " $ start_station_name: chr [1:365069] \"Wabash Ave & Grand Ave\" \"State St & Randolph St\" \"Racine Ave & 18th St\" \"California Ave & Milwaukee Ave\" ...\n",
      " $ end_station_id    : num [1:365069] 84 624 644 176 35 49 49 142 148 141 ...\n",
      " $ end_station_name  : chr [1:365069] \"Milwaukee Ave & Grand Ave\" \"Dearborn St & Van Buren St (*)\" \"Western Ave & Fillmore St (*)\" \"Clark St & Elm St\" ...\n",
      " $ member_casual     : chr [1:365069] \"Subscriber\" \"Subscriber\" \"Subscriber\" \"Subscriber\" ...\n"
     ]
    },
    {
     "name": "stdout",
     "output_type": "stream",
     "text": [
      "\n"
     ]
    },
    {
     "name": "stdout",
     "output_type": "stream",
     "text": [
      "The structure of 2020 Q1 dataframe:\n"
     ]
    },
    {
     "name": "stdout",
     "output_type": "stream",
     "text": [
      "tibble [426,887 × 8] (S3: tbl_df/tbl/data.frame)\n",
      " $ ride_id           : chr [1:426887] \"EACB19130B0CDA4A\" \"8FED874C809DC021\" \"789F3C21E472CA96\" \"C9A388DAC6ABF313\" ...\n",
      " $ started_at        : POSIXct[1:426887], format: \"2020-01-21 20:06:59\" \"2020-01-30 14:22:39\" ...\n",
      " $ ended_at          : POSIXct[1:426887], format: \"2020-01-21 20:14:30\" \"2020-01-30 14:26:22\" ...\n",
      " $ start_station_name: chr [1:426887] \"Western Ave & Leland Ave\" \"Clark St & Montrose Ave\" \"Broadway & Belmont Ave\" \"Clark St & Randolph St\" ...\n",
      " $ start_station_id  : num [1:426887] 239 234 296 51 66 212 96 96 212 38 ...\n",
      " $ end_station_name  : chr [1:426887] \"Clark St & Leland Ave\" \"Southport Ave & Irving Park Rd\" \"Wilton Ave & Belmont Ave\" \"Fairbanks Ct & Grand Ave\" ...\n",
      " $ end_station_id    : num [1:426887] 326 318 117 24 212 96 212 212 96 100 ...\n",
      " $ member_casual     : chr [1:426887] \"member\" \"member\" \"member\" \"member\" ...\n"
     ]
    }
   ],
   "source": [
    "cat(\"The structure of 2019 Q1 dataframe:\\n\")\n",
    "str(q1_2019)\n",
    "cat(\"\\n\")\n",
    "cat(\"The structure of 2020 Q1 dataframe:\\n\")\n",
    "str(q1_2020)"
   ]
  },
  {
   "cell_type": "markdown",
   "id": "e9d67dc3",
   "metadata": {
    "papermill": {
     "duration": 0.011999,
     "end_time": "2025-06-04T10:13:49.131899",
     "exception": false,
     "start_time": "2025-06-04T10:13:49.119900",
     "status": "completed"
    },
    "tags": []
   },
   "source": [
    "There are some entries in `end_station_name` column of 2019 Q1 dataset with \"(*)\". We will check if these are valid data by matching the unique number of Station IDs and Station names in each dataset."
   ]
  },
  {
   "cell_type": "code",
   "execution_count": 12,
   "id": "c986ed5e",
   "metadata": {
    "execution": {
     "iopub.execute_input": "2025-06-04T10:13:49.160879Z",
     "iopub.status.busy": "2025-06-04T10:13:49.159012Z",
     "iopub.status.idle": "2025-06-04T10:13:49.560283Z",
     "shell.execute_reply": "2025-06-04T10:13:49.558909Z"
    },
    "papermill": {
     "duration": 0.418677,
     "end_time": "2025-06-04T10:13:49.562616",
     "exception": false,
     "start_time": "2025-06-04T10:13:49.143939",
     "status": "completed"
    },
    "tags": []
   },
   "outputs": [
    {
     "name": "stdout",
     "output_type": "stream",
     "text": [
      "The  2019 Q1  dataframe has trips started from 594 Station IDs and 594 Station Names.\n",
      "The  2019 Q1  dataframe has trips ended at 600 Station IDs and 600 Station Names.\n"
     ]
    },
    {
     "name": "stdout",
     "output_type": "stream",
     "text": [
      "\n"
     ]
    },
    {
     "name": "stdout",
     "output_type": "stream",
     "text": [
      "The  2020 Q1  dataframe has trips started from 607 Station IDs and 607 Station Names.\n",
      "The  2020 Q1  dataframe has trips ended at 603 Station IDs and 603 Station Names.\n"
     ]
    }
   ],
   "source": [
    "# Create a function to display station counts.\n",
    "display_station_counts <- function(df, df_name) {\n",
    "    start_station_id_count = length(unique(df$start_station_id))\n",
    "    start_station_name_count = length(unique(df$start_station_name))\n",
    "    end_station_id_count = length(unique(df$end_station_id))\n",
    "    end_station_name_count = length(unique(df$end_station_name))\n",
    "    cat(\"The \", df_name, \" dataframe has trips started from\", \n",
    "        start_station_id_count, \"Station IDs and\", \n",
    "        start_station_name_count, \"Station Names.\\n\")\n",
    "    cat(\"The \", df_name, \" dataframe has trips ended at\", \n",
    "        end_station_id_count, \"Station IDs and\", \n",
    "        end_station_name_count, \"Station Names.\\n\")\n",
    "}\n",
    "\n",
    "display_station_counts(q1_2019, \"2019 Q1\")\n",
    "cat(\"\\n\")\n",
    "display_station_counts(q1_2020, \"2020 Q1\")"
   ]
  },
  {
   "cell_type": "markdown",
   "id": "cdcbfcb1",
   "metadata": {
    "papermill": {
     "duration": 0.012084,
     "end_time": "2025-06-04T10:13:49.587088",
     "exception": false,
     "start_time": "2025-06-04T10:13:49.575004",
     "status": "completed"
    },
    "tags": []
   },
   "source": [
    "The station counts matched.\n",
    "\n",
    "There is also a difference observed in the labels for rider types in the `member_casual` column between the two datasets. We will see what the labels are in each dataset."
   ]
  },
  {
   "cell_type": "code",
   "execution_count": 13,
   "id": "722ef055",
   "metadata": {
    "execution": {
     "iopub.execute_input": "2025-06-04T10:13:49.615340Z",
     "iopub.status.busy": "2025-06-04T10:13:49.613996Z",
     "iopub.status.idle": "2025-06-04T10:13:49.643832Z",
     "shell.execute_reply": "2025-06-04T10:13:49.641600Z"
    },
    "papermill": {
     "duration": 0.046337,
     "end_time": "2025-06-04T10:13:49.645890",
     "exception": false,
     "start_time": "2025-06-04T10:13:49.599553",
     "status": "completed"
    },
    "tags": []
   },
   "outputs": [
    {
     "name": "stdout",
     "output_type": "stream",
     "text": [
      "The rider types in 2019 Q1 dataframe: Subscriber, Customer \n"
     ]
    },
    {
     "name": "stdout",
     "output_type": "stream",
     "text": [
      "The rider types in 2020 Q1 dataframe: member, casual"
     ]
    }
   ],
   "source": [
    "cat(\"The rider types in 2019 Q1 dataframe:\", \n",
    "    paste(unique(q1_2019$member_casual), collapse = \", \"), \"\\n\")\n",
    "cat(\"The rider types in 2020 Q1 dataframe:\", \n",
    "    paste(unique(q1_2020$member_casual), collapse = \", \"))"
   ]
  },
  {
   "cell_type": "markdown",
   "id": "8fbe386a",
   "metadata": {
    "papermill": {
     "duration": 0.011949,
     "end_time": "2025-06-04T10:13:49.670466",
     "exception": false,
     "start_time": "2025-06-04T10:13:49.658517",
     "status": "completed"
    },
    "tags": []
   },
   "source": [
    "As the analysis focuses on the differences in bike usage patterns between annual members and casual riders, I will replace \"Subscriber\" with \"member\" and \"Customer\" with \"casual\" in the `member_casual` column in 2019 Q1 dataset. This will help standardize the rider types and make it easier to analyze the data."
   ]
  },
  {
   "cell_type": "code",
   "execution_count": 14,
   "id": "b1cf1d26",
   "metadata": {
    "execution": {
     "iopub.execute_input": "2025-06-04T10:13:49.697434Z",
     "iopub.status.busy": "2025-06-04T10:13:49.696004Z",
     "iopub.status.idle": "2025-06-04T10:13:49.740379Z",
     "shell.execute_reply": "2025-06-04T10:13:49.737506Z"
    },
    "papermill": {
     "duration": 0.062913,
     "end_time": "2025-06-04T10:13:49.745274",
     "exception": false,
     "start_time": "2025-06-04T10:13:49.682361",
     "status": "completed"
    },
    "tags": []
   },
   "outputs": [],
   "source": [
    "q1_2019 <- q1_2019 %>% \n",
    "    mutate(\n",
    "        member_casual = recode(\n",
    "            member_casual,\n",
    "            \"Subscriber\" = \"member\",\n",
    "            \"Customer\" = \"casual\"\n",
    "        )\n",
    "    )"
   ]
  },
  {
   "cell_type": "markdown",
   "id": "5b98ec28",
   "metadata": {
    "papermill": {
     "duration": 0.021214,
     "end_time": "2025-06-04T10:13:49.784604",
     "exception": false,
     "start_time": "2025-06-04T10:13:49.763390",
     "status": "completed"
    },
    "tags": []
   },
   "source": [
    "See the statistical summary of each dataset to understand the individual data better."
   ]
  },
  {
   "cell_type": "code",
   "execution_count": 15,
   "id": "6fd1cdfb",
   "metadata": {
    "execution": {
     "iopub.execute_input": "2025-06-04T10:13:49.818091Z",
     "iopub.status.busy": "2025-06-04T10:13:49.816464Z",
     "iopub.status.idle": "2025-06-04T10:13:50.029666Z",
     "shell.execute_reply": "2025-06-04T10:13:50.028528Z"
    },
    "papermill": {
     "duration": 0.22983,
     "end_time": "2025-06-04T10:13:50.031340",
     "exception": false,
     "start_time": "2025-06-04T10:13:49.801510",
     "status": "completed"
    },
    "tags": []
   },
   "outputs": [
    {
     "name": "stdout",
     "output_type": "stream",
     "text": [
      "The statistical summary of 2019 Q1 dataframe:"
     ]
    },
    {
     "data": {
      "text/plain": [
       "   ride_id            started_at                    \n",
       " Length:365069      Min.   :2019-01-01 00:04:37.00  \n",
       " Class :character   1st Qu.:2019-01-23 05:26:54.00  \n",
       " Mode  :character   Median :2019-02-25 07:52:56.00  \n",
       "                    Mean   :2019-02-19 21:43:15.42  \n",
       "                    3rd Qu.:2019-03-17 16:52:47.00  \n",
       "                    Max.   :2019-03-31 23:53:48.00  \n",
       "    ended_at                      start_station_id start_station_name\n",
       " Min.   :2019-01-01 00:11:07.00   Min.   :  2.0    Length:365069     \n",
       " 1st Qu.:2019-01-23 05:49:40.00   1st Qu.: 76.0    Class :character  \n",
       " Median :2019-02-25 08:03:50.00   Median :170.0    Mode  :character  \n",
       " Mean   :2019-02-19 22:00:11.91   Mean   :198.1                      \n",
       " 3rd Qu.:2019-03-17 17:16:16.00   3rd Qu.:287.0                      \n",
       " Max.   :2019-06-17 16:04:35.00   Max.   :665.0                      \n",
       " end_station_id  end_station_name   member_casual     \n",
       " Min.   :  2.0   Length:365069      Length:365069     \n",
       " 1st Qu.: 76.0   Class :character   Class :character  \n",
       " Median :168.0   Mode  :character   Mode  :character  \n",
       " Mean   :198.6                                        \n",
       " 3rd Qu.:287.0                                        \n",
       " Max.   :665.0                                        "
      ]
     },
     "metadata": {},
     "output_type": "display_data"
    },
    {
     "name": "stdout",
     "output_type": "stream",
     "text": [
      "---\n"
     ]
    },
    {
     "name": "stdout",
     "output_type": "stream",
     "text": [
      "The statistical summary of 2020 Q1 dataframe:"
     ]
    },
    {
     "data": {
      "text/plain": [
       "   ride_id            started_at                    \n",
       " Length:426887      Min.   :2020-01-01 00:04:44.00  \n",
       " Class :character   1st Qu.:2020-01-24 14:03:26.00  \n",
       " Mode  :character   Median :2020-02-17 05:01:27.00  \n",
       "                    Mean   :2020-02-14 01:23:18.51  \n",
       "                    3rd Qu.:2020-03-05 15:08:13.50  \n",
       "                    Max.   :2020-03-31 23:51:34.00  \n",
       "                                                    \n",
       "    ended_at                      start_station_name start_station_id\n",
       " Min.   :2020-01-01 00:10:54.00   Length:426887      Min.   :  2.0   \n",
       " 1st Qu.:2020-01-24 14:21:24.50   Class :character   1st Qu.: 77.0   \n",
       " Median :2020-02-17 05:48:58.00   Mode  :character   Median :176.0   \n",
       " Mean   :2020-02-14 01:45:25.43                      Mean   :209.8   \n",
       " 3rd Qu.:2020-03-05 15:27:54.00                      3rd Qu.:298.0   \n",
       " Max.   :2020-05-19 20:10:34.00                      Max.   :675.0   \n",
       "                                                                     \n",
       " end_station_name   end_station_id  member_casual     \n",
       " Length:426887      Min.   :  2.0   Length:426887     \n",
       " Class :character   1st Qu.: 77.0   Class :character  \n",
       " Mode  :character   Median :175.0   Mode  :character  \n",
       "                    Mean   :209.3                     \n",
       "                    3rd Qu.:297.0                     \n",
       "                    Max.   :675.0                     \n",
       "                    NA's   :1                         "
      ]
     },
     "metadata": {},
     "output_type": "display_data"
    }
   ],
   "source": [
    "cat(\"The statistical summary of 2019 Q1 dataframe:\")\n",
    "summary(q1_2019)\n",
    "cat(\"---\\n\")\n",
    "cat(\"The statistical summary of 2020 Q1 dataframe:\")\n",
    "summary(q1_2020)"
   ]
  },
  {
   "cell_type": "markdown",
   "id": "b665470b",
   "metadata": {
    "papermill": {
     "duration": 0.013331,
     "end_time": "2025-06-04T10:13:50.057841",
     "exception": false,
     "start_time": "2025-06-04T10:13:50.044510",
     "status": "completed"
    },
    "tags": []
   },
   "source": [
    "The `started_at` values of 2019 Q1 dataset are in between January 2019 and March 2019 only, and the `started_at` values of 2020 Q1 dataset are in between January 2020 and March 2020 only.\n",
    "\n",
    "There is one missing value in `end_station_id` of 2020 Q1 dataset. Remove this data entry."
   ]
  },
  {
   "cell_type": "code",
   "execution_count": 16,
   "id": "f0b8cda8",
   "metadata": {
    "execution": {
     "iopub.execute_input": "2025-06-04T10:13:50.087595Z",
     "iopub.status.busy": "2025-06-04T10:13:50.086255Z",
     "iopub.status.idle": "2025-06-04T10:13:50.119870Z",
     "shell.execute_reply": "2025-06-04T10:13:50.118663Z"
    },
    "papermill": {
     "duration": 0.050927,
     "end_time": "2025-06-04T10:13:50.122708",
     "exception": false,
     "start_time": "2025-06-04T10:13:50.071781",
     "status": "completed"
    },
    "tags": []
   },
   "outputs": [
    {
     "name": "stdout",
     "output_type": "stream",
     "text": [
      "1 row with missing end_station_id is removed"
     ]
    }
   ],
   "source": [
    "initial_count <- nrow(q1_2020)\n",
    "q1_2020 <- q1_2020 %>%\n",
    "    filter(!is.na(end_station_id))\n",
    "cat(initial_count - nrow(q1_2020), \n",
    "    \"row with missing end_station_id is removed\")"
   ]
  },
  {
   "cell_type": "markdown",
   "id": "53e61e68",
   "metadata": {
    "papermill": {
     "duration": 0.011713,
     "end_time": "2025-06-04T10:13:50.147351",
     "exception": false,
     "start_time": "2025-06-04T10:13:50.135638",
     "status": "completed"
    },
    "tags": []
   },
   "source": [
    "As datasets are ready, combine the two datasets into a single dataset for further analysis."
   ]
  },
  {
   "cell_type": "code",
   "execution_count": 17,
   "id": "cfc3a71d",
   "metadata": {
    "execution": {
     "iopub.execute_input": "2025-06-04T10:13:50.174164Z",
     "iopub.status.busy": "2025-06-04T10:13:50.172888Z",
     "iopub.status.idle": "2025-06-04T10:13:51.071865Z",
     "shell.execute_reply": "2025-06-04T10:13:51.070320Z"
    },
    "papermill": {
     "duration": 0.914562,
     "end_time": "2025-06-04T10:13:51.073837",
     "exception": false,
     "start_time": "2025-06-04T10:13:50.159275",
     "status": "completed"
    },
    "tags": []
   },
   "outputs": [],
   "source": [
    "all_trips <- bind_rows(q1_2019, q1_2020)"
   ]
  },
  {
   "cell_type": "markdown",
   "id": "ec411b34",
   "metadata": {
    "papermill": {
     "duration": 0.012668,
     "end_time": "2025-06-04T10:13:51.099492",
     "exception": false,
     "start_time": "2025-06-04T10:13:51.086824",
     "status": "completed"
    },
    "tags": []
   },
   "source": [
    "Remove duplicate entries if any exist."
   ]
  },
  {
   "cell_type": "code",
   "execution_count": 18,
   "id": "27efb8c9",
   "metadata": {
    "execution": {
     "iopub.execute_input": "2025-06-04T10:13:51.138181Z",
     "iopub.status.busy": "2025-06-04T10:13:51.135296Z",
     "iopub.status.idle": "2025-06-04T10:13:51.622586Z",
     "shell.execute_reply": "2025-06-04T10:13:51.621236Z"
    },
    "papermill": {
     "duration": 0.512877,
     "end_time": "2025-06-04T10:13:51.624918",
     "exception": false,
     "start_time": "2025-06-04T10:13:51.112041",
     "status": "completed"
    },
    "tags": []
   },
   "outputs": [
    {
     "name": "stdout",
     "output_type": "stream",
     "text": [
      "0 entries with duplicate data are removed."
     ]
    }
   ],
   "source": [
    "initial_count <- nrow(all_trips)\n",
    "all_trips <- distinct(all_trips)\n",
    "cat(initial_count - nrow(all_trips), \n",
    "    \"entries with duplicate data are removed.\")"
   ]
  },
  {
   "cell_type": "markdown",
   "id": "6e862aa9",
   "metadata": {
    "papermill": {
     "duration": 0.012457,
     "end_time": "2025-06-04T10:13:51.650533",
     "exception": false,
     "start_time": "2025-06-04T10:13:51.638076",
     "status": "completed"
    },
    "tags": []
   },
   "source": [
    "How many rows and columns are in the dataset?"
   ]
  },
  {
   "cell_type": "code",
   "execution_count": 19,
   "id": "09adee45",
   "metadata": {
    "execution": {
     "iopub.execute_input": "2025-06-04T10:13:51.697469Z",
     "iopub.status.busy": "2025-06-04T10:13:51.694998Z",
     "iopub.status.idle": "2025-06-04T10:13:51.718431Z",
     "shell.execute_reply": "2025-06-04T10:13:51.716646Z"
    },
    "papermill": {
     "duration": 0.054155,
     "end_time": "2025-06-04T10:13:51.720915",
     "exception": false,
     "start_time": "2025-06-04T10:13:51.666760",
     "status": "completed"
    },
    "tags": []
   },
   "outputs": [
    {
     "name": "stdout",
     "output_type": "stream",
     "text": [
      "The All Trips dataframe has 791955 rows in 8 columns: ride_id, started_at, ended_at, start_station_id, start_station_name, end_station_id, end_station_name, member_casual \n"
     ]
    }
   ],
   "source": [
    "display_dimensions(all_trips, \"All Trips\")"
   ]
  },
  {
   "cell_type": "markdown",
   "id": "19d7e48d",
   "metadata": {
    "papermill": {
     "duration": 0.015195,
     "end_time": "2025-06-04T10:13:51.751276",
     "exception": false,
     "start_time": "2025-06-04T10:13:51.736081",
     "status": "completed"
    },
    "tags": []
   },
   "source": [
    "What are the coulmn types in the dataset?"
   ]
  },
  {
   "cell_type": "code",
   "execution_count": 20,
   "id": "52b5444c",
   "metadata": {
    "execution": {
     "iopub.execute_input": "2025-06-04T10:13:51.782434Z",
     "iopub.status.busy": "2025-06-04T10:13:51.780986Z",
     "iopub.status.idle": "2025-06-04T10:13:51.801552Z",
     "shell.execute_reply": "2025-06-04T10:13:51.799150Z"
    },
    "papermill": {
     "duration": 0.040235,
     "end_time": "2025-06-04T10:13:51.804288",
     "exception": false,
     "start_time": "2025-06-04T10:13:51.764053",
     "status": "completed"
    },
    "tags": []
   },
   "outputs": [
    {
     "name": "stdout",
     "output_type": "stream",
     "text": [
      "Types of columns in All Trips dataframe:\n"
     ]
    },
    {
     "data": {
      "text/html": [
       "<dl>\n",
       "\t<dt>$ride_id</dt>\n",
       "\t\t<dd>'character'</dd>\n",
       "\t<dt>$started_at</dt>\n",
       "\t\t<dd><style>\n",
       ".list-inline {list-style: none; margin:0; padding: 0}\n",
       ".list-inline>li {display: inline-block}\n",
       ".list-inline>li:not(:last-child)::after {content: \"\\00b7\"; padding: 0 .5ex}\n",
       "</style>\n",
       "<ol class=list-inline><li>'POSIXct'</li><li>'POSIXt'</li></ol>\n",
       "</dd>\n",
       "\t<dt>$ended_at</dt>\n",
       "\t\t<dd><style>\n",
       ".list-inline {list-style: none; margin:0; padding: 0}\n",
       ".list-inline>li {display: inline-block}\n",
       ".list-inline>li:not(:last-child)::after {content: \"\\00b7\"; padding: 0 .5ex}\n",
       "</style>\n",
       "<ol class=list-inline><li>'POSIXct'</li><li>'POSIXt'</li></ol>\n",
       "</dd>\n",
       "\t<dt>$start_station_id</dt>\n",
       "\t\t<dd>'numeric'</dd>\n",
       "\t<dt>$start_station_name</dt>\n",
       "\t\t<dd>'character'</dd>\n",
       "\t<dt>$end_station_id</dt>\n",
       "\t\t<dd>'numeric'</dd>\n",
       "\t<dt>$end_station_name</dt>\n",
       "\t\t<dd>'character'</dd>\n",
       "\t<dt>$member_casual</dt>\n",
       "\t\t<dd>'character'</dd>\n",
       "</dl>\n"
      ],
      "text/latex": [
       "\\begin{description}\n",
       "\\item[\\$ride\\_id] 'character'\n",
       "\\item[\\$started\\_at] \\begin{enumerate*}\n",
       "\\item 'POSIXct'\n",
       "\\item 'POSIXt'\n",
       "\\end{enumerate*}\n",
       "\n",
       "\\item[\\$ended\\_at] \\begin{enumerate*}\n",
       "\\item 'POSIXct'\n",
       "\\item 'POSIXt'\n",
       "\\end{enumerate*}\n",
       "\n",
       "\\item[\\$start\\_station\\_id] 'numeric'\n",
       "\\item[\\$start\\_station\\_name] 'character'\n",
       "\\item[\\$end\\_station\\_id] 'numeric'\n",
       "\\item[\\$end\\_station\\_name] 'character'\n",
       "\\item[\\$member\\_casual] 'character'\n",
       "\\end{description}\n"
      ],
      "text/markdown": [
       "$ride_id\n",
       ":   'character'\n",
       "$started_at\n",
       ":   1. 'POSIXct'\n",
       "2. 'POSIXt'\n",
       "\n",
       "\n",
       "\n",
       "$ended_at\n",
       ":   1. 'POSIXct'\n",
       "2. 'POSIXt'\n",
       "\n",
       "\n",
       "\n",
       "$start_station_id\n",
       ":   'numeric'\n",
       "$start_station_name\n",
       ":   'character'\n",
       "$end_station_id\n",
       ":   'numeric'\n",
       "$end_station_name\n",
       ":   'character'\n",
       "$member_casual\n",
       ":   'character'\n",
       "\n",
       "\n"
      ],
      "text/plain": [
       "$ride_id\n",
       "[1] \"character\"\n",
       "\n",
       "$started_at\n",
       "[1] \"POSIXct\" \"POSIXt\" \n",
       "\n",
       "$ended_at\n",
       "[1] \"POSIXct\" \"POSIXt\" \n",
       "\n",
       "$start_station_id\n",
       "[1] \"numeric\"\n",
       "\n",
       "$start_station_name\n",
       "[1] \"character\"\n",
       "\n",
       "$end_station_id\n",
       "[1] \"numeric\"\n",
       "\n",
       "$end_station_name\n",
       "[1] \"character\"\n",
       "\n",
       "$member_casual\n",
       "[1] \"character\"\n"
      ]
     },
     "metadata": {},
     "output_type": "display_data"
    }
   ],
   "source": [
    "display_column_types(all_trips, \"All Trips\")"
   ]
  },
  {
   "cell_type": "markdown",
   "id": "5c1e85b9",
   "metadata": {
    "papermill": {
     "duration": 0.012358,
     "end_time": "2025-06-04T10:13:51.829537",
     "exception": false,
     "start_time": "2025-06-04T10:13:51.817179",
     "status": "completed"
    },
    "tags": []
   },
   "source": [
    "See the first 6 rows of the dataset."
   ]
  },
  {
   "cell_type": "code",
   "execution_count": 21,
   "id": "0d138838",
   "metadata": {
    "execution": {
     "iopub.execute_input": "2025-06-04T10:13:51.857264Z",
     "iopub.status.busy": "2025-06-04T10:13:51.856015Z",
     "iopub.status.idle": "2025-06-04T10:13:51.886160Z",
     "shell.execute_reply": "2025-06-04T10:13:51.884204Z"
    },
    "papermill": {
     "duration": 0.046318,
     "end_time": "2025-06-04T10:13:51.888356",
     "exception": false,
     "start_time": "2025-06-04T10:13:51.842038",
     "status": "completed"
    },
    "tags": []
   },
   "outputs": [
    {
     "data": {
      "text/html": [
       "<table class=\"dataframe\">\n",
       "<caption>A tibble: 6 × 8</caption>\n",
       "<thead>\n",
       "\t<tr><th scope=col>ride_id</th><th scope=col>started_at</th><th scope=col>ended_at</th><th scope=col>start_station_id</th><th scope=col>start_station_name</th><th scope=col>end_station_id</th><th scope=col>end_station_name</th><th scope=col>member_casual</th></tr>\n",
       "\t<tr><th scope=col>&lt;chr&gt;</th><th scope=col>&lt;dttm&gt;</th><th scope=col>&lt;dttm&gt;</th><th scope=col>&lt;dbl&gt;</th><th scope=col>&lt;chr&gt;</th><th scope=col>&lt;dbl&gt;</th><th scope=col>&lt;chr&gt;</th><th scope=col>&lt;chr&gt;</th></tr>\n",
       "</thead>\n",
       "<tbody>\n",
       "\t<tr><td>21742443</td><td>2019-01-01 00:04:37</td><td>2019-01-01 00:11:07</td><td>199</td><td><span style=white-space:pre-wrap>Wabash Ave &amp; Grand Ave             </span></td><td> 84</td><td><span style=white-space:pre-wrap>Milwaukee Ave &amp; Grand Ave     </span></td><td>member</td></tr>\n",
       "\t<tr><td>21742444</td><td>2019-01-01 00:08:13</td><td>2019-01-01 00:15:34</td><td> 44</td><td><span style=white-space:pre-wrap>State St &amp; Randolph St             </span></td><td>624</td><td>Dearborn St &amp; Van Buren St (*)</td><td>member</td></tr>\n",
       "\t<tr><td>21742445</td><td>2019-01-01 00:13:23</td><td>2019-01-01 00:27:12</td><td> 15</td><td><span style=white-space:pre-wrap>Racine Ave &amp; 18th St               </span></td><td>644</td><td>Western Ave &amp; Fillmore St (*) </td><td>member</td></tr>\n",
       "\t<tr><td>21742446</td><td>2019-01-01 00:13:45</td><td>2019-01-01 00:43:28</td><td>123</td><td><span style=white-space:pre-wrap>California Ave &amp; Milwaukee Ave     </span></td><td>176</td><td><span style=white-space:pre-wrap>Clark St &amp; Elm St             </span></td><td>member</td></tr>\n",
       "\t<tr><td>21742447</td><td>2019-01-01 00:14:52</td><td>2019-01-01 00:20:56</td><td>173</td><td>Mies van der Rohe Way &amp; Chicago Ave</td><td> 35</td><td><span style=white-space:pre-wrap>Streeter Dr &amp; Grand Ave       </span></td><td>member</td></tr>\n",
       "\t<tr><td>21742448</td><td>2019-01-01 00:15:33</td><td>2019-01-01 00:19:09</td><td> 98</td><td><span style=white-space:pre-wrap>LaSalle St &amp; Washington St         </span></td><td> 49</td><td><span style=white-space:pre-wrap>Dearborn St &amp; Monroe St       </span></td><td>member</td></tr>\n",
       "</tbody>\n",
       "</table>\n"
      ],
      "text/latex": [
       "A tibble: 6 × 8\n",
       "\\begin{tabular}{llllllll}\n",
       " ride\\_id & started\\_at & ended\\_at & start\\_station\\_id & start\\_station\\_name & end\\_station\\_id & end\\_station\\_name & member\\_casual\\\\\n",
       " <chr> & <dttm> & <dttm> & <dbl> & <chr> & <dbl> & <chr> & <chr>\\\\\n",
       "\\hline\n",
       "\t 21742443 & 2019-01-01 00:04:37 & 2019-01-01 00:11:07 & 199 & Wabash Ave \\& Grand Ave              &  84 & Milwaukee Ave \\& Grand Ave      & member\\\\\n",
       "\t 21742444 & 2019-01-01 00:08:13 & 2019-01-01 00:15:34 &  44 & State St \\& Randolph St              & 624 & Dearborn St \\& Van Buren St (*) & member\\\\\n",
       "\t 21742445 & 2019-01-01 00:13:23 & 2019-01-01 00:27:12 &  15 & Racine Ave \\& 18th St                & 644 & Western Ave \\& Fillmore St (*)  & member\\\\\n",
       "\t 21742446 & 2019-01-01 00:13:45 & 2019-01-01 00:43:28 & 123 & California Ave \\& Milwaukee Ave      & 176 & Clark St \\& Elm St              & member\\\\\n",
       "\t 21742447 & 2019-01-01 00:14:52 & 2019-01-01 00:20:56 & 173 & Mies van der Rohe Way \\& Chicago Ave &  35 & Streeter Dr \\& Grand Ave        & member\\\\\n",
       "\t 21742448 & 2019-01-01 00:15:33 & 2019-01-01 00:19:09 &  98 & LaSalle St \\& Washington St          &  49 & Dearborn St \\& Monroe St        & member\\\\\n",
       "\\end{tabular}\n"
      ],
      "text/markdown": [
       "\n",
       "A tibble: 6 × 8\n",
       "\n",
       "| ride_id &lt;chr&gt; | started_at &lt;dttm&gt; | ended_at &lt;dttm&gt; | start_station_id &lt;dbl&gt; | start_station_name &lt;chr&gt; | end_station_id &lt;dbl&gt; | end_station_name &lt;chr&gt; | member_casual &lt;chr&gt; |\n",
       "|---|---|---|---|---|---|---|---|\n",
       "| 21742443 | 2019-01-01 00:04:37 | 2019-01-01 00:11:07 | 199 | Wabash Ave &amp; Grand Ave              |  84 | Milwaukee Ave &amp; Grand Ave      | member |\n",
       "| 21742444 | 2019-01-01 00:08:13 | 2019-01-01 00:15:34 |  44 | State St &amp; Randolph St              | 624 | Dearborn St &amp; Van Buren St (*) | member |\n",
       "| 21742445 | 2019-01-01 00:13:23 | 2019-01-01 00:27:12 |  15 | Racine Ave &amp; 18th St                | 644 | Western Ave &amp; Fillmore St (*)  | member |\n",
       "| 21742446 | 2019-01-01 00:13:45 | 2019-01-01 00:43:28 | 123 | California Ave &amp; Milwaukee Ave      | 176 | Clark St &amp; Elm St              | member |\n",
       "| 21742447 | 2019-01-01 00:14:52 | 2019-01-01 00:20:56 | 173 | Mies van der Rohe Way &amp; Chicago Ave |  35 | Streeter Dr &amp; Grand Ave        | member |\n",
       "| 21742448 | 2019-01-01 00:15:33 | 2019-01-01 00:19:09 |  98 | LaSalle St &amp; Washington St          |  49 | Dearborn St &amp; Monroe St        | member |\n",
       "\n"
      ],
      "text/plain": [
       "  ride_id  started_at          ended_at            start_station_id\n",
       "1 21742443 2019-01-01 00:04:37 2019-01-01 00:11:07 199             \n",
       "2 21742444 2019-01-01 00:08:13 2019-01-01 00:15:34  44             \n",
       "3 21742445 2019-01-01 00:13:23 2019-01-01 00:27:12  15             \n",
       "4 21742446 2019-01-01 00:13:45 2019-01-01 00:43:28 123             \n",
       "5 21742447 2019-01-01 00:14:52 2019-01-01 00:20:56 173             \n",
       "6 21742448 2019-01-01 00:15:33 2019-01-01 00:19:09  98             \n",
       "  start_station_name                  end_station_id\n",
       "1 Wabash Ave & Grand Ave               84           \n",
       "2 State St & Randolph St              624           \n",
       "3 Racine Ave & 18th St                644           \n",
       "4 California Ave & Milwaukee Ave      176           \n",
       "5 Mies van der Rohe Way & Chicago Ave  35           \n",
       "6 LaSalle St & Washington St           49           \n",
       "  end_station_name               member_casual\n",
       "1 Milwaukee Ave & Grand Ave      member       \n",
       "2 Dearborn St & Van Buren St (*) member       \n",
       "3 Western Ave & Fillmore St (*)  member       \n",
       "4 Clark St & Elm St              member       \n",
       "5 Streeter Dr & Grand Ave        member       \n",
       "6 Dearborn St & Monroe St        member       "
      ]
     },
     "metadata": {},
     "output_type": "display_data"
    }
   ],
   "source": [
    "head(all_trips)"
   ]
  },
  {
   "cell_type": "markdown",
   "id": "411d8018",
   "metadata": {
    "papermill": {
     "duration": 0.015334,
     "end_time": "2025-06-04T10:13:51.916438",
     "exception": false,
     "start_time": "2025-06-04T10:13:51.901104",
     "status": "completed"
    },
    "tags": []
   },
   "source": [
    "Display the last six rows of the dataset."
   ]
  },
  {
   "cell_type": "code",
   "execution_count": 22,
   "id": "c8d6a7bf",
   "metadata": {
    "execution": {
     "iopub.execute_input": "2025-06-04T10:13:51.949300Z",
     "iopub.status.busy": "2025-06-04T10:13:51.947882Z",
     "iopub.status.idle": "2025-06-04T10:13:51.975812Z",
     "shell.execute_reply": "2025-06-04T10:13:51.973954Z"
    },
    "papermill": {
     "duration": 0.047241,
     "end_time": "2025-06-04T10:13:51.978057",
     "exception": false,
     "start_time": "2025-06-04T10:13:51.930816",
     "status": "completed"
    },
    "tags": []
   },
   "outputs": [
    {
     "data": {
      "text/html": [
       "<table class=\"dataframe\">\n",
       "<caption>A tibble: 6 × 8</caption>\n",
       "<thead>\n",
       "\t<tr><th scope=col>ride_id</th><th scope=col>started_at</th><th scope=col>ended_at</th><th scope=col>start_station_id</th><th scope=col>start_station_name</th><th scope=col>end_station_id</th><th scope=col>end_station_name</th><th scope=col>member_casual</th></tr>\n",
       "\t<tr><th scope=col>&lt;chr&gt;</th><th scope=col>&lt;dttm&gt;</th><th scope=col>&lt;dttm&gt;</th><th scope=col>&lt;dbl&gt;</th><th scope=col>&lt;chr&gt;</th><th scope=col>&lt;dbl&gt;</th><th scope=col>&lt;chr&gt;</th><th scope=col>&lt;chr&gt;</th></tr>\n",
       "</thead>\n",
       "<tbody>\n",
       "\t<tr><td>6F4D221BDDFD943F</td><td>2020-03-10 10:40:27</td><td>2020-03-10 10:40:29</td><td>675</td><td>HQ QR                    </td><td>675</td><td>HQ QR                       </td><td>casual</td></tr>\n",
       "\t<tr><td>ADDAA33CEBCAE733</td><td>2020-03-10 10:40:06</td><td>2020-03-10 10:40:07</td><td>675</td><td>HQ QR                    </td><td>675</td><td>HQ QR                       </td><td>casual</td></tr>\n",
       "\t<tr><td>82B10FA3994BC66A</td><td>2020-03-07 15:25:55</td><td>2020-03-07 16:14:03</td><td>161</td><td><span style=white-space:pre-wrap>Rush St &amp; Superior St    </span></td><td>240</td><td>Sheridan Rd &amp; Irving Park Rd</td><td>member</td></tr>\n",
       "\t<tr><td>AA0D5AAA0B59C8AA</td><td>2020-03-01 13:12:38</td><td>2020-03-01 13:38:29</td><td>141</td><td><span style=white-space:pre-wrap>Clark St &amp; Lincoln Ave   </span></td><td>210</td><td><span style=white-space:pre-wrap>Ashland Ave &amp; Division St   </span></td><td>casual</td></tr>\n",
       "\t<tr><td>3296360A7BC20FB8</td><td>2020-03-07 18:02:45</td><td>2020-03-07 18:13:18</td><td>672</td><td>Franklin St &amp; Illinois St</td><td>264</td><td>Stetson Ave &amp; South Water St</td><td>member</td></tr>\n",
       "\t<tr><td>064EC7698E4FF9B3</td><td>2020-03-08 13:03:57</td><td>2020-03-08 13:32:27</td><td>110</td><td><span style=white-space:pre-wrap>Dearborn St &amp; Erie St    </span></td><td> 85</td><td><span style=white-space:pre-wrap>Michigan Ave &amp; Oak St       </span></td><td>casual</td></tr>\n",
       "</tbody>\n",
       "</table>\n"
      ],
      "text/latex": [
       "A tibble: 6 × 8\n",
       "\\begin{tabular}{llllllll}\n",
       " ride\\_id & started\\_at & ended\\_at & start\\_station\\_id & start\\_station\\_name & end\\_station\\_id & end\\_station\\_name & member\\_casual\\\\\n",
       " <chr> & <dttm> & <dttm> & <dbl> & <chr> & <dbl> & <chr> & <chr>\\\\\n",
       "\\hline\n",
       "\t 6F4D221BDDFD943F & 2020-03-10 10:40:27 & 2020-03-10 10:40:29 & 675 & HQ QR                     & 675 & HQ QR                        & casual\\\\\n",
       "\t ADDAA33CEBCAE733 & 2020-03-10 10:40:06 & 2020-03-10 10:40:07 & 675 & HQ QR                     & 675 & HQ QR                        & casual\\\\\n",
       "\t 82B10FA3994BC66A & 2020-03-07 15:25:55 & 2020-03-07 16:14:03 & 161 & Rush St \\& Superior St     & 240 & Sheridan Rd \\& Irving Park Rd & member\\\\\n",
       "\t AA0D5AAA0B59C8AA & 2020-03-01 13:12:38 & 2020-03-01 13:38:29 & 141 & Clark St \\& Lincoln Ave    & 210 & Ashland Ave \\& Division St    & casual\\\\\n",
       "\t 3296360A7BC20FB8 & 2020-03-07 18:02:45 & 2020-03-07 18:13:18 & 672 & Franklin St \\& Illinois St & 264 & Stetson Ave \\& South Water St & member\\\\\n",
       "\t 064EC7698E4FF9B3 & 2020-03-08 13:03:57 & 2020-03-08 13:32:27 & 110 & Dearborn St \\& Erie St     &  85 & Michigan Ave \\& Oak St        & casual\\\\\n",
       "\\end{tabular}\n"
      ],
      "text/markdown": [
       "\n",
       "A tibble: 6 × 8\n",
       "\n",
       "| ride_id &lt;chr&gt; | started_at &lt;dttm&gt; | ended_at &lt;dttm&gt; | start_station_id &lt;dbl&gt; | start_station_name &lt;chr&gt; | end_station_id &lt;dbl&gt; | end_station_name &lt;chr&gt; | member_casual &lt;chr&gt; |\n",
       "|---|---|---|---|---|---|---|---|\n",
       "| 6F4D221BDDFD943F | 2020-03-10 10:40:27 | 2020-03-10 10:40:29 | 675 | HQ QR                     | 675 | HQ QR                        | casual |\n",
       "| ADDAA33CEBCAE733 | 2020-03-10 10:40:06 | 2020-03-10 10:40:07 | 675 | HQ QR                     | 675 | HQ QR                        | casual |\n",
       "| 82B10FA3994BC66A | 2020-03-07 15:25:55 | 2020-03-07 16:14:03 | 161 | Rush St &amp; Superior St     | 240 | Sheridan Rd &amp; Irving Park Rd | member |\n",
       "| AA0D5AAA0B59C8AA | 2020-03-01 13:12:38 | 2020-03-01 13:38:29 | 141 | Clark St &amp; Lincoln Ave    | 210 | Ashland Ave &amp; Division St    | casual |\n",
       "| 3296360A7BC20FB8 | 2020-03-07 18:02:45 | 2020-03-07 18:13:18 | 672 | Franklin St &amp; Illinois St | 264 | Stetson Ave &amp; South Water St | member |\n",
       "| 064EC7698E4FF9B3 | 2020-03-08 13:03:57 | 2020-03-08 13:32:27 | 110 | Dearborn St &amp; Erie St     |  85 | Michigan Ave &amp; Oak St        | casual |\n",
       "\n"
      ],
      "text/plain": [
       "  ride_id          started_at          ended_at            start_station_id\n",
       "1 6F4D221BDDFD943F 2020-03-10 10:40:27 2020-03-10 10:40:29 675             \n",
       "2 ADDAA33CEBCAE733 2020-03-10 10:40:06 2020-03-10 10:40:07 675             \n",
       "3 82B10FA3994BC66A 2020-03-07 15:25:55 2020-03-07 16:14:03 161             \n",
       "4 AA0D5AAA0B59C8AA 2020-03-01 13:12:38 2020-03-01 13:38:29 141             \n",
       "5 3296360A7BC20FB8 2020-03-07 18:02:45 2020-03-07 18:13:18 672             \n",
       "6 064EC7698E4FF9B3 2020-03-08 13:03:57 2020-03-08 13:32:27 110             \n",
       "  start_station_name        end_station_id end_station_name            \n",
       "1 HQ QR                     675            HQ QR                       \n",
       "2 HQ QR                     675            HQ QR                       \n",
       "3 Rush St & Superior St     240            Sheridan Rd & Irving Park Rd\n",
       "4 Clark St & Lincoln Ave    210            Ashland Ave & Division St   \n",
       "5 Franklin St & Illinois St 264            Stetson Ave & South Water St\n",
       "6 Dearborn St & Erie St      85            Michigan Ave & Oak St       \n",
       "  member_casual\n",
       "1 casual       \n",
       "2 casual       \n",
       "3 member       \n",
       "4 casual       \n",
       "5 member       \n",
       "6 casual       "
      ]
     },
     "metadata": {},
     "output_type": "display_data"
    }
   ],
   "source": [
    "tail(all_trips)"
   ]
  },
  {
   "cell_type": "markdown",
   "id": "08467b8d",
   "metadata": {
    "papermill": {
     "duration": 0.0126,
     "end_time": "2025-06-04T10:13:52.003305",
     "exception": false,
     "start_time": "2025-06-04T10:13:51.990705",
     "status": "completed"
    },
    "tags": []
   },
   "source": [
    "Inspect the structure of the dataset."
   ]
  },
  {
   "cell_type": "code",
   "execution_count": 23,
   "id": "ae3cf6f7",
   "metadata": {
    "execution": {
     "iopub.execute_input": "2025-06-04T10:13:52.030707Z",
     "iopub.status.busy": "2025-06-04T10:13:52.029545Z",
     "iopub.status.idle": "2025-06-04T10:13:52.050693Z",
     "shell.execute_reply": "2025-06-04T10:13:52.048726Z"
    },
    "papermill": {
     "duration": 0.037153,
     "end_time": "2025-06-04T10:13:52.052781",
     "exception": false,
     "start_time": "2025-06-04T10:13:52.015628",
     "status": "completed"
    },
    "tags": []
   },
   "outputs": [
    {
     "name": "stdout",
     "output_type": "stream",
     "text": [
      "tibble [791,955 × 8] (S3: tbl_df/tbl/data.frame)\n",
      " $ ride_id           : chr [1:791955] \"21742443\" \"21742444\" \"21742445\" \"21742446\" ...\n",
      " $ started_at        : POSIXct[1:791955], format: \"2019-01-01 00:04:37\" \"2019-01-01 00:08:13\" ...\n",
      " $ ended_at          : POSIXct[1:791955], format: \"2019-01-01 00:11:07\" \"2019-01-01 00:15:34\" ...\n",
      " $ start_station_id  : num [1:791955] 199 44 15 123 173 98 98 211 150 268 ...\n",
      " $ start_station_name: chr [1:791955] \"Wabash Ave & Grand Ave\" \"State St & Randolph St\" \"Racine Ave & 18th St\" \"California Ave & Milwaukee Ave\" ...\n",
      " $ end_station_id    : num [1:791955] 84 624 644 176 35 49 49 142 148 141 ...\n",
      " $ end_station_name  : chr [1:791955] \"Milwaukee Ave & Grand Ave\" \"Dearborn St & Van Buren St (*)\" \"Western Ave & Fillmore St (*)\" \"Clark St & Elm St\" ...\n",
      " $ member_casual     : chr [1:791955] \"member\" \"member\" \"member\" \"member\" ...\n"
     ]
    }
   ],
   "source": [
    "str(all_trips)"
   ]
  },
  {
   "cell_type": "markdown",
   "id": "e57a4e87",
   "metadata": {
    "papermill": {
     "duration": 0.013897,
     "end_time": "2025-06-04T10:13:52.080256",
     "exception": false,
     "start_time": "2025-06-04T10:13:52.066359",
     "status": "completed"
    },
    "tags": []
   },
   "source": [
    "Get a summary of the dataset to understand the distribution of values in each column."
   ]
  },
  {
   "cell_type": "code",
   "execution_count": 24,
   "id": "4673257a",
   "metadata": {
    "execution": {
     "iopub.execute_input": "2025-06-04T10:13:52.110334Z",
     "iopub.status.busy": "2025-06-04T10:13:52.108988Z",
     "iopub.status.idle": "2025-06-04T10:13:52.780497Z",
     "shell.execute_reply": "2025-06-04T10:13:52.778708Z"
    },
    "papermill": {
     "duration": 0.68884,
     "end_time": "2025-06-04T10:13:52.782498",
     "exception": false,
     "start_time": "2025-06-04T10:13:52.093658",
     "status": "completed"
    },
    "tags": []
   },
   "outputs": [
    {
     "data": {
      "text/plain": [
       "   ride_id            started_at                    \n",
       " Length:791955      Min.   :2019-01-01 00:04:37.00  \n",
       " Class :character   1st Qu.:2019-02-28 17:03:58.50  \n",
       " Mode  :character   Median :2020-01-07 12:48:49.00  \n",
       "                    Mean   :2019-09-01 11:57:46.86  \n",
       "                    3rd Qu.:2020-02-19 19:31:49.50  \n",
       "                    Max.   :2020-03-31 23:51:34.00  \n",
       "    ended_at                      start_station_id start_station_name\n",
       " Min.   :2019-01-01 00:11:07.00   Min.   :  2.0    Length:791955     \n",
       " 1st Qu.:2019-02-28 17:15:57.50   1st Qu.: 77.0    Class :character  \n",
       " Median :2020-01-07 13:02:39.00   Median :174.0    Mode  :character  \n",
       " Mean   :2019-09-01 12:17:30.69   Mean   :204.4                      \n",
       " 3rd Qu.:2020-02-19 19:51:50.50   3rd Qu.:291.0                      \n",
       " Max.   :2020-05-19 20:10:34.00   Max.   :675.0                      \n",
       " end_station_id  end_station_name   member_casual     \n",
       " Min.   :  2.0   Length:791955      Length:791955     \n",
       " 1st Qu.: 77.0   Class :character   Class :character  \n",
       " Median :174.0   Mode  :character   Mode  :character  \n",
       " Mean   :204.4                                        \n",
       " 3rd Qu.:291.0                                        \n",
       " Max.   :675.0                                        "
      ]
     },
     "metadata": {},
     "output_type": "display_data"
    }
   ],
   "source": [
    "summary(all_trips)"
   ]
  },
  {
   "cell_type": "markdown",
   "id": "edc5f7b2",
   "metadata": {
    "papermill": {
     "duration": 0.013901,
     "end_time": "2025-06-04T10:13:52.809267",
     "exception": false,
     "start_time": "2025-06-04T10:13:52.795366",
     "status": "completed"
    },
    "tags": []
   },
   "source": [
    "Create new columns to extract the `started_date`, `started_month`, `started_day`, `started_year`, and `started_day_of_week` from the `started_at` column. This will help in analyzing ride patterns over time."
   ]
  },
  {
   "cell_type": "code",
   "execution_count": 25,
   "id": "354c60e2",
   "metadata": {
    "execution": {
     "iopub.execute_input": "2025-06-04T10:13:52.838583Z",
     "iopub.status.busy": "2025-06-04T10:13:52.837347Z",
     "iopub.status.idle": "2025-06-04T10:13:54.433459Z",
     "shell.execute_reply": "2025-06-04T10:13:54.432040Z"
    },
    "papermill": {
     "duration": 1.612553,
     "end_time": "2025-06-04T10:13:54.435309",
     "exception": false,
     "start_time": "2025-06-04T10:13:52.822756",
     "status": "completed"
    },
    "tags": []
   },
   "outputs": [],
   "source": [
    "all_trips$started_date <- as.Date(all_trips$started_at)\n",
    "all_trips$started_month <- format(all_trips$started_date, \"%m\")\n",
    "all_trips$started_day <- format(all_trips$started_date, \"%d\")\n",
    "all_trips$started_year <- format(all_trips$started_date, \"%Y\")\n",
    "all_trips$started_day_of_week <- wday(all_trips$started_date, label = TRUE)"
   ]
  },
  {
   "cell_type": "markdown",
   "id": "cfc28546",
   "metadata": {
    "papermill": {
     "duration": 0.013048,
     "end_time": "2025-06-04T10:13:54.461928",
     "exception": false,
     "start_time": "2025-06-04T10:13:54.448880",
     "status": "completed"
    },
    "tags": []
   },
   "source": [
    "Calculate the ride length by subtracting the `started_at` time from the `ended_at` time. This will give us the duration of each ride in seconds. Then transform the `ride_duration` column into numeric format for data calculations."
   ]
  },
  {
   "cell_type": "code",
   "execution_count": 26,
   "id": "f26a5aa7",
   "metadata": {
    "execution": {
     "iopub.execute_input": "2025-06-04T10:13:54.492735Z",
     "iopub.status.busy": "2025-06-04T10:13:54.491434Z",
     "iopub.status.idle": "2025-06-04T10:13:55.105443Z",
     "shell.execute_reply": "2025-06-04T10:13:55.103850Z"
    },
    "papermill": {
     "duration": 0.630903,
     "end_time": "2025-06-04T10:13:55.107477",
     "exception": false,
     "start_time": "2025-06-04T10:13:54.476574",
     "status": "completed"
    },
    "tags": []
   },
   "outputs": [],
   "source": [
    "all_trips$ride_duration <- difftime(all_trips$ended_at, \n",
    "                                    all_trips$started_at)\n",
    "all_trips$ride_duration <- as.numeric(as.character(all_trips$ride_duration))"
   ]
  },
  {
   "cell_type": "markdown",
   "id": "9ed328ce",
   "metadata": {
    "papermill": {
     "duration": 0.013024,
     "end_time": "2025-06-04T10:13:55.134185",
     "exception": false,
     "start_time": "2025-06-04T10:13:55.121161",
     "status": "completed"
    },
    "tags": []
   },
   "source": [
    "Inspect the structure of the columns in the dataset to ensure that the new columns have been added correctly and that the data types are appropriate for analysis."
   ]
  },
  {
   "cell_type": "code",
   "execution_count": 27,
   "id": "8a3a2a8b",
   "metadata": {
    "execution": {
     "iopub.execute_input": "2025-06-04T10:13:55.169673Z",
     "iopub.status.busy": "2025-06-04T10:13:55.167194Z",
     "iopub.status.idle": "2025-06-04T10:13:55.218681Z",
     "shell.execute_reply": "2025-06-04T10:13:55.217068Z"
    },
    "papermill": {
     "duration": 0.073533,
     "end_time": "2025-06-04T10:13:55.221426",
     "exception": false,
     "start_time": "2025-06-04T10:13:55.147893",
     "status": "completed"
    },
    "tags": []
   },
   "outputs": [
    {
     "name": "stdout",
     "output_type": "stream",
     "text": [
      "tibble [791,955 × 14] (S3: tbl_df/tbl/data.frame)\n",
      " $ ride_id            : chr [1:791955] \"21742443\" \"21742444\" \"21742445\" \"21742446\" ...\n",
      " $ started_at         : POSIXct[1:791955], format: \"2019-01-01 00:04:37\" \"2019-01-01 00:08:13\" ...\n",
      " $ ended_at           : POSIXct[1:791955], format: \"2019-01-01 00:11:07\" \"2019-01-01 00:15:34\" ...\n",
      " $ start_station_id   : num [1:791955] 199 44 15 123 173 98 98 211 150 268 ...\n",
      " $ start_station_name : chr [1:791955] \"Wabash Ave & Grand Ave\" \"State St & Randolph St\" \"Racine Ave & 18th St\" \"California Ave & Milwaukee Ave\" ...\n",
      " $ end_station_id     : num [1:791955] 84 624 644 176 35 49 49 142 148 141 ...\n",
      " $ end_station_name   : chr [1:791955] \"Milwaukee Ave & Grand Ave\" \"Dearborn St & Van Buren St (*)\" \"Western Ave & Fillmore St (*)\" \"Clark St & Elm St\" ...\n",
      " $ member_casual      : chr [1:791955] \"member\" \"member\" \"member\" \"member\" ...\n",
      " $ started_date       : Date[1:791955], format: \"2019-01-01\" \"2019-01-01\" ...\n",
      " $ started_month      : chr [1:791955] \"01\" \"01\" \"01\" \"01\" ...\n",
      " $ started_day        : chr [1:791955] \"01\" \"01\" \"01\" \"01\" ...\n",
      " $ started_year       : chr [1:791955] \"2019\" \"2019\" \"2019\" \"2019\" ...\n",
      " $ started_day_of_week: Ord.factor w/ 7 levels \"Sun\"<\"Mon\"<\"Tue\"<..: 3 3 3 3 3 3 3 3 3 3 ...\n",
      " $ ride_duration      : num [1:791955] 390 441 829 1783 364 ...\n"
     ]
    }
   ],
   "source": [
    "str(all_trips)"
   ]
  },
  {
   "cell_type": "markdown",
   "id": "9423d423",
   "metadata": {
    "papermill": {
     "duration": 0.013225,
     "end_time": "2025-06-04T10:13:55.248556",
     "exception": false,
     "start_time": "2025-06-04T10:13:55.235331",
     "status": "completed"
    },
    "tags": []
   },
   "source": [
    "Transform the `started_month`, `started_day`, and `started_year` columns into numeric for better analysis."
   ]
  },
  {
   "cell_type": "code",
   "execution_count": 28,
   "id": "6ee8db0a",
   "metadata": {
    "execution": {
     "iopub.execute_input": "2025-06-04T10:13:55.278522Z",
     "iopub.status.busy": "2025-06-04T10:13:55.277243Z",
     "iopub.status.idle": "2025-06-04T10:13:55.433442Z",
     "shell.execute_reply": "2025-06-04T10:13:55.431778Z"
    },
    "papermill": {
     "duration": 0.174388,
     "end_time": "2025-06-04T10:13:55.436754",
     "exception": false,
     "start_time": "2025-06-04T10:13:55.262366",
     "status": "completed"
    },
    "tags": []
   },
   "outputs": [],
   "source": [
    "all_trips$started_month <- as.numeric(as.character(all_trips$started_month))\n",
    "all_trips$started_day <- as.numeric(as.character(all_trips$started_day))\n",
    "all_trips$started_year <- as.numeric(as.character(all_trips$started_year))"
   ]
  },
  {
   "cell_type": "markdown",
   "id": "9a8fa7ea",
   "metadata": {
    "papermill": {
     "duration": 0.013274,
     "end_time": "2025-06-04T10:13:55.463800",
     "exception": false,
     "start_time": "2025-06-04T10:13:55.450526",
     "status": "completed"
    },
    "tags": []
   },
   "source": [
    "Get the summary of the dataset to see the updated statistics after adding the new columns."
   ]
  },
  {
   "cell_type": "code",
   "execution_count": 29,
   "id": "de2124e3",
   "metadata": {
    "execution": {
     "iopub.execute_input": "2025-06-04T10:13:55.495666Z",
     "iopub.status.busy": "2025-06-04T10:13:55.494333Z",
     "iopub.status.idle": "2025-06-04T10:13:56.374604Z",
     "shell.execute_reply": "2025-06-04T10:13:56.369122Z"
    },
    "papermill": {
     "duration": 0.902574,
     "end_time": "2025-06-04T10:13:56.379681",
     "exception": false,
     "start_time": "2025-06-04T10:13:55.477107",
     "status": "completed"
    },
    "tags": []
   },
   "outputs": [
    {
     "data": {
      "text/plain": [
       "   ride_id            started_at                    \n",
       " Length:791955      Min.   :2019-01-01 00:04:37.00  \n",
       " Class :character   1st Qu.:2019-02-28 17:03:58.50  \n",
       " Mode  :character   Median :2020-01-07 12:48:49.00  \n",
       "                    Mean   :2019-09-01 11:57:46.86  \n",
       "                    3rd Qu.:2020-02-19 19:31:49.50  \n",
       "                    Max.   :2020-03-31 23:51:34.00  \n",
       "                                                    \n",
       "    ended_at                      start_station_id start_station_name\n",
       " Min.   :2019-01-01 00:11:07.00   Min.   :  2.0    Length:791955     \n",
       " 1st Qu.:2019-02-28 17:15:57.50   1st Qu.: 77.0    Class :character  \n",
       " Median :2020-01-07 13:02:39.00   Median :174.0    Mode  :character  \n",
       " Mean   :2019-09-01 12:17:30.69   Mean   :204.4                      \n",
       " 3rd Qu.:2020-02-19 19:51:50.50   3rd Qu.:291.0                      \n",
       " Max.   :2020-05-19 20:10:34.00   Max.   :675.0                      \n",
       "                                                                     \n",
       " end_station_id  end_station_name   member_casual       started_date       \n",
       " Min.   :  2.0   Length:791955      Length:791955      Min.   :2019-01-01  \n",
       " 1st Qu.: 77.0   Class :character   Class :character   1st Qu.:2019-02-28  \n",
       " Median :174.0   Mode  :character   Mode  :character   Median :2020-01-07  \n",
       " Mean   :204.4                                         Mean   :2019-08-31  \n",
       " 3rd Qu.:291.0                                         3rd Qu.:2020-02-19  \n",
       " Max.   :675.0                                         Max.   :2020-03-31  \n",
       "                                                                           \n",
       " started_month    started_day     started_year  started_day_of_week\n",
       " Min.   :1.000   Min.   : 1.00   Min.   :2019   Sun: 78849         \n",
       " 1st Qu.:1.000   1st Qu.: 7.00   1st Qu.:2019   Mon:117176         \n",
       " Median :2.000   Median :14.00   Median :2020   Tue:135966         \n",
       " Mean   :2.078   Mean   :14.75   Mean   :2020   Wed:130325         \n",
       " 3rd Qu.:3.000   3rd Qu.:22.00   3rd Qu.:2020   Thu:133043         \n",
       " Max.   :3.000   Max.   :31.00   Max.   :2020   Fri:123710         \n",
       "                                                Sat: 72886         \n",
       " ride_duration     \n",
       " Min.   :    -552  \n",
       " 1st Qu.:     328  \n",
       " Median :     537  \n",
       " Mean   :    1184  \n",
       " 3rd Qu.:     910  \n",
       " Max.   :10632022  \n",
       "                   "
      ]
     },
     "metadata": {},
     "output_type": "display_data"
    }
   ],
   "source": [
    "summary(all_trips)"
   ]
  },
  {
   "cell_type": "markdown",
   "id": "3e781aab",
   "metadata": {
    "papermill": {
     "duration": 0.020595,
     "end_time": "2025-06-04T10:13:56.424777",
     "exception": false,
     "start_time": "2025-06-04T10:13:56.404182",
     "status": "completed"
    },
    "tags": []
   },
   "source": [
    "The `ride_duration` column have negative values, which indicates that there are rides where the end time is earlier than the start time. This could be due to data entry errors or other issues. See the records with negative or zero `ride_duration`."
   ]
  },
  {
   "cell_type": "code",
   "execution_count": 30,
   "id": "f8d45570",
   "metadata": {
    "execution": {
     "iopub.execute_input": "2025-06-04T10:13:56.459119Z",
     "iopub.status.busy": "2025-06-04T10:13:56.457633Z",
     "iopub.status.idle": "2025-06-04T10:13:56.491433Z",
     "shell.execute_reply": "2025-06-04T10:13:56.488971Z"
    },
    "papermill": {
     "duration": 0.053712,
     "end_time": "2025-06-04T10:13:56.493935",
     "exception": false,
     "start_time": "2025-06-04T10:13:56.440223",
     "status": "completed"
    },
    "tags": []
   },
   "outputs": [
    {
     "name": "stdout",
     "output_type": "stream",
     "text": [
      "tibble [209 × 14] (S3: tbl_df/tbl/data.frame)\n",
      " $ ride_id            : chr [1:209] \"23EF1DCC9FCA40BA\" \"9461DFF13D8BA8AD\" \"86163D9676BBBE62\" \"836931C569802344\" ...\n",
      " $ started_at         : POSIXct[1:209], format: \"2020-02-28 11:34:40\" \"2020-02-28 10:09:43\" ...\n",
      " $ ended_at           : POSIXct[1:209], format: \"2020-02-28 11:34:40\" \"2020-02-28 10:09:42\" ...\n",
      " $ start_station_id   : num [1:209] 675 675 675 675 675 675 675 675 675 675 ...\n",
      " $ start_station_name : chr [1:209] \"HQ QR\" \"HQ QR\" \"HQ QR\" \"HQ QR\" ...\n",
      " $ end_station_id     : num [1:209] 675 675 675 675 675 675 675 675 675 675 ...\n",
      " $ end_station_name   : chr [1:209] \"HQ QR\" \"HQ QR\" \"HQ QR\" \"HQ QR\" ...\n",
      " $ member_casual      : chr [1:209] \"casual\" \"casual\" \"casual\" \"casual\" ...\n",
      " $ started_date       : Date[1:209], format: \"2020-02-28\" \"2020-02-28\" ...\n",
      " $ started_month      : num [1:209] 2 2 2 2 2 2 2 2 2 2 ...\n",
      " $ started_day        : num [1:209] 28 28 26 27 28 28 26 26 26 26 ...\n",
      " $ started_year       : num [1:209] 2020 2020 2020 2020 2020 2020 2020 2020 2020 2020 ...\n",
      " $ started_day_of_week: Ord.factor w/ 7 levels \"Sun\"<\"Mon\"<\"Tue\"<..: 6 6 4 5 6 6 4 4 4 4 ...\n",
      " $ ride_duration      : num [1:209] 0 -1 0 0 0 0 0 0 0 0 ...\n"
     ]
    }
   ],
   "source": [
    "bad_data <- all_trips %>%\n",
    "  filter(\n",
    "      ride_duration <= 0\n",
    "  )\n",
    "str(bad_data)"
   ]
  },
  {
   "cell_type": "markdown",
   "id": "74d85185",
   "metadata": {
    "papermill": {
     "duration": 0.013324,
     "end_time": "2025-06-04T10:13:56.521584",
     "exception": false,
     "start_time": "2025-06-04T10:13:56.508260",
     "status": "completed"
    },
    "tags": []
   },
   "source": [
    "I have observed that many of these bad data entries in the dataset has same `start_station_name` and `end_station_name` as \"HQ QR\", `start_station_id` and `end_station_id` as 675, `member_casual` as \"casual\". We will see how many such entries have negative or zero `ride_duration`."
   ]
  },
  {
   "cell_type": "code",
   "execution_count": 31,
   "id": "018c8346",
   "metadata": {
    "execution": {
     "iopub.execute_input": "2025-06-04T10:13:56.550620Z",
     "iopub.status.busy": "2025-06-04T10:13:56.549519Z",
     "iopub.status.idle": "2025-06-04T10:13:56.590903Z",
     "shell.execute_reply": "2025-06-04T10:13:56.588973Z"
    },
    "papermill": {
     "duration": 0.058126,
     "end_time": "2025-06-04T10:13:56.593120",
     "exception": false,
     "start_time": "2025-06-04T10:13:56.534994",
     "status": "completed"
    },
    "tags": []
   },
   "outputs": [
    {
     "name": "stdout",
     "output_type": "stream",
     "text": [
      "tibble [209 × 14] (S3: tbl_df/tbl/data.frame)\n",
      " $ ride_id            : chr [1:209] \"23EF1DCC9FCA40BA\" \"9461DFF13D8BA8AD\" \"86163D9676BBBE62\" \"836931C569802344\" ...\n",
      " $ started_at         : POSIXct[1:209], format: \"2020-02-28 11:34:40\" \"2020-02-28 10:09:43\" ...\n",
      " $ ended_at           : POSIXct[1:209], format: \"2020-02-28 11:34:40\" \"2020-02-28 10:09:42\" ...\n",
      " $ start_station_id   : num [1:209] 675 675 675 675 675 675 675 675 675 675 ...\n",
      " $ start_station_name : chr [1:209] \"HQ QR\" \"HQ QR\" \"HQ QR\" \"HQ QR\" ...\n",
      " $ end_station_id     : num [1:209] 675 675 675 675 675 675 675 675 675 675 ...\n",
      " $ end_station_name   : chr [1:209] \"HQ QR\" \"HQ QR\" \"HQ QR\" \"HQ QR\" ...\n",
      " $ member_casual      : chr [1:209] \"casual\" \"casual\" \"casual\" \"casual\" ...\n",
      " $ started_date       : Date[1:209], format: \"2020-02-28\" \"2020-02-28\" ...\n",
      " $ started_month      : num [1:209] 2 2 2 2 2 2 2 2 2 2 ...\n",
      " $ started_day        : num [1:209] 28 28 26 27 28 28 26 26 26 26 ...\n",
      " $ started_year       : num [1:209] 2020 2020 2020 2020 2020 2020 2020 2020 2020 2020 ...\n",
      " $ started_day_of_week: Ord.factor w/ 7 levels \"Sun\"<\"Mon\"<\"Tue\"<..: 6 6 4 5 6 6 4 4 4 4 ...\n",
      " $ ride_duration      : num [1:209] 0 -1 0 0 0 0 0 0 0 0 ...\n"
     ]
    }
   ],
   "source": [
    "bad_data <- all_trips %>%\n",
    "  filter(\n",
    "      ride_duration <= 0 &\n",
    "      start_station_name == \"HQ QR\" & end_station_name == \"HQ QR\" &\n",
    "      start_station_id == 675 & end_station_id == 675 &\n",
    "      member_casual == \"casual\"\n",
    "  )\n",
    "str(bad_data)"
   ]
  },
  {
   "cell_type": "markdown",
   "id": "302ceff2",
   "metadata": {
    "papermill": {
     "duration": 0.013136,
     "end_time": "2025-06-04T10:13:56.619490",
     "exception": false,
     "start_time": "2025-06-04T10:13:56.606354",
     "status": "completed"
    },
    "tags": []
   },
   "source": [
    "All these entries are likely related to the quality check of bikes at the Cyclistic headquarters (HQ QR) and should be removed."
   ]
  },
  {
   "cell_type": "code",
   "execution_count": 32,
   "id": "19767b13",
   "metadata": {
    "execution": {
     "iopub.execute_input": "2025-06-04T10:13:56.648590Z",
     "iopub.status.busy": "2025-06-04T10:13:56.647443Z",
     "iopub.status.idle": "2025-06-04T10:13:56.802719Z",
     "shell.execute_reply": "2025-06-04T10:13:56.800865Z"
    },
    "papermill": {
     "duration": 0.172081,
     "end_time": "2025-06-04T10:13:56.804777",
     "exception": false,
     "start_time": "2025-06-04T10:13:56.632696",
     "status": "completed"
    },
    "tags": []
   },
   "outputs": [
    {
     "name": "stdout",
     "output_type": "stream",
     "text": [
      "209 rows with bad data are removed."
     ]
    }
   ],
   "source": [
    "all_trips_cleaned <- all_trips[\n",
    "  !(\n",
    "      all_trips$ride_duration <= 0 &\n",
    "      all_trips$start_station_name == \"HQ QR\" & \n",
    "      all_trips$end_station_name == \"HQ QR\" &\n",
    "      all_trips$start_station_id == 675 & \n",
    "      all_trips$end_station_id == 675      \n",
    "  ),\n",
    "]\n",
    "cat(nrow(all_trips) - nrow(all_trips_cleaned), \n",
    "    \"rows with bad data are removed.\")"
   ]
  },
  {
   "cell_type": "markdown",
   "id": "90a8c3a6",
   "metadata": {
    "papermill": {
     "duration": 0.013863,
     "end_time": "2025-06-04T10:13:56.832459",
     "exception": false,
     "start_time": "2025-06-04T10:13:56.818596",
     "status": "completed"
    },
    "tags": []
   },
   "source": [
    "The `ride_duration` column has a maximum value of 10,632,022 seconds (2953.34 hours), which is quite high and may indicate outliers or very long rides. See the spread, central tendency, and outliers using a box plot."
   ]
  },
  {
   "cell_type": "code",
   "execution_count": 33,
   "id": "d0d7068b",
   "metadata": {
    "execution": {
     "iopub.execute_input": "2025-06-04T10:13:56.861919Z",
     "iopub.status.busy": "2025-06-04T10:13:56.860810Z",
     "iopub.status.idle": "2025-06-04T10:13:58.793535Z",
     "shell.execute_reply": "2025-06-04T10:13:58.791923Z"
    },
    "papermill": {
     "duration": 1.949441,
     "end_time": "2025-06-04T10:13:58.795474",
     "exception": false,
     "start_time": "2025-06-04T10:13:56.846033",
     "status": "completed"
    },
    "tags": []
   },
   "outputs": [
    {
     "data": {
      "image/png": "[encoded data removed]"
     },
     "metadata": {
      "image/png": {
       "height": 420,
       "width": 420
      }
     },
     "output_type": "display_data"
    }
   ],
   "source": [
    "boxplot(all_trips_cleaned$ride_duration,\n",
    "        main = \"Boxplot of Ride Duration\",\n",
    "        ylab = \"Ride Duration (seconds)\",\n",
    "        horizontal = TRUE,\n",
    "        col = \"skyblue\"\n",
    "       ) "
   ]
  },
  {
   "cell_type": "markdown",
   "id": "7a6927b3",
   "metadata": {
    "papermill": {
     "duration": 0.017581,
     "end_time": "2025-06-04T10:13:58.827997",
     "exception": false,
     "start_time": "2025-06-04T10:13:58.810416",
     "status": "completed"
    },
    "tags": []
   },
   "source": [
    "The data is `extremely right-skewed`. The circles on the right suggests `there are many outliers`. The entire box (25th to 75th percentile) is compressed around very small values - `typical rides are short`. We will investigate the outliers by creating quantiles."
   ]
  },
  {
   "cell_type": "code",
   "execution_count": 34,
   "id": "180f8349",
   "metadata": {
    "execution": {
     "iopub.execute_input": "2025-06-04T10:13:58.860888Z",
     "iopub.status.busy": "2025-06-04T10:13:58.859623Z",
     "iopub.status.idle": "2025-06-04T10:13:59.038630Z",
     "shell.execute_reply": "2025-06-04T10:13:59.037383Z"
    },
    "papermill": {
     "duration": 0.198021,
     "end_time": "2025-06-04T10:13:59.041096",
     "exception": false,
     "start_time": "2025-06-04T10:13:58.843075",
     "status": "completed"
    },
    "tags": []
   },
   "outputs": [
    {
     "data": {
      "text/plain": [
       "    Min.  1st Qu.   Median     Mean  3rd Qu.     Max. \n",
       "       1      328      537     1184      910 10632022 "
      ]
     },
     "metadata": {},
     "output_type": "display_data"
    },
    {
     "data": {
      "text/html": [
       "<style>\n",
       ".dl-inline {width: auto; margin:0; padding: 0}\n",
       ".dl-inline>dt, .dl-inline>dd {float: none; width: auto; display: inline-block}\n",
       ".dl-inline>dt::after {content: \":\\0020\"; padding-right: .5ex}\n",
       ".dl-inline>dt:not(:first-of-type) {padding-left: .5ex}\n",
       "</style><dl class=dl-inline><dt>0%</dt><dd>1</dd><dt>1%</dt><dd>69</dd><dt>2%</dt><dd>119</dd><dt>3%</dt><dd>139</dd><dt>4%</dt><dd>154</dd><dt>5%</dt><dd>167</dd><dt>6%</dt><dd>178</dd><dt>7%</dt><dd>188</dd><dt>8%</dt><dd>197</dd><dt>9%</dt><dd>207</dd><dt>10%</dt><dd>215</dd><dt>11%</dt><dd>224</dd><dt>12%</dt><dd>232</dd><dt>13%</dt><dd>240</dd><dt>14%</dt><dd>247</dd><dt>15%</dt><dd>255</dd><dt>16%</dt><dd>263</dd><dt>17%</dt><dd>270</dd><dt>18%</dt><dd>277</dd><dt>19%</dt><dd>284</dd><dt>20%</dt><dd>292</dd><dt>21%</dt><dd>299</dd><dt>22%</dt><dd>306</dd><dt>23%</dt><dd>313</dd><dt>24%</dt><dd>320</dd><dt>25%</dt><dd>328</dd><dt>26%</dt><dd>335</dd><dt>27%</dt><dd>343</dd><dt>28%</dt><dd>350</dd><dt>29%</dt><dd>358</dd><dt>30%</dt><dd>365</dd><dt>31%</dt><dd>373</dd><dt>32%</dt><dd>381</dd><dt>33%</dt><dd>388</dd><dt>34%</dt><dd>396</dd><dt>35%</dt><dd>404</dd><dt>36%</dt><dd>412</dd><dt>37%</dt><dd>420</dd><dt>38%</dt><dd>428</dd><dt>39%</dt><dd>437</dd><dt>40%</dt><dd>445</dd><dt>41%</dt><dd>454</dd><dt>42%</dt><dd>462</dd><dt>43%</dt><dd>471</dd><dt>44%</dt><dd>480</dd><dt>45%</dt><dd>489</dd><dt>46%</dt><dd>499</dd><dt>47%</dt><dd>508</dd><dt>48%</dt><dd>518</dd><dt>49%</dt><dd>528</dd><dt>50%</dt><dd>537</dd><dt>51%</dt><dd>547</dd><dt>52%</dt><dd>558</dd><dt>53%</dt><dd>568</dd><dt>54%</dt><dd>579</dd><dt>55%</dt><dd>590</dd><dt>56%</dt><dd>602</dd><dt>57%</dt><dd>613</dd><dt>58%</dt><dd>625</dd><dt>59%</dt><dd>637</dd><dt>60%</dt><dd>650</dd><dt>61%</dt><dd>663</dd><dt>62%</dt><dd>677</dd><dt>63%</dt><dd>691</dd><dt>64%</dt><dd>706</dd><dt>65%</dt><dd>720</dd><dt>66%</dt><dd>736</dd><dt>67%</dt><dd>753</dd><dt>68%</dt><dd>769</dd><dt>69%</dt><dd>787</dd><dt>70%</dt><dd>804</dd><dt>71%</dt><dd>823</dd><dt>72%</dt><dd>844</dd><dt>73%</dt><dd>865</dd><dt>74%</dt><dd>887</dd><dt>75%</dt><dd>910</dd><dt>76%</dt><dd>934</dd><dt>77%</dt><dd>960</dd><dt>78%</dt><dd>988</dd><dt>79%</dt><dd>1017</dd><dt>80%</dt><dd>1048</dd><dt>81%</dt><dd>1081</dd><dt>82%</dt><dd>1117</dd><dt>83%</dt><dd>1155</dd><dt>84%</dt><dd>1196</dd><dt>85%</dt><dd>1240</dd><dt>86%</dt><dd>1288</dd><dt>87%</dt><dd>1338</dd><dt>88%</dt><dd>1392</dd><dt>89%</dt><dd>1452</dd><dt>90%</dt><dd>1517.5</dd><dt>91%</dt><dd>1592</dd><dt>92%</dt><dd>1677</dd><dt>93%</dt><dd>1771</dd><dt>94%</dt><dd>1885</dd><dt>95%</dt><dd>2024</dd><dt>96%</dt><dd>2201</dd><dt>97%</dt><dd>2465</dd><dt>98%</dt><dd>3023</dd><dt>99%</dt><dd>4629</dd><dt>100%</dt><dd>10632022</dd></dl>\n"
      ],
      "text/latex": [
       "\\begin{description*}\n",
       "\\item[0\\textbackslash{}\\%] 1\n",
       "\\item[1\\textbackslash{}\\%] 69\n",
       "\\item[2\\textbackslash{}\\%] 119\n",
       "\\item[3\\textbackslash{}\\%] 139\n",
       "\\item[4\\textbackslash{}\\%] 154\n",
       "\\item[5\\textbackslash{}\\%] 167\n",
       "\\item[6\\textbackslash{}\\%] 178\n",
       "\\item[7\\textbackslash{}\\%] 188\n",
       "\\item[8\\textbackslash{}\\%] 197\n",
       "\\item[9\\textbackslash{}\\%] 207\n",
       "\\item[10\\textbackslash{}\\%] 215\n",
       "\\item[11\\textbackslash{}\\%] 224\n",
       "\\item[12\\textbackslash{}\\%] 232\n",
       "\\item[13\\textbackslash{}\\%] 240\n",
       "\\item[14\\textbackslash{}\\%] 247\n",
       "\\item[15\\textbackslash{}\\%] 255\n",
       "\\item[16\\textbackslash{}\\%] 263\n",
       "\\item[17\\textbackslash{}\\%] 270\n",
       "\\item[18\\textbackslash{}\\%] 277\n",
       "\\item[19\\textbackslash{}\\%] 284\n",
       "\\item[20\\textbackslash{}\\%] 292\n",
       "\\item[21\\textbackslash{}\\%] 299\n",
       "\\item[22\\textbackslash{}\\%] 306\n",
       "\\item[23\\textbackslash{}\\%] 313\n",
       "\\item[24\\textbackslash{}\\%] 320\n",
       "\\item[25\\textbackslash{}\\%] 328\n",
       "\\item[26\\textbackslash{}\\%] 335\n",
       "\\item[27\\textbackslash{}\\%] 343\n",
       "\\item[28\\textbackslash{}\\%] 350\n",
       "\\item[29\\textbackslash{}\\%] 358\n",
       "\\item[30\\textbackslash{}\\%] 365\n",
       "\\item[31\\textbackslash{}\\%] 373\n",
       "\\item[32\\textbackslash{}\\%] 381\n",
       "\\item[33\\textbackslash{}\\%] 388\n",
       "\\item[34\\textbackslash{}\\%] 396\n",
       "\\item[35\\textbackslash{}\\%] 404\n",
       "\\item[36\\textbackslash{}\\%] 412\n",
       "\\item[37\\textbackslash{}\\%] 420\n",
       "\\item[38\\textbackslash{}\\%] 428\n",
       "\\item[39\\textbackslash{}\\%] 437\n",
       "\\item[40\\textbackslash{}\\%] 445\n",
       "\\item[41\\textbackslash{}\\%] 454\n",
       "\\item[42\\textbackslash{}\\%] 462\n",
       "\\item[43\\textbackslash{}\\%] 471\n",
       "\\item[44\\textbackslash{}\\%] 480\n",
       "\\item[45\\textbackslash{}\\%] 489\n",
       "\\item[46\\textbackslash{}\\%] 499\n",
       "\\item[47\\textbackslash{}\\%] 508\n",
       "\\item[48\\textbackslash{}\\%] 518\n",
       "\\item[49\\textbackslash{}\\%] 528\n",
       "\\item[50\\textbackslash{}\\%] 537\n",
       "\\item[51\\textbackslash{}\\%] 547\n",
       "\\item[52\\textbackslash{}\\%] 558\n",
       "\\item[53\\textbackslash{}\\%] 568\n",
       "\\item[54\\textbackslash{}\\%] 579\n",
       "\\item[55\\textbackslash{}\\%] 590\n",
       "\\item[56\\textbackslash{}\\%] 602\n",
       "\\item[57\\textbackslash{}\\%] 613\n",
       "\\item[58\\textbackslash{}\\%] 625\n",
       "\\item[59\\textbackslash{}\\%] 637\n",
       "\\item[60\\textbackslash{}\\%] 650\n",
       "\\item[61\\textbackslash{}\\%] 663\n",
       "\\item[62\\textbackslash{}\\%] 677\n",
       "\\item[63\\textbackslash{}\\%] 691\n",
       "\\item[64\\textbackslash{}\\%] 706\n",
       "\\item[65\\textbackslash{}\\%] 720\n",
       "\\item[66\\textbackslash{}\\%] 736\n",
       "\\item[67\\textbackslash{}\\%] 753\n",
       "\\item[68\\textbackslash{}\\%] 769\n",
       "\\item[69\\textbackslash{}\\%] 787\n",
       "\\item[70\\textbackslash{}\\%] 804\n",
       "\\item[71\\textbackslash{}\\%] 823\n",
       "\\item[72\\textbackslash{}\\%] 844\n",
       "\\item[73\\textbackslash{}\\%] 865\n",
       "\\item[74\\textbackslash{}\\%] 887\n",
       "\\item[75\\textbackslash{}\\%] 910\n",
       "\\item[76\\textbackslash{}\\%] 934\n",
       "\\item[77\\textbackslash{}\\%] 960\n",
       "\\item[78\\textbackslash{}\\%] 988\n",
       "\\item[79\\textbackslash{}\\%] 1017\n",
       "\\item[80\\textbackslash{}\\%] 1048\n",
       "\\item[81\\textbackslash{}\\%] 1081\n",
       "\\item[82\\textbackslash{}\\%] 1117\n",
       "\\item[83\\textbackslash{}\\%] 1155\n",
       "\\item[84\\textbackslash{}\\%] 1196\n",
       "\\item[85\\textbackslash{}\\%] 1240\n",
       "\\item[86\\textbackslash{}\\%] 1288\n",
       "\\item[87\\textbackslash{}\\%] 1338\n",
       "\\item[88\\textbackslash{}\\%] 1392\n",
       "\\item[89\\textbackslash{}\\%] 1452\n",
       "\\item[90\\textbackslash{}\\%] 1517.5\n",
       "\\item[91\\textbackslash{}\\%] 1592\n",
       "\\item[92\\textbackslash{}\\%] 1677\n",
       "\\item[93\\textbackslash{}\\%] 1771\n",
       "\\item[94\\textbackslash{}\\%] 1885\n",
       "\\item[95\\textbackslash{}\\%] 2024\n",
       "\\item[96\\textbackslash{}\\%] 2201\n",
       "\\item[97\\textbackslash{}\\%] 2465\n",
       "\\item[98\\textbackslash{}\\%] 3023\n",
       "\\item[99\\textbackslash{}\\%] 4629\n",
       "\\item[100\\textbackslash{}\\%] 10632022\n",
       "\\end{description*}\n"
      ],
      "text/markdown": [
       "0%\n",
       ":   11%\n",
       ":   692%\n",
       ":   1193%\n",
       ":   1394%\n",
       ":   1545%\n",
       ":   1676%\n",
       ":   1787%\n",
       ":   1888%\n",
       ":   1979%\n",
       ":   20710%\n",
       ":   21511%\n",
       ":   22412%\n",
       ":   23213%\n",
       ":   24014%\n",
       ":   24715%\n",
       ":   25516%\n",
       ":   26317%\n",
       ":   27018%\n",
       ":   27719%\n",
       ":   28420%\n",
       ":   29221%\n",
       ":   29922%\n",
       ":   30623%\n",
       ":   31324%\n",
       ":   32025%\n",
       ":   32826%\n",
       ":   33527%\n",
       ":   34328%\n",
       ":   35029%\n",
       ":   35830%\n",
       ":   36531%\n",
       ":   37332%\n",
       ":   38133%\n",
       ":   38834%\n",
       ":   39635%\n",
       ":   40436%\n",
       ":   41237%\n",
       ":   42038%\n",
       ":   42839%\n",
       ":   43740%\n",
       ":   44541%\n",
       ":   45442%\n",
       ":   46243%\n",
       ":   47144%\n",
       ":   48045%\n",
       ":   48946%\n",
       ":   49947%\n",
       ":   50848%\n",
       ":   51849%\n",
       ":   52850%\n",
       ":   53751%\n",
       ":   54752%\n",
       ":   55853%\n",
       ":   56854%\n",
       ":   57955%\n",
       ":   59056%\n",
       ":   60257%\n",
       ":   61358%\n",
       ":   62559%\n",
       ":   63760%\n",
       ":   65061%\n",
       ":   66362%\n",
       ":   67763%\n",
       ":   69164%\n",
       ":   70665%\n",
       ":   72066%\n",
       ":   73667%\n",
       ":   75368%\n",
       ":   76969%\n",
       ":   78770%\n",
       ":   80471%\n",
       ":   82372%\n",
       ":   84473%\n",
       ":   86574%\n",
       ":   88775%\n",
       ":   91076%\n",
       ":   93477%\n",
       ":   96078%\n",
       ":   98879%\n",
       ":   101780%\n",
       ":   104881%\n",
       ":   108182%\n",
       ":   111783%\n",
       ":   115584%\n",
       ":   119685%\n",
       ":   124086%\n",
       ":   128887%\n",
       ":   133888%\n",
       ":   139289%\n",
       ":   145290%\n",
       ":   1517.591%\n",
       ":   159292%\n",
       ":   167793%\n",
       ":   177194%\n",
       ":   188595%\n",
       ":   202496%\n",
       ":   220197%\n",
       ":   246598%\n",
       ":   302399%\n",
       ":   4629100%\n",
       ":   10632022\n",
       "\n"
      ],
      "text/plain": [
       "        0%         1%         2%         3%         4%         5%         6% \n",
       "       1.0       69.0      119.0      139.0      154.0      167.0      178.0 \n",
       "        7%         8%         9%        10%        11%        12%        13% \n",
       "     188.0      197.0      207.0      215.0      224.0      232.0      240.0 \n",
       "       14%        15%        16%        17%        18%        19%        20% \n",
       "     247.0      255.0      263.0      270.0      277.0      284.0      292.0 \n",
       "       21%        22%        23%        24%        25%        26%        27% \n",
       "     299.0      306.0      313.0      320.0      328.0      335.0      343.0 \n",
       "       28%        29%        30%        31%        32%        33%        34% \n",
       "     350.0      358.0      365.0      373.0      381.0      388.0      396.0 \n",
       "       35%        36%        37%        38%        39%        40%        41% \n",
       "     404.0      412.0      420.0      428.0      437.0      445.0      454.0 \n",
       "       42%        43%        44%        45%        46%        47%        48% \n",
       "     462.0      471.0      480.0      489.0      499.0      508.0      518.0 \n",
       "       49%        50%        51%        52%        53%        54%        55% \n",
       "     528.0      537.0      547.0      558.0      568.0      579.0      590.0 \n",
       "       56%        57%        58%        59%        60%        61%        62% \n",
       "     602.0      613.0      625.0      637.0      650.0      663.0      677.0 \n",
       "       63%        64%        65%        66%        67%        68%        69% \n",
       "     691.0      706.0      720.0      736.0      753.0      769.0      787.0 \n",
       "       70%        71%        72%        73%        74%        75%        76% \n",
       "     804.0      823.0      844.0      865.0      887.0      910.0      934.0 \n",
       "       77%        78%        79%        80%        81%        82%        83% \n",
       "     960.0      988.0     1017.0     1048.0     1081.0     1117.0     1155.0 \n",
       "       84%        85%        86%        87%        88%        89%        90% \n",
       "    1196.0     1240.0     1288.0     1338.0     1392.0     1452.0     1517.5 \n",
       "       91%        92%        93%        94%        95%        96%        97% \n",
       "    1592.0     1677.0     1771.0     1885.0     2024.0     2201.0     2465.0 \n",
       "       98%        99%       100% \n",
       "    3023.0     4629.0 10632022.0 "
      ]
     },
     "metadata": {},
     "output_type": "display_data"
    }
   ],
   "source": [
    "summary(all_trips_cleaned$ride_duration)\n",
    "quantile(all_trips_cleaned$ride_duration, probs = seq(0, 1, 0.01))"
   ]
  },
  {
   "cell_type": "markdown",
   "id": "edcbc216",
   "metadata": {
    "papermill": {
     "duration": 0.014399,
     "end_time": "2025-06-04T10:13:59.070449",
     "exception": false,
     "start_time": "2025-06-04T10:13:59.056050",
     "status": "completed"
    },
    "tags": []
   },
   "source": [
    "The quantiles show that the extreme outliers exist on `100th percentile`. Filter extreme rides for clearer visuals."
   ]
  },
  {
   "cell_type": "code",
   "execution_count": 35,
   "id": "21b5864e",
   "metadata": {
    "execution": {
     "iopub.execute_input": "2025-06-04T10:13:59.103034Z",
     "iopub.status.busy": "2025-06-04T10:13:59.101727Z",
     "iopub.status.idle": "2025-06-04T10:14:00.616316Z",
     "shell.execute_reply": "2025-06-04T10:14:00.614761Z"
    },
    "papermill": {
     "duration": 1.532771,
     "end_time": "2025-06-04T10:14:00.618239",
     "exception": false,
     "start_time": "2025-06-04T10:13:59.085468",
     "status": "completed"
    },
    "tags": []
   },
   "outputs": [
    {
     "data": {
      "image/png": "[encoded data removed]"
     },
     "metadata": {
      "image/png": {
       "height": 420,
       "width": 420
      }
     },
     "output_type": "display_data"
    }
   ],
   "source": [
    "threshold <- quantile(all_trips_cleaned$ride_duration, 0.99)\n",
    "boxplot(\n",
    "    all_trips_cleaned$ride_duration[\n",
    "        all_trips_cleaned$ride_duration <= threshold\n",
    "    ], \n",
    "    main = \"Boxplot of Ride Duration (Removed Top 1%)\",\n",
    "    ylab = \"Duration (seconds)\",\n",
    "    horizontal = TRUE)"
   ]
  },
  {
   "cell_type": "markdown",
   "id": "4d03ff35",
   "metadata": {
    "papermill": {
     "duration": 0.018598,
     "end_time": "2025-06-04T10:14:00.653738",
     "exception": false,
     "start_time": "2025-06-04T10:14:00.635140",
     "status": "completed"
    },
    "tags": []
   },
   "source": [
    "Although the boxplot without top 1% is still right-skewed, the spread is more understandable. So, remove the entries with top 1% `ride-duration` and continue with analysis.\n",
    "\n",
    "**Note:** We could use the log-transformed data for modeling or advanced analysis. But for this case study, we can continue with our exploratory data analysis."
   ]
  },
  {
   "cell_type": "code",
   "execution_count": 36,
   "id": "a67fd222",
   "metadata": {
    "execution": {
     "iopub.execute_input": "2025-06-04T10:14:00.692414Z",
     "iopub.status.busy": "2025-06-04T10:14:00.690899Z",
     "iopub.status.idle": "2025-06-04T10:14:00.796188Z",
     "shell.execute_reply": "2025-06-04T10:14:00.794584Z"
    },
    "papermill": {
     "duration": 0.12638,
     "end_time": "2025-06-04T10:14:00.798990",
     "exception": false,
     "start_time": "2025-06-04T10:14:00.672610",
     "status": "completed"
    },
    "tags": []
   },
   "outputs": [],
   "source": [
    "all_trips_cleaned <- all_trips_cleaned %>%\n",
    "  filter(ride_duration < quantile(ride_duration, 0.99))"
   ]
  },
  {
   "cell_type": "markdown",
   "id": "81d880a0",
   "metadata": {
    "papermill": {
     "duration": 0.015814,
     "end_time": "2025-06-04T10:14:00.831906",
     "exception": false,
     "start_time": "2025-06-04T10:14:00.816092",
     "status": "completed"
    },
    "tags": []
   },
   "source": [
    "Inspect the structure of the cleaned dataset."
   ]
  },
  {
   "cell_type": "code",
   "execution_count": 37,
   "id": "b21765f8",
   "metadata": {
    "execution": {
     "iopub.execute_input": "2025-06-04T10:14:00.868806Z",
     "iopub.status.busy": "2025-06-04T10:14:00.867202Z",
     "iopub.status.idle": "2025-06-04T10:14:00.895187Z",
     "shell.execute_reply": "2025-06-04T10:14:00.893742Z"
    },
    "papermill": {
     "duration": 0.050555,
     "end_time": "2025-06-04T10:14:00.898335",
     "exception": false,
     "start_time": "2025-06-04T10:14:00.847780",
     "status": "completed"
    },
    "tags": []
   },
   "outputs": [
    {
     "name": "stdout",
     "output_type": "stream",
     "text": [
      "tibble [783,827 × 14] (S3: tbl_df/tbl/data.frame)\n",
      " $ ride_id            : chr [1:783827] \"21742443\" \"21742444\" \"21742445\" \"21742446\" ...\n",
      " $ started_at         : POSIXct[1:783827], format: \"2019-01-01 00:04:37\" \"2019-01-01 00:08:13\" ...\n",
      " $ ended_at           : POSIXct[1:783827], format: \"2019-01-01 00:11:07\" \"2019-01-01 00:15:34\" ...\n",
      " $ start_station_id   : num [1:783827] 199 44 15 123 173 98 98 211 150 268 ...\n",
      " $ start_station_name : chr [1:783827] \"Wabash Ave & Grand Ave\" \"State St & Randolph St\" \"Racine Ave & 18th St\" \"California Ave & Milwaukee Ave\" ...\n",
      " $ end_station_id     : num [1:783827] 84 624 644 176 35 49 49 142 148 141 ...\n",
      " $ end_station_name   : chr [1:783827] \"Milwaukee Ave & Grand Ave\" \"Dearborn St & Van Buren St (*)\" \"Western Ave & Fillmore St (*)\" \"Clark St & Elm St\" ...\n",
      " $ member_casual      : chr [1:783827] \"member\" \"member\" \"member\" \"member\" ...\n",
      " $ started_date       : Date[1:783827], format: \"2019-01-01\" \"2019-01-01\" ...\n",
      " $ started_month      : num [1:783827] 1 1 1 1 1 1 1 1 1 1 ...\n",
      " $ started_day        : num [1:783827] 1 1 1 1 1 1 1 1 1 1 ...\n",
      " $ started_year       : num [1:783827] 2019 2019 2019 2019 2019 ...\n",
      " $ started_day_of_week: Ord.factor w/ 7 levels \"Sun\"<\"Mon\"<\"Tue\"<..: 3 3 3 3 3 3 3 3 3 3 ...\n",
      " $ ride_duration      : num [1:783827] 390 441 829 1783 364 ...\n"
     ]
    }
   ],
   "source": [
    "str(all_trips_cleaned)"
   ]
  },
  {
   "cell_type": "markdown",
   "id": "1575d434",
   "metadata": {
    "papermill": {
     "duration": 0.015133,
     "end_time": "2025-06-04T10:14:00.930732",
     "exception": false,
     "start_time": "2025-06-04T10:14:00.915599",
     "status": "completed"
    },
    "tags": []
   },
   "source": [
    "Get the statistical summary of the cleaned dataset to understand the data (mainly numeric) distribution."
   ]
  },
  {
   "cell_type": "code",
   "execution_count": 38,
   "id": "26c16f3f",
   "metadata": {
    "execution": {
     "iopub.execute_input": "2025-06-04T10:14:00.979825Z",
     "iopub.status.busy": "2025-06-04T10:14:00.976243Z",
     "iopub.status.idle": "2025-06-04T10:14:01.658973Z",
     "shell.execute_reply": "2025-06-04T10:14:01.657433Z"
    },
    "papermill": {
     "duration": 0.714456,
     "end_time": "2025-06-04T10:14:01.661359",
     "exception": false,
     "start_time": "2025-06-04T10:14:00.946903",
     "status": "completed"
    },
    "tags": []
   },
   "outputs": [
    {
     "data": {
      "text/plain": [
       "   ride_id            started_at                   \n",
       " Length:783827      Min.   :2019-01-01 00:04:37.0  \n",
       " Class :character   1st Qu.:2019-02-28 14:36:29.0  \n",
       " Mode  :character   Median :2020-01-07 08:57:02.0  \n",
       "                    Mean   :2019-08-31 23:32:24.7  \n",
       "                    3rd Qu.:2020-02-19 16:23:39.5  \n",
       "                    Max.   :2020-03-31 23:51:34.0  \n",
       "                                                   \n",
       "    ended_at                      start_station_id start_station_name\n",
       " Min.   :2019-01-01 00:11:07.00   Min.   :  2.0    Length:783827     \n",
       " 1st Qu.:2019-02-28 14:45:19.50   1st Qu.: 77.0    Class :character  \n",
       " Median :2020-01-07 09:08:38.00   Median :174.0    Mode  :character  \n",
       " Mean   :2019-08-31 23:44:17.76   Mean   :204.2                      \n",
       " 3rd Qu.:2020-02-19 16:33:56.00   3rd Qu.:291.0                      \n",
       " Max.   :2020-04-01 00:03:33.00   Max.   :675.0                      \n",
       "                                                                     \n",
       " end_station_id  end_station_name   member_casual       started_date       \n",
       " Min.   :  2.0   Length:783827      Length:783827      Min.   :2019-01-01  \n",
       " 1st Qu.: 77.0   Class :character   Class :character   1st Qu.:2019-02-28  \n",
       " Median :174.0   Mode  :character   Mode  :character   Median :2020-01-07  \n",
       " Mean   :204.2                                         Mean   :2019-08-31  \n",
       " 3rd Qu.:291.0                                         3rd Qu.:2020-02-19  \n",
       " Max.   :675.0                                         Max.   :2020-03-31  \n",
       "                                                                           \n",
       " started_month    started_day     started_year  started_day_of_week\n",
       " Min.   :1.000   Min.   : 1.00   Min.   :2019   Sun: 76588         \n",
       " 1st Qu.:1.000   1st Qu.: 7.00   1st Qu.:2019   Mon:116565         \n",
       " Median :2.000   Median :14.00   Median :2020   Tue:135136         \n",
       " Mean   :2.075   Mean   :14.74   Mean   :2020   Wed:129155         \n",
       " 3rd Qu.:3.000   3rd Qu.:22.00   3rd Qu.:2020   Thu:132230         \n",
       " Max.   :3.000   Max.   :31.00   Max.   :2020   Fri:122747         \n",
       "                                                Sat: 71406         \n",
       " ride_duration \n",
       " Min.   :   1  \n",
       " 1st Qu.: 326  \n",
       " Median : 532  \n",
       " Mean   : 713  \n",
       " 3rd Qu.: 892  \n",
       " Max.   :4628  \n",
       "               "
      ]
     },
     "metadata": {},
     "output_type": "display_data"
    }
   ],
   "source": [
    "summary(all_trips_cleaned)"
   ]
  },
  {
   "cell_type": "markdown",
   "id": "49c811e5",
   "metadata": {
    "papermill": {
     "duration": 0.016672,
     "end_time": "2025-06-04T10:14:01.695563",
     "exception": false,
     "start_time": "2025-06-04T10:14:01.678891",
     "status": "completed"
    },
    "tags": []
   },
   "source": [
    "**Note:** The mean of `started_at` and `ended_at` columns are showing as August 29, 2019, which is out of our time frame. But from the summary of individual datasets before, these data falls inside the respected time frame only and this is caused due to the average date calculation by `summary()`. "
   ]
  },
  {
   "cell_type": "markdown",
   "id": "4c209845",
   "metadata": {
    "papermill": {
     "duration": 0.015706,
     "end_time": "2025-06-04T10:14:01.729392",
     "exception": false,
     "start_time": "2025-06-04T10:14:01.713686",
     "status": "completed"
    },
    "tags": []
   },
   "source": [
    "## Documentation of any cleaning or manipulation of data\n",
    "\n",
    "* The R's `tidyverse` and `conflicted` packages are used to help analyzing this data and to manage any conflicts between the packages respectively.\n",
    "* Loaded the datasets as dataframes into Kaggle's notebook.\n",
    "* Started with understanding the dimensions of the two datasets.\n",
    "  * The 2019 Q1 dataframe has 365069 rows in 12 columns: trip_id, start_time, end_time, bikeid, tripduration, from_station_id, from_station_name, to_station_id, to_station_name, usertype, gender, birthyear.\n",
    "  * The 2020 Q1 dataframe has 426887 rows in 13 columns: ride_id, rideable_type, started_at, ended_at, start_station_name, start_station_id, end_station_name, end_station_id, start_lat, start_lng, end_lat, end_lng, member_casual.\n",
    "* These are the differences identified in column names between the two datasets:\n",
    "  * `ride_id` in 2020 Q1 dataset is named `trip_id` in 2019 Q1 dataset.\n",
    "  * `started_at` and `ended_at` in 2020 Q1 dataset are named `start_time` and `end_time` in 2019 Q1 dataset.\n",
    "  * `start_station_name` and `start_station_id` in 2020 Q1 dataset are named `from_station_name` and `from_station_id` in 2019 Q1 dataset.\n",
    "  * `end_station_name` and `end_station_id` in 2020 Q1 dataset are named `to_station_name` and `to_station_id` in 2019 Q1 dataset.\n",
    "  * `member_casual` in 2020 Q1 dataset is named `usertype` in 2019 Q1 dataset.\n",
    "  * `bikeid`, `tripduration`, `gender`, and `birthyear` columns in the 2019 Q1 dataset are not present in the 2020 Q1 dataset.\n",
    "  * `rideable_type`, `start_lat`, `start_lng`, `end_lat`, and `end_lng` columns in the 2020 Q1 dataset are not present in the 2019 Q1 dataset.\n",
    "* Removed the fields that are not common in the two datasets to streamline the data and focus on the columns that are essential for understanding bike usage patterns.\n",
    "* Standardized the column names of 2019 Q1 dataset to match the latest 2020 Q1 dataset. This will ensure consistency in column names across the two datasets, making it easier to combine and analyze them later.\n",
    "* Confirmed that the column names of the 2019 Q1 dataset match the 2020 Q1 dataset.\n",
    "  * The 2019 Q1 dataframe has 365069 rows in 8 columns: ride_id, started_at, ended_at, start_station_id, start_station_name, end_station_id, end_station_name, member_casual. \n",
    "  * The 2020 Q1 dataframe has 426887 rows in 8 columns: ride_id, started_at, ended_at, start_station_name, start_station_id, end_station_name, end_station_id, member_casual.\n",
    "* Inspected the column types in the two datasets to identify any discrepancies that may affect the analysis.\n",
    "* The `ride_id` column in the 2019 Q1 dataset is of type `integer`, while in the 2020 Q1 dataset it is of type `character`. To ensure consistency, converted this column in the 2019 Q1 dataset to `character` type.\n",
    "* Inspected the structure of the two datasets to verify that the data types and column names are consistent across both datasets.\n",
    "* Identified some entries in `end_station_name` column of 2019 Q1 dataset with \"(*)\". Validated that they are not any mistyped data by matching the unique number of station IDs and station names in each dataset.\n",
    "  * The  2019 Q1  dataframe has trips started from 594 Station IDs and 594 Station Names. \n",
    "  * The  2019 Q1  dataframe has trips ended at 600 Station IDs and 600 Station Names.\n",
    "  * The  2020 Q1  dataframe has trips started from 607 Station IDs and 607 Station Names.\n",
    "  * The  2020 Q1  dataframe has trips ended at 603 Station IDs and 603 Station Names.\n",
    "* There is also a difference observed in the labels for rider types in the `member_casual` column between the two datasets. \n",
    "  * The rider types in 2019 Q1 dataframe: Subscriber, Customer. \n",
    "  * The rider types in 2020 Q1 dataframe: member, casual\n",
    "* As the analysis focuses on the differences in bike usage patterns between annual members and casual riders, replaced \"Subscriber\" with \"member\" and \"Customer\" with \"casual\" in the `member_casual` column in 2019 Q1 dataset. This will help standardize the rider types and make it easier to analyze the data.\n",
    "* Calculated the statistical summary of each dataset to understand the individual data better.\n",
    "* The `started_at` values of 2019 Q1 dataset are in between January 2019 and March 2019 only, and the `started_at` values of 2020 Q1 dataset are in between January 2020 and March 2020 only.\n",
    "* There is one missing value in `end_station_id` of 2020 Q1 dataset. Removed this data entry.\n",
    "* As datasets are ready, combined the two datasets into a single dataset for further analysis.\n",
    "* As we merged two datasets, verified the new dataset for any duplicate entries and found none.\n",
    "* Confirmed that no data is missed while merging: \n",
    "  * The All Trips dataframe has 791955 rows in 8 columns: ride_id, started_at, ended_at, start_station_id, start_station_name, end_station_id, end_station_name, member_casual. \n",
    "* Viewed the first and last six rows of data. Inspected the structure of the dataset.\n",
    "* Calculated the statistical summary of the merged dataset to understand the distribution of values in each column.\n",
    "* Created new columns to extract the `started_date`, `started_month`, `started_day`, `started_year`, and `started_day_of_week` from the `started_at` column. This will help in analyzing ride patterns over time.\n",
    "* Calculated the ride length by subtracting the `started_at` time from the `ended_at` time. This will give us the duration of each ride in seconds. Then transformed this `ride_duration` column into numeric format for data calculations.\n",
    "* Inspected the structure of the columns in the dataset to ensure that the new columns have been added correctly and that the data types are appropriate for analysis. Identified some new columns can be transformed to numeric format.\n",
    "* Transformed the `started_month`, `started_day`, and `started_year` columns into numeric for better analysis.\n",
    "* Calculated the summary of the dataset to see the updated statistics after adding the new columns.\n",
    "* The `ride_duration` column have negative values, which indicates that there are rides where the end time is earlier than the start time. This could be due to data entry errors or other issues. Identified 209 entries with such bad data.\n",
    "* Observed that many of these bad data entries in the dataset has same `start_station_name` and `end_station_name` as \"HQ QR\", `start_station_id` and `end_station_id` as 675, and `member_casual` as \"casual\". Then identified these are also the same 209 entries.\n",
    "* All these entries are likely related to the quality check of bikes at the Cyclistic headquarters (HQ QR) and are removed.\n",
    "* The `ride_duration` column has a maximum value of 10,632,022 seconds (2953.34 hours), which is quite high and may indicate outliers or very long rides. So, started to see the spread, central tendency, and outliers using a box plot.\n",
    "* The data is `extremely right-skewed`. The circles on the right suggests `there are many outliers`. The entire box (25th to 75th percentile) is compressed around very small values - `typical rides are short`. Started investigating the outliers by creating quantiles.\n",
    "* The quantiles show that the extreme outliers exist on `100th percentile`. Filtered extreme rides for clearer visuals.\n",
    "* Although the boxplot without top 1% is still right-skewed, the spread is more understandable. So, removed the entries with top 1% `ride-duration` and continued with analysis. **Note:** We could use the log-transformed data for modeling or advanced analysis. But for this case study, we can continue with our exploratory data analysis.\n",
    "* Inspected the structure and statistical summary of the cleaned dataset. \n",
    "* **Note:** The mean of `started_at` and `ended_at` columns are showing as August 29, 2019, which is out of our time frame. But from the summary of individual datasets before, these data falls inside the respected time frame only and this is caused due to the average date calculation by `summary()`.\n",
    "* Everything looks good!"
   ]
  },
  {
   "cell_type": "markdown",
   "id": "c3f8058f",
   "metadata": {
    "papermill": {
     "duration": 0.015426,
     "end_time": "2025-06-04T10:14:01.760384",
     "exception": false,
     "start_time": "2025-06-04T10:14:01.744958",
     "status": "completed"
    },
    "tags": []
   },
   "source": [
    "Compare the `Ridership data` (`Number of Rides` and `Average Ride Duration`) by `Rider Type` (`Casual riders` and `Annual members`)."
   ]
  },
  {
   "cell_type": "code",
   "execution_count": 39,
   "id": "83e7f331",
   "metadata": {
    "execution": {
     "iopub.execute_input": "2025-06-04T10:14:01.795245Z",
     "iopub.status.busy": "2025-06-04T10:14:01.793803Z",
     "iopub.status.idle": "2025-06-04T10:14:01.846268Z",
     "shell.execute_reply": "2025-06-04T10:14:01.844957Z"
    },
    "papermill": {
     "duration": 0.071939,
     "end_time": "2025-06-04T10:14:01.848165",
     "exception": false,
     "start_time": "2025-06-04T10:14:01.776226",
     "status": "completed"
    },
    "tags": []
   },
   "outputs": [
    {
     "data": {
      "text/html": [
       "<table class=\"dataframe\">\n",
       "<caption>A tibble: 2 × 3</caption>\n",
       "<thead>\n",
       "\t<tr><th scope=col>member_casual</th><th scope=col>number_of_rides</th><th scope=col>average_ride_duration</th></tr>\n",
       "\t<tr><th scope=col>&lt;chr&gt;</th><th scope=col>&lt;int&gt;</th><th scope=col>&lt;dbl&gt;</th></tr>\n",
       "</thead>\n",
       "<tbody>\n",
       "\t<tr><td>casual</td><td> 65089</td><td>1404.1143</td></tr>\n",
       "\t<tr><td>member</td><td>718738</td><td> 650.3815</td></tr>\n",
       "</tbody>\n",
       "</table>\n"
      ],
      "text/latex": [
       "A tibble: 2 × 3\n",
       "\\begin{tabular}{lll}\n",
       " member\\_casual & number\\_of\\_rides & average\\_ride\\_duration\\\\\n",
       " <chr> & <int> & <dbl>\\\\\n",
       "\\hline\n",
       "\t casual &  65089 & 1404.1143\\\\\n",
       "\t member & 718738 &  650.3815\\\\\n",
       "\\end{tabular}\n"
      ],
      "text/markdown": [
       "\n",
       "A tibble: 2 × 3\n",
       "\n",
       "| member_casual &lt;chr&gt; | number_of_rides &lt;int&gt; | average_ride_duration &lt;dbl&gt; |\n",
       "|---|---|---|\n",
       "| casual |  65089 | 1404.1143 |\n",
       "| member | 718738 |  650.3815 |\n",
       "\n"
      ],
      "text/plain": [
       "  member_casual number_of_rides average_ride_duration\n",
       "1 casual         65089          1404.1143            \n",
       "2 member        718738           650.3815            "
      ]
     },
     "metadata": {},
     "output_type": "display_data"
    }
   ],
   "source": [
    "ridership_by_ridertype <- all_trips_cleaned %>%\n",
    "    group_by(member_casual) %>%\n",
    "    summarise(\n",
    "        number_of_rides = n(),\n",
    "        average_ride_duration = mean(ride_duration)\n",
    "    )\n",
    "ridership_by_ridertype\n",
    "write.csv(ridership_by_ridertype, \n",
    "          file = \"/kaggle/working/ridership_by_ridertype.csv\", \n",
    "          row.names = FALSE)"
   ]
  },
  {
   "cell_type": "markdown",
   "id": "bcfccff5",
   "metadata": {
    "papermill": {
     "duration": 0.015085,
     "end_time": "2025-06-04T10:14:01.879179",
     "exception": false,
     "start_time": "2025-06-04T10:14:01.864094",
     "status": "completed"
    },
    "tags": []
   },
   "source": [
    "Compare the `Ridership data` on each `Day of the Week`."
   ]
  },
  {
   "cell_type": "code",
   "execution_count": 40,
   "id": "4171ef81",
   "metadata": {
    "execution": {
     "iopub.execute_input": "2025-06-04T10:14:01.916174Z",
     "iopub.status.busy": "2025-06-04T10:14:01.914884Z",
     "iopub.status.idle": "2025-06-04T10:14:01.952310Z",
     "shell.execute_reply": "2025-06-04T10:14:01.950827Z"
    },
    "papermill": {
     "duration": 0.058931,
     "end_time": "2025-06-04T10:14:01.954598",
     "exception": false,
     "start_time": "2025-06-04T10:14:01.895667",
     "status": "completed"
    },
    "tags": []
   },
   "outputs": [
    {
     "data": {
      "text/html": [
       "<table class=\"dataframe\">\n",
       "<caption>A tibble: 7 × 3</caption>\n",
       "<thead>\n",
       "\t<tr><th scope=col>started_day_of_week</th><th scope=col>number_of_rides</th><th scope=col>average_ride_duration</th></tr>\n",
       "\t<tr><th scope=col>&lt;ord&gt;</th><th scope=col>&lt;int&gt;</th><th scope=col>&lt;dbl&gt;</th></tr>\n",
       "</thead>\n",
       "<tbody>\n",
       "\t<tr><td>Sun</td><td> 76588</td><td>938.6905</td></tr>\n",
       "\t<tr><td>Mon</td><td>116565</td><td>662.0110</td></tr>\n",
       "\t<tr><td>Tue</td><td>135136</td><td>675.4157</td></tr>\n",
       "\t<tr><td>Wed</td><td>129155</td><td>682.8417</td></tr>\n",
       "\t<tr><td>Thu</td><td>132230</td><td>668.7396</td></tr>\n",
       "\t<tr><td>Fri</td><td>122747</td><td>667.2206</td></tr>\n",
       "\t<tr><td>Sat</td><td> 71406</td><td>840.1874</td></tr>\n",
       "</tbody>\n",
       "</table>\n"
      ],
      "text/latex": [
       "A tibble: 7 × 3\n",
       "\\begin{tabular}{lll}\n",
       " started\\_day\\_of\\_week & number\\_of\\_rides & average\\_ride\\_duration\\\\\n",
       " <ord> & <int> & <dbl>\\\\\n",
       "\\hline\n",
       "\t Sun &  76588 & 938.6905\\\\\n",
       "\t Mon & 116565 & 662.0110\\\\\n",
       "\t Tue & 135136 & 675.4157\\\\\n",
       "\t Wed & 129155 & 682.8417\\\\\n",
       "\t Thu & 132230 & 668.7396\\\\\n",
       "\t Fri & 122747 & 667.2206\\\\\n",
       "\t Sat &  71406 & 840.1874\\\\\n",
       "\\end{tabular}\n"
      ],
      "text/markdown": [
       "\n",
       "A tibble: 7 × 3\n",
       "\n",
       "| started_day_of_week &lt;ord&gt; | number_of_rides &lt;int&gt; | average_ride_duration &lt;dbl&gt; |\n",
       "|---|---|---|\n",
       "| Sun |  76588 | 938.6905 |\n",
       "| Mon | 116565 | 662.0110 |\n",
       "| Tue | 135136 | 675.4157 |\n",
       "| Wed | 129155 | 682.8417 |\n",
       "| Thu | 132230 | 668.7396 |\n",
       "| Fri | 122747 | 667.2206 |\n",
       "| Sat |  71406 | 840.1874 |\n",
       "\n"
      ],
      "text/plain": [
       "  started_day_of_week number_of_rides average_ride_duration\n",
       "1 Sun                  76588          938.6905             \n",
       "2 Mon                 116565          662.0110             \n",
       "3 Tue                 135136          675.4157             \n",
       "4 Wed                 129155          682.8417             \n",
       "5 Thu                 132230          668.7396             \n",
       "6 Fri                 122747          667.2206             \n",
       "7 Sat                  71406          840.1874             "
      ]
     },
     "metadata": {},
     "output_type": "display_data"
    }
   ],
   "source": [
    "ridership_by_day <- all_trips_cleaned %>%\n",
    "    group_by(started_day_of_week) %>%\n",
    "    summarise(\n",
    "        number_of_rides = n(),\n",
    "        average_ride_duration = mean(ride_duration)\n",
    "    )\n",
    "ridership_by_day\n",
    "write.csv(ridership_by_day, \n",
    "          file = \"/kaggle/working/ridership_by_day.csv\", \n",
    "          row.names = FALSE)"
   ]
  },
  {
   "cell_type": "markdown",
   "id": "fb9c3051",
   "metadata": {
    "papermill": {
     "duration": 0.016487,
     "end_time": "2025-06-04T10:14:01.987455",
     "exception": false,
     "start_time": "2025-06-04T10:14:01.970968",
     "status": "completed"
    },
    "tags": []
   },
   "source": [
    "Compare the `Ridership data` between `Casual riders` and `Annual members` on each `Day of the Week`."
   ]
  },
  {
   "cell_type": "code",
   "execution_count": 41,
   "id": "7180bf73",
   "metadata": {
    "execution": {
     "iopub.execute_input": "2025-06-04T10:14:02.025184Z",
     "iopub.status.busy": "2025-06-04T10:14:02.023887Z",
     "iopub.status.idle": "2025-06-04T10:14:02.121501Z",
     "shell.execute_reply": "2025-06-04T10:14:02.120224Z"
    },
    "papermill": {
     "duration": 0.117378,
     "end_time": "2025-06-04T10:14:02.123547",
     "exception": false,
     "start_time": "2025-06-04T10:14:02.006169",
     "status": "completed"
    },
    "tags": []
   },
   "outputs": [
    {
     "data": {
      "text/html": [
       "<table class=\"dataframe\">\n",
       "<caption>A tibble: 14 × 4</caption>\n",
       "<thead>\n",
       "\t<tr><th scope=col>started_day_of_week</th><th scope=col>member_casual</th><th scope=col>number_of_rides</th><th scope=col>average_ride_duration</th></tr>\n",
       "\t<tr><th scope=col>&lt;ord&gt;</th><th scope=col>&lt;chr&gt;</th><th scope=col>&lt;int&gt;</th><th scope=col>&lt;dbl&gt;</th></tr>\n",
       "</thead>\n",
       "<tbody>\n",
       "\t<tr><td>Sun</td><td>casual</td><td> 16639</td><td>1677.4056</td></tr>\n",
       "\t<tr><td>Sun</td><td>member</td><td> 59949</td><td> 733.6582</td></tr>\n",
       "\t<tr><td>Mon</td><td>casual</td><td>  6309</td><td>1094.2289</td></tr>\n",
       "\t<tr><td>Mon</td><td>member</td><td>110256</td><td> 637.2789</td></tr>\n",
       "\t<tr><td>Tue</td><td>casual</td><td>  7395</td><td>1217.3132</td></tr>\n",
       "\t<tr><td>Tue</td><td>member</td><td>127741</td><td> 644.0450</td></tr>\n",
       "\t<tr><td>Wed</td><td>casual</td><td>  7448</td><td>1321.9863</td></tr>\n",
       "\t<tr><td>Wed</td><td>member</td><td>121707</td><td> 643.7285</td></tr>\n",
       "\t<tr><td>Thu</td><td>casual</td><td>  7213</td><td>1226.7136</td></tr>\n",
       "\t<tr><td>Thu</td><td>member</td><td>125017</td><td> 636.5466</td></tr>\n",
       "\t<tr><td>Fri</td><td>casual</td><td>  7846</td><td>1253.0920</td></tr>\n",
       "\t<tr><td>Fri</td><td>member</td><td>114901</td><td> 627.2144</td></tr>\n",
       "\t<tr><td>Sat</td><td>casual</td><td> 12239</td><td>1556.5260</td></tr>\n",
       "\t<tr><td>Sat</td><td>member</td><td> 59167</td><td> 692.0090</td></tr>\n",
       "</tbody>\n",
       "</table>\n"
      ],
      "text/latex": [
       "A tibble: 14 × 4\n",
       "\\begin{tabular}{llll}\n",
       " started\\_day\\_of\\_week & member\\_casual & number\\_of\\_rides & average\\_ride\\_duration\\\\\n",
       " <ord> & <chr> & <int> & <dbl>\\\\\n",
       "\\hline\n",
       "\t Sun & casual &  16639 & 1677.4056\\\\\n",
       "\t Sun & member &  59949 &  733.6582\\\\\n",
       "\t Mon & casual &   6309 & 1094.2289\\\\\n",
       "\t Mon & member & 110256 &  637.2789\\\\\n",
       "\t Tue & casual &   7395 & 1217.3132\\\\\n",
       "\t Tue & member & 127741 &  644.0450\\\\\n",
       "\t Wed & casual &   7448 & 1321.9863\\\\\n",
       "\t Wed & member & 121707 &  643.7285\\\\\n",
       "\t Thu & casual &   7213 & 1226.7136\\\\\n",
       "\t Thu & member & 125017 &  636.5466\\\\\n",
       "\t Fri & casual &   7846 & 1253.0920\\\\\n",
       "\t Fri & member & 114901 &  627.2144\\\\\n",
       "\t Sat & casual &  12239 & 1556.5260\\\\\n",
       "\t Sat & member &  59167 &  692.0090\\\\\n",
       "\\end{tabular}\n"
      ],
      "text/markdown": [
       "\n",
       "A tibble: 14 × 4\n",
       "\n",
       "| started_day_of_week &lt;ord&gt; | member_casual &lt;chr&gt; | number_of_rides &lt;int&gt; | average_ride_duration &lt;dbl&gt; |\n",
       "|---|---|---|---|\n",
       "| Sun | casual |  16639 | 1677.4056 |\n",
       "| Sun | member |  59949 |  733.6582 |\n",
       "| Mon | casual |   6309 | 1094.2289 |\n",
       "| Mon | member | 110256 |  637.2789 |\n",
       "| Tue | casual |   7395 | 1217.3132 |\n",
       "| Tue | member | 127741 |  644.0450 |\n",
       "| Wed | casual |   7448 | 1321.9863 |\n",
       "| Wed | member | 121707 |  643.7285 |\n",
       "| Thu | casual |   7213 | 1226.7136 |\n",
       "| Thu | member | 125017 |  636.5466 |\n",
       "| Fri | casual |   7846 | 1253.0920 |\n",
       "| Fri | member | 114901 |  627.2144 |\n",
       "| Sat | casual |  12239 | 1556.5260 |\n",
       "| Sat | member |  59167 |  692.0090 |\n",
       "\n"
      ],
      "text/plain": [
       "   started_day_of_week member_casual number_of_rides average_ride_duration\n",
       "1  Sun                 casual         16639          1677.4056            \n",
       "2  Sun                 member         59949           733.6582            \n",
       "3  Mon                 casual          6309          1094.2289            \n",
       "4  Mon                 member        110256           637.2789            \n",
       "5  Tue                 casual          7395          1217.3132            \n",
       "6  Tue                 member        127741           644.0450            \n",
       "7  Wed                 casual          7448          1321.9863            \n",
       "8  Wed                 member        121707           643.7285            \n",
       "9  Thu                 casual          7213          1226.7136            \n",
       "10 Thu                 member        125017           636.5466            \n",
       "11 Fri                 casual          7846          1253.0920            \n",
       "12 Fri                 member        114901           627.2144            \n",
       "13 Sat                 casual         12239          1556.5260            \n",
       "14 Sat                 member         59167           692.0090            "
      ]
     },
     "metadata": {},
     "output_type": "display_data"
    }
   ],
   "source": [
    "ridership_by_day_ridertype <- all_trips_cleaned %>%\n",
    "    group_by(started_day_of_week, member_casual) %>%\n",
    "    summarise(\n",
    "        number_of_rides = n(),\n",
    "        average_ride_duration = mean(ride_duration),\n",
    "        .groups = \"drop\"\n",
    "    ) %>%\n",
    "    arrange(started_day_of_week, member_casual)\n",
    "ridership_by_day_ridertype\n",
    "write.csv(ridership_by_day_ridertype, \n",
    "          file = \"/kaggle/working/ridership_by_day_ridertype.csv\", \n",
    "          row.names = FALSE)"
   ]
  },
  {
   "cell_type": "markdown",
   "id": "a0df9623",
   "metadata": {
    "papermill": {
     "duration": 0.018296,
     "end_time": "2025-06-04T10:14:02.159842",
     "exception": false,
     "start_time": "2025-06-04T10:14:02.141546",
     "status": "completed"
    },
    "tags": []
   },
   "source": [
    "There is an observable pattern for `Ridership data` between `Weekdays` and `Weekends` like the `Number of Rides` is more on weekdays and `Average Riding Minutes` is more on weekends. \n",
    "\n",
    "To understand this better, create a new column `started_day_type` by categorizing the day of the week ride started into `weekday` and `weekend`. "
   ]
  },
  {
   "cell_type": "code",
   "execution_count": 42,
   "id": "4fc85ed8",
   "metadata": {
    "execution": {
     "iopub.execute_input": "2025-06-04T10:14:02.214748Z",
     "iopub.status.busy": "2025-06-04T10:14:02.211961Z",
     "iopub.status.idle": "2025-06-04T10:14:02.355298Z",
     "shell.execute_reply": "2025-06-04T10:14:02.353856Z"
    },
    "papermill": {
     "duration": 0.177063,
     "end_time": "2025-06-04T10:14:02.357453",
     "exception": false,
     "start_time": "2025-06-04T10:14:02.180390",
     "status": "completed"
    },
    "tags": []
   },
   "outputs": [],
   "source": [
    "all_trips_cleaned$started_day_type <- ifelse(\n",
    "    all_trips_cleaned$started_day_of_week %in% c(\"Sat\", \"Sun\"), \n",
    "    \"weekend\", \n",
    "    \"weekday\")"
   ]
  },
  {
   "cell_type": "markdown",
   "id": "039baf76",
   "metadata": {
    "papermill": {
     "duration": 0.016725,
     "end_time": "2025-06-04T10:14:02.390657",
     "exception": false,
     "start_time": "2025-06-04T10:14:02.373932",
     "status": "completed"
    },
    "tags": []
   },
   "source": [
    "Compare the `Ridership data` between `Weekdays` and `Weekends`."
   ]
  },
  {
   "cell_type": "code",
   "execution_count": 43,
   "id": "e6af913f",
   "metadata": {
    "execution": {
     "iopub.execute_input": "2025-06-04T10:14:02.425292Z",
     "iopub.status.busy": "2025-06-04T10:14:02.423921Z",
     "iopub.status.idle": "2025-06-04T10:14:02.469258Z",
     "shell.execute_reply": "2025-06-04T10:14:02.467769Z"
    },
    "papermill": {
     "duration": 0.06482,
     "end_time": "2025-06-04T10:14:02.471248",
     "exception": false,
     "start_time": "2025-06-04T10:14:02.406428",
     "status": "completed"
    },
    "tags": []
   },
   "outputs": [
    {
     "data": {
      "text/html": [
       "<table class=\"dataframe\">\n",
       "<caption>A tibble: 2 × 3</caption>\n",
       "<thead>\n",
       "\t<tr><th scope=col>started_day_type</th><th scope=col>number_of_rides</th><th scope=col>average_ride_duration</th></tr>\n",
       "\t<tr><th scope=col>&lt;chr&gt;</th><th scope=col>&lt;int&gt;</th><th scope=col>&lt;dbl&gt;</th></tr>\n",
       "</thead>\n",
       "<tbody>\n",
       "\t<tr><td>weekday</td><td>635833</td><td>671.4962</td></tr>\n",
       "\t<tr><td>weekend</td><td>147994</td><td>891.1635</td></tr>\n",
       "</tbody>\n",
       "</table>\n"
      ],
      "text/latex": [
       "A tibble: 2 × 3\n",
       "\\begin{tabular}{lll}\n",
       " started\\_day\\_type & number\\_of\\_rides & average\\_ride\\_duration\\\\\n",
       " <chr> & <int> & <dbl>\\\\\n",
       "\\hline\n",
       "\t weekday & 635833 & 671.4962\\\\\n",
       "\t weekend & 147994 & 891.1635\\\\\n",
       "\\end{tabular}\n"
      ],
      "text/markdown": [
       "\n",
       "A tibble: 2 × 3\n",
       "\n",
       "| started_day_type &lt;chr&gt; | number_of_rides &lt;int&gt; | average_ride_duration &lt;dbl&gt; |\n",
       "|---|---|---|\n",
       "| weekday | 635833 | 671.4962 |\n",
       "| weekend | 147994 | 891.1635 |\n",
       "\n"
      ],
      "text/plain": [
       "  started_day_type number_of_rides average_ride_duration\n",
       "1 weekday          635833          671.4962             \n",
       "2 weekend          147994          891.1635             "
      ]
     },
     "metadata": {},
     "output_type": "display_data"
    }
   ],
   "source": [
    "ridership_by_daytype <- all_trips_cleaned %>%\n",
    "    group_by(started_day_type) %>%\n",
    "    summarise(\n",
    "        number_of_rides = n(),\n",
    "        average_ride_duration = mean(ride_duration)\n",
    "    )\n",
    "ridership_by_daytype\n",
    "write.csv(ridership_by_daytype, \n",
    "          file = \"/kaggle/working/ridership_by_daytype.csv\", \n",
    "          row.names = FALSE)"
   ]
  },
  {
   "cell_type": "markdown",
   "id": "803962c7",
   "metadata": {
    "papermill": {
     "duration": 0.015461,
     "end_time": "2025-06-04T10:14:02.502285",
     "exception": false,
     "start_time": "2025-06-04T10:14:02.486824",
     "status": "completed"
    },
    "tags": []
   },
   "source": [
    "Compare the `Ridership data` between `Casual riders` and `Annual members` on `Weekdays` and `Weekends`."
   ]
  },
  {
   "cell_type": "code",
   "execution_count": 44,
   "id": "29e92eca",
   "metadata": {
    "execution": {
     "iopub.execute_input": "2025-06-04T10:14:02.539697Z",
     "iopub.status.busy": "2025-06-04T10:14:02.538153Z",
     "iopub.status.idle": "2025-06-04T10:14:02.601126Z",
     "shell.execute_reply": "2025-06-04T10:14:02.599584Z"
    },
    "papermill": {
     "duration": 0.084149,
     "end_time": "2025-06-04T10:14:02.603043",
     "exception": false,
     "start_time": "2025-06-04T10:14:02.518894",
     "status": "completed"
    },
    "tags": []
   },
   "outputs": [
    {
     "data": {
      "text/html": [
       "<table class=\"dataframe\">\n",
       "<caption>A tibble: 4 × 4</caption>\n",
       "<thead>\n",
       "\t<tr><th scope=col>started_day_type</th><th scope=col>member_casual</th><th scope=col>number_of_rides</th><th scope=col>average_ride_duration</th></tr>\n",
       "\t<tr><th scope=col>&lt;chr&gt;</th><th scope=col>&lt;chr&gt;</th><th scope=col>&lt;int&gt;</th><th scope=col>&lt;dbl&gt;</th></tr>\n",
       "</thead>\n",
       "<tbody>\n",
       "\t<tr><td>weekday</td><td>casual</td><td> 36211</td><td>1227.0227</td></tr>\n",
       "\t<tr><td>weekday</td><td>member</td><td>599622</td><td> 637.9481</td></tr>\n",
       "\t<tr><td>weekend</td><td>casual</td><td> 28878</td><td>1626.1747</td></tr>\n",
       "\t<tr><td>weekend</td><td>member</td><td>119116</td><td> 712.9703</td></tr>\n",
       "</tbody>\n",
       "</table>\n"
      ],
      "text/latex": [
       "A tibble: 4 × 4\n",
       "\\begin{tabular}{llll}\n",
       " started\\_day\\_type & member\\_casual & number\\_of\\_rides & average\\_ride\\_duration\\\\\n",
       " <chr> & <chr> & <int> & <dbl>\\\\\n",
       "\\hline\n",
       "\t weekday & casual &  36211 & 1227.0227\\\\\n",
       "\t weekday & member & 599622 &  637.9481\\\\\n",
       "\t weekend & casual &  28878 & 1626.1747\\\\\n",
       "\t weekend & member & 119116 &  712.9703\\\\\n",
       "\\end{tabular}\n"
      ],
      "text/markdown": [
       "\n",
       "A tibble: 4 × 4\n",
       "\n",
       "| started_day_type &lt;chr&gt; | member_casual &lt;chr&gt; | number_of_rides &lt;int&gt; | average_ride_duration &lt;dbl&gt; |\n",
       "|---|---|---|---|\n",
       "| weekday | casual |  36211 | 1227.0227 |\n",
       "| weekday | member | 599622 |  637.9481 |\n",
       "| weekend | casual |  28878 | 1626.1747 |\n",
       "| weekend | member | 119116 |  712.9703 |\n",
       "\n"
      ],
      "text/plain": [
       "  started_day_type member_casual number_of_rides average_ride_duration\n",
       "1 weekday          casual         36211          1227.0227            \n",
       "2 weekday          member        599622           637.9481            \n",
       "3 weekend          casual         28878          1626.1747            \n",
       "4 weekend          member        119116           712.9703            "
      ]
     },
     "metadata": {},
     "output_type": "display_data"
    }
   ],
   "source": [
    "ridership_by_daytype_ridertype <- all_trips_cleaned %>%\n",
    "    group_by(started_day_type, member_casual) %>%\n",
    "    summarise(\n",
    "        number_of_rides = n(),\n",
    "        average_ride_duration = mean(ride_duration),\n",
    "        .groups = \"drop\"\n",
    "    ) %>%\n",
    "    arrange(started_day_type, member_casual)\n",
    "ridership_by_daytype_ridertype\n",
    "write.csv(ridership_by_daytype_ridertype, \n",
    "          file = \"/kaggle/working/ridership_by_daytype_ridertype.csv\", \n",
    "          row.names = FALSE)"
   ]
  },
  {
   "cell_type": "markdown",
   "id": "e4d62b9b",
   "metadata": {
    "papermill": {
     "duration": 0.015515,
     "end_time": "2025-06-04T10:14:02.635026",
     "exception": false,
     "start_time": "2025-06-04T10:14:02.619511",
     "status": "completed"
    },
    "tags": []
   },
   "source": [
    "Identify the `top 10 most used stations`."
   ]
  },
  {
   "cell_type": "code",
   "execution_count": 45,
   "id": "66bf5ed5",
   "metadata": {
    "execution": {
     "iopub.execute_input": "2025-06-04T10:14:02.678364Z",
     "iopub.status.busy": "2025-06-04T10:14:02.675851Z",
     "iopub.status.idle": "2025-06-04T10:14:02.777561Z",
     "shell.execute_reply": "2025-06-04T10:14:02.776158Z"
    },
    "papermill": {
     "duration": 0.129827,
     "end_time": "2025-06-04T10:14:02.779855",
     "exception": false,
     "start_time": "2025-06-04T10:14:02.650028",
     "status": "completed"
    },
    "tags": []
   },
   "outputs": [
    {
     "data": {
      "text/html": [
       "<table class=\"dataframe\">\n",
       "<caption>A tibble: 10 × 4</caption>\n",
       "<thead>\n",
       "\t<tr><th scope=col>start_station_id</th><th scope=col>start_station_name</th><th scope=col>number_of_rides</th><th scope=col>ride_share</th></tr>\n",
       "\t<tr><th scope=col>&lt;dbl&gt;</th><th scope=col>&lt;chr&gt;</th><th scope=col>&lt;int&gt;</th><th scope=col>&lt;chr&gt;</th></tr>\n",
       "</thead>\n",
       "<tbody>\n",
       "\t<tr><td>192</td><td><span style=white-space:pre-wrap>Canal St &amp; Adams St         </span></td><td>14127</td><td>2%</td></tr>\n",
       "\t<tr><td> 91</td><td>Clinton St &amp; Washington Blvd</td><td>13613</td><td>2%</td></tr>\n",
       "\t<tr><td> 77</td><td><span style=white-space:pre-wrap>Clinton St &amp; Madison St     </span></td><td>13291</td><td>2%</td></tr>\n",
       "\t<tr><td>195</td><td><span style=white-space:pre-wrap>Columbus Dr &amp; Randolph St   </span></td><td> 9021</td><td>1%</td></tr>\n",
       "\t<tr><td>133</td><td><span style=white-space:pre-wrap>Kingsbury St &amp; Kinzie St    </span></td><td> 8993</td><td>1%</td></tr>\n",
       "\t<tr><td>174</td><td><span style=white-space:pre-wrap>Canal St &amp; Madison St       </span></td><td> 8165</td><td>1%</td></tr>\n",
       "\t<tr><td> 43</td><td>Michigan Ave &amp; Washington St</td><td> 7374</td><td>1%</td></tr>\n",
       "\t<tr><td>287</td><td><span style=white-space:pre-wrap>Franklin St &amp; Monroe St     </span></td><td> 7207</td><td>1%</td></tr>\n",
       "\t<tr><td> 48</td><td><span style=white-space:pre-wrap>Larrabee St &amp; Kingsbury St  </span></td><td> 6698</td><td>1%</td></tr>\n",
       "\t<tr><td> 66</td><td><span style=white-space:pre-wrap>Clinton St &amp; Lake St        </span></td><td> 6648</td><td>1%</td></tr>\n",
       "</tbody>\n",
       "</table>\n"
      ],
      "text/latex": [
       "A tibble: 10 × 4\n",
       "\\begin{tabular}{llll}\n",
       " start\\_station\\_id & start\\_station\\_name & number\\_of\\_rides & ride\\_share\\\\\n",
       " <dbl> & <chr> & <int> & <chr>\\\\\n",
       "\\hline\n",
       "\t 192 & Canal St \\& Adams St          & 14127 & 2\\%\\\\\n",
       "\t  91 & Clinton St \\& Washington Blvd & 13613 & 2\\%\\\\\n",
       "\t  77 & Clinton St \\& Madison St      & 13291 & 2\\%\\\\\n",
       "\t 195 & Columbus Dr \\& Randolph St    &  9021 & 1\\%\\\\\n",
       "\t 133 & Kingsbury St \\& Kinzie St     &  8993 & 1\\%\\\\\n",
       "\t 174 & Canal St \\& Madison St        &  8165 & 1\\%\\\\\n",
       "\t  43 & Michigan Ave \\& Washington St &  7374 & 1\\%\\\\\n",
       "\t 287 & Franklin St \\& Monroe St      &  7207 & 1\\%\\\\\n",
       "\t  48 & Larrabee St \\& Kingsbury St   &  6698 & 1\\%\\\\\n",
       "\t  66 & Clinton St \\& Lake St         &  6648 & 1\\%\\\\\n",
       "\\end{tabular}\n"
      ],
      "text/markdown": [
       "\n",
       "A tibble: 10 × 4\n",
       "\n",
       "| start_station_id &lt;dbl&gt; | start_station_name &lt;chr&gt; | number_of_rides &lt;int&gt; | ride_share &lt;chr&gt; |\n",
       "|---|---|---|---|\n",
       "| 192 | Canal St &amp; Adams St          | 14127 | 2% |\n",
       "|  91 | Clinton St &amp; Washington Blvd | 13613 | 2% |\n",
       "|  77 | Clinton St &amp; Madison St      | 13291 | 2% |\n",
       "| 195 | Columbus Dr &amp; Randolph St    |  9021 | 1% |\n",
       "| 133 | Kingsbury St &amp; Kinzie St     |  8993 | 1% |\n",
       "| 174 | Canal St &amp; Madison St        |  8165 | 1% |\n",
       "|  43 | Michigan Ave &amp; Washington St |  7374 | 1% |\n",
       "| 287 | Franklin St &amp; Monroe St      |  7207 | 1% |\n",
       "|  48 | Larrabee St &amp; Kingsbury St   |  6698 | 1% |\n",
       "|  66 | Clinton St &amp; Lake St         |  6648 | 1% |\n",
       "\n"
      ],
      "text/plain": [
       "   start_station_id start_station_name           number_of_rides ride_share\n",
       "1  192              Canal St & Adams St          14127           2%        \n",
       "2   91              Clinton St & Washington Blvd 13613           2%        \n",
       "3   77              Clinton St & Madison St      13291           2%        \n",
       "4  195              Columbus Dr & Randolph St     9021           1%        \n",
       "5  133              Kingsbury St & Kinzie St      8993           1%        \n",
       "6  174              Canal St & Madison St         8165           1%        \n",
       "7   43              Michigan Ave & Washington St  7374           1%        \n",
       "8  287              Franklin St & Monroe St       7207           1%        \n",
       "9   48              Larrabee St & Kingsbury St    6698           1%        \n",
       "10  66              Clinton St & Lake St          6648           1%        "
      ]
     },
     "metadata": {},
     "output_type": "display_data"
    }
   ],
   "source": [
    "all_trips_cleaned %>%\n",
    "  group_by(start_station_id, start_station_name) %>%\n",
    "  summarise(number_of_rides = n(), .groups = \"drop\") %>%\n",
    "  mutate(ride_share = paste0(\n",
    "      round(100 * number_of_rides / sum(number_of_rides)), \"%\"\n",
    "  )) %>%\n",
    "  arrange(desc(number_of_rides)) %>%\n",
    "  slice_head(n = 10)"
   ]
  },
  {
   "cell_type": "markdown",
   "id": "c0a36c9b",
   "metadata": {
    "papermill": {
     "duration": 0.016727,
     "end_time": "2025-06-04T10:14:02.814088",
     "exception": false,
     "start_time": "2025-06-04T10:14:02.797361",
     "status": "completed"
    },
    "tags": []
   },
   "source": [
    "## Analysis Summary\n",
    "\n",
    "* Compared the **Ridership data** (**Number of Rides** and **Average Ride Duration**) by **Rider Type** (**Casual riders** and **Annual members**).\n",
    "* Compared the **Ridership data** on each **Day of the Week**.\n",
    "* Compared the **Ridership data** by **Rider Type** on each **Day of the Week**.\n",
    "* Identified an observable pattern for **Ridership data** between **Weekdays** and **Weekends** like the **Number of Rides** is more on weekdays and **Average Riding Minutes** is more on weekends.\n",
    "* To understand the patterns better, created a new column **started_day_type** by categorizing the day of the week ride started into **weekday** and **weekend**.\n",
    "* Compared the **Ridership data** by **Day Type** (**Weekdays** and **Weekends**).\n",
    "* Compared the **Ridership data** by **Day Type** and **Rider Type**.\n",
    "* Identified the **Top 10 Most Used Stations** by **Number of Rides**.\n",
    "* Exported these aggregated comparisons into **Tableau** to create effective visualizations."
   ]
  },
  {
   "cell_type": "markdown",
   "id": "231f8c99",
   "metadata": {
    "papermill": {
     "duration": 0.01613,
     "end_time": "2025-06-04T10:14:02.849520",
     "exception": false,
     "start_time": "2025-06-04T10:14:02.833390",
     "status": "completed"
    },
    "tags": []
   },
   "source": [
    "## Tableau Dashboard"
   ]
  },
  {
   "cell_type": "code",
   "execution_count": 46,
   "id": "514164da",
   "metadata": {
    "_kg_hide-input": true,
    "execution": {
     "iopub.execute_input": "2025-06-04T10:14:02.885001Z",
     "iopub.status.busy": "2025-06-04T10:14:02.883638Z",
     "iopub.status.idle": "2025-06-04T10:14:02.896752Z",
     "shell.execute_reply": "2025-06-04T10:14:02.895344Z"
    },
    "papermill": {
     "duration": 0.03329,
     "end_time": "2025-06-04T10:14:02.898585",
     "exception": false,
     "start_time": "2025-06-04T10:14:02.865295",
     "status": "completed"
    },
    "tags": []
   },
   "outputs": [
    {
     "data": {
      "text/markdown": [
       "<div class='tableauPlaceholder' id='viz1749028470937' style='position: relative'><noscript><a href='#'><img alt=' ' src='https:&#47;&#47;public.tableau.com&#47;static&#47;images&#47;Ho&#47;HowDoesaBike-ShareNavigateSpeedySuccess_17490155704140&#47;RidershipbetweenCasualRidersandAnnualMembers&#47;1_rss.png' style='border: none' /></a></noscript><object class='tableauViz' style='display:none;'><param name='host_url' value='https%3A%2F%2Fpublic.tableau.com%2F' /><param name='embed_code_version' value='3' /><param name='site_root' value='' /><param name='name' value='HowDoesaBike-ShareNavigateSpeedySuccess_17490155704140&#47;RidershipbetweenCasualRidersandAnnualMembers' /><param name='tabs' value='yes' /><param name='toolbar' value='yes' /><param name='static_image' value='https:&#47;&#47;public.tableau.com&#47;static&#47;images&#47;Ho&#47;HowDoesaBike-ShareNavigateSpeedySuccess_17490155704140&#47;RidershipbetweenCasualRidersandAnnualMembers&#47;1.png' /><param name='animate_transition' value='yes' /><param name='display_static_image' value='yes' /><param name='display_spinner' value='yes' /><param name='display_overlay' value='yes' /><param name='display_count' value='yes' /><param name='language' value='en-US' /></object></div><script type='text/javascript'>var divElement = document.getElementById('viz1749028470937');var vizElement = divElement.getElementsByTagName('object')[0];if (divElement.offsetWidth > 800) {  vizElement.style.width='100%';  vizElement.style.height=(divElement.offsetWidth * 0.75) + 'px';} else if (divElement.offsetWidth > 500) {  vizElement.style.width='100%';  vizElement.style.height=(divElement.offsetWidth * 0.75) + 'px';} else {  vizElement.style.width='100%';  vizElement.style.height='750px';}var scriptElement = document.createElement('script');scriptElement.src = 'https://public.tableau.com/javascripts/api/viz_v1.js';vizElement.parentNode.insertBefore(scriptElement, vizElement);</script>"
      ]
     },
     "metadata": {},
     "output_type": "display_data"
    }
   ],
   "source": [
    "IRdisplay::display_markdown(paste0(\n",
    "  \"<div class='tableauPlaceholder' id='viz1749028470937' style='position: relative'>\",\n",
    "  \"<noscript><a href='#'><img alt=' ' src='https:&#47;&#47;public.tableau.com&#47;static&#47;images&#47;Ho&#47;\",\n",
    "  \"HowDoesaBike-ShareNavigateSpeedySuccess_17490155704140&#47;\",\n",
    "  \"RidershipbetweenCasualRidersandAnnualMembers&#47;1_rss.png' style='border: none' /></a></noscript>\",\n",
    "  \n",
    "  \"<object class='tableauViz' style='display:none;'>\",\n",
    "  \"<param name='host_url' value='https%3A%2F%2Fpublic.tableau.com%2F' />\",\n",
    "  \"<param name='embed_code_version' value='3' />\",\n",
    "  \"<param name='site_root' value='' />\",\n",
    "  \"<param name='name' value='HowDoesaBike-ShareNavigateSpeedySuccess_17490155704140\",\n",
    "  \"&#47;RidershipbetweenCasualRidersandAnnualMembers' />\",\n",
    "  \"<param name='tabs' value='yes' />\",\n",
    "  \"<param name='toolbar' value='yes' />\",\n",
    "  \"<param name='static_image' value='https:&#47;&#47;public.tableau.com&#47;static&#47;images&#47;Ho&#47;\",\n",
    "  \"HowDoesaBike-ShareNavigateSpeedySuccess_17490155704140&#47;\",\n",
    "  \"RidershipbetweenCasualRidersandAnnualMembers&#47;1.png' />\",\n",
    "  \"<param name='animate_transition' value='yes' />\",\n",
    "  \"<param name='display_static_image' value='yes' />\",\n",
    "  \"<param name='display_spinner' value='yes' />\",\n",
    "  \"<param name='display_overlay' value='yes' />\",\n",
    "  \"<param name='display_count' value='yes' />\",\n",
    "  \"<param name='language' value='en-US' />\",\n",
    "  \"</object></div>\",\n",
    "  \n",
    "  \"<script type='text/javascript'>\",\n",
    "  \"var divElement = document.getElementById('viz1749028470937');\",\n",
    "  \"var vizElement = divElement.getElementsByTagName('object')[0];\",\n",
    "  \"if (divElement.offsetWidth > 800) {\",\n",
    "  \"  vizElement.style.width='100%';\",\n",
    "  \"  vizElement.style.height=(divElement.offsetWidth * 0.75) + 'px';\",\n",
    "  \"} else if (divElement.offsetWidth > 500) {\",\n",
    "  \"  vizElement.style.width='100%';\",\n",
    "  \"  vizElement.style.height=(divElement.offsetWidth * 0.75) + 'px';\",\n",
    "  \"} else {\",\n",
    "  \"  vizElement.style.width='100%';\",\n",
    "  \"  vizElement.style.height='750px';\",\n",
    "  \"}\",\n",
    "  \"var scriptElement = document.createElement('script');\",\n",
    "  \"scriptElement.src = 'https://public.tableau.com/javascripts/api/viz_v1.js';\",\n",
    "  \"vizElement.parentNode.insertBefore(scriptElement, vizElement);\",\n",
    "  \"</script>\"\n",
    "))"
   ]
  },
  {
   "cell_type": "markdown",
   "id": "6827d3a1",
   "metadata": {
    "papermill": {
     "duration": 0.016894,
     "end_time": "2025-06-04T10:14:02.932218",
     "exception": false,
     "start_time": "2025-06-04T10:14:02.915324",
     "status": "completed"
    },
    "tags": []
   },
   "source": [
    "## Key Findings\n",
    "\n",
    "### 👥 Ride Patterns by Rider Type\n",
    "\n",
    "* Annual Members: 91.7% of total rides; average duration: 11 minutes\n",
    "* Casual Riders: 8.3% of total rides; average duration: 23 minutes\n",
    "* Annual members consistently took more rides, while casual riders spent more time per ride\n",
    "\n",
    "### 🗓️ Ride Patterns by Day\n",
    "\n",
    "* Weekdays: 81.12% of total rides; average duration: 11 minutes\n",
    "* Weekends: 18.88% of total rides; average duration: 15 minutes\n",
    "* More rides occurred on weekdays, but ride durations were slightly longer on weekends\n",
    "\n",
    "### 📊 Rider Behavior by Day & Type\n",
    "\n",
    "#### Weekdays:\n",
    "\n",
    "* Annual Members: 76.5% of total rides; avg. 11 minutes\n",
    "* Casual Riders: 4.62% of total rides; avg. 20 minutes\n",
    "\n",
    "#### Weekends:\n",
    "\n",
    "* Annual Members: 15.2% of total rides; avg. 12 minutes\n",
    "* Casual Riders: 3.68% of total rides; avg. 27 minutes"
   ]
  },
  {
   "cell_type": "markdown",
   "id": "d2b1553c",
   "metadata": {
    "papermill": {
     "duration": 0.017598,
     "end_time": "2025-06-04T10:14:02.968925",
     "exception": false,
     "start_time": "2025-06-04T10:14:02.951327",
     "status": "completed"
    },
    "tags": []
   },
   "source": [
    "## Recommendations\n",
    "\n",
    "1. **🎯 Promote Weekday Commuting Benefits to Convert Casual Riders:** Annual members ride more frequently, especially on weekdays. Highlight time and cost savings to encourage casual riders to switch for their weekday commutes.\n",
    "2. **🧳 Launch Weekend-Focused Campaigns for Casual Riders:** Casual riders prefer weekends and take longer rides. Offer weekend membership trials or leisure ride incentives to attract and convert them.\n",
    "3. **⏱️ Leverage Stable Usage Patterns of Annual Members:** Annual members have consistent ride durations across all days. Use this predictability to develop loyalty rewards, retention offers, and personalized messaging."
   ]
  },
  {
   "cell_type": "markdown",
   "id": "477e7a0c",
   "metadata": {
    "papermill": {
     "duration": 0.024531,
     "end_time": "2025-06-04T10:14:03.010702",
     "exception": false,
     "start_time": "2025-06-04T10:14:02.986171",
     "status": "completed"
    },
    "tags": []
   },
   "source": [
    "## Next Steps\n",
    "\n",
    "* Build targeted campaigns based on ride behavior insights.\n",
    "* Explore additional data (e.g., assistive use cases)."
   ]
  }
 ],
 "metadata": {
  "kaggle": {
   "accelerator": "none",
   "dataSources": [
    {
     "datasetId": 7523567,
     "sourceId": 11964781,
     "sourceType": "datasetVersion"
    }
   ],
   "dockerImageVersionId": 30749,
   "isGpuEnabled": false,
   "isInternetEnabled": true,
   "language": "r",
   "sourceType": "notebook"
  },
  "kernelspec": {
   "display_name": "R",
   "language": "R",
   "name": "ir"
  },
  "language_info": {
   "codemirror_mode": "r",
   "file_extension": ".r",
   "mimetype": "text/x-r-source",
   "name": "R",
   "pygments_lexer": "r",
   "version": "4.4.0"
  },
  "papermill": {
   "default_parameters": {},
   "duration": 23.951881,
   "end_time": "2025-06-04T10:14:03.263730",
   "environment_variables": {},
   "exception": null,
   "input_path": "__notebook__.ipynb",
   "output_path": "__notebook__.ipynb",
   "parameters": {},
   "start_time": "2025-06-04T10:13:39.311849",
   "version": "2.6.0"
  }
 },
 "nbformat": 4,
 "nbformat_minor": 5
}
