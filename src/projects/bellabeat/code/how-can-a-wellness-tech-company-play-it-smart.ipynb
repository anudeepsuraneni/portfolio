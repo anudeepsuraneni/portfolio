{
 "cells": [
  {
   "cell_type": "markdown",
   "metadata": {
    "_execution_state": "idle",
    "_uuid": "051d70d956493feee0c6d64651c6a088724dca2a"
   },
   "source": [
    "# How Can a Wellness Technology Company Play It Smart?"
   ]
  },
  {
   "cell_type": "markdown",
   "metadata": {},
   "source": [
    "## Case Study Overview\n",
    "\n",
    "* This case study is a **capstone project** for the *Google Data Analytics Professional Certificate*.\n",
    "* I am an imaginative **junior data analyst** on the **marketing analytics team** at **Bellabeat**, a high-tech manufacturer of health-focused products for women.\n",
    "* Bellabeat is a successful small company, but they have the potential to become a larger player in the global smart device market.\n",
    "* **Urška Sršen**, co-founder and Chief Creative Officer of Bellabeat, believes that analyzing smart device fitness data could help unlock new growth opportunities for the company.\n",
    "* I was asked to focus on one of Bellabeat’s products and analyze smart device data to gain insight into how consumers are using their smart devices. The insights I discovered will then help guide marketing strategy for the company."
   ]
  },
  {
   "cell_type": "markdown",
   "metadata": {},
   "source": [
    "## Bellabeat Products\n",
    "\n",
    "* **Bellabeat App:** Central platform that syncs with Bellabeat devices to track activity, sleep, stress, menstrual cycle, and mindfulness habits.\n",
    "* **Leaf:** Wearable wellness tracker (bracelet, necklace, or clip) that monitors activity, sleep, and stress.\n",
    "* **Time:** Stylish wellness watch that tracks activity, sleep, and stress, combining classic design with smart features.\n",
    "* **Spring:** Smart water bottle that tracks daily water intake to support proper hydration.\n",
    "* **Bellabeat Membership:** Subscription service offering 24/7 personalized guidance on nutrition, activity, sleep, beauty, and mindfulness based on individual goals and lifestyle."
   ]
  },
  {
   "cell_type": "markdown",
   "metadata": {},
   "source": [
    "## Business Objective\n",
    "\n",
    "Analyze smart device usage data in order to gain insight into how consumers use non-Bellabeat smart devices. Select and apply these insights to a Bellabeat product. These questions will guide my analysis:\n",
    "1. What are some trends in smart device usage?\n",
    "2. How could these trends apply to Bellabeat customers?\n",
    "3. How could these trends help influence Bellabeat marketing strategy?"
   ]
  },
  {
   "cell_type": "markdown",
   "metadata": {},
   "source": [
    "## Data Sources\n",
    "\n",
    "* Using [FitBit Fitness Tracker Data](https://www.kaggle.com/datasets/arashnic/fitbit) (CC0: Public Domain, dataset made available through Mobius) for this case study.\n",
    "* This Kaggle data set contains personal fitness tracker from thirty fitbit users, who consented to the submission of personal tracker data, including minute-level output for physical activity, heart rate, steps, and sleep monitoring that can be used to explore users’ habits.\n",
    "* This Kaggle data set has an usability score of 9.41, which proves that data is credible and holds integrity.\n",
    "* **Kaggle's R kernel** will be used to clean, analyze, and visualize the data."
   ]
  },
  {
   "cell_type": "markdown",
   "metadata": {},
   "source": [
    "Load R's 'tidyverse' package for this analysis."
   ]
  },
  {
   "cell_type": "code",
   "execution_count": null,
   "metadata": {
    "_kg_hide-output": true,
    "trusted": true,
    "vscode": {
     "languageId": "r"
    }
   },
   "outputs": [],
   "source": [
    "library(\"tidyverse\")"
   ]
  },
  {
   "cell_type": "markdown",
   "metadata": {},
   "source": [
    "Create a dataframe named 'daily_activity' and read in one of the CSV files from the dataset."
   ]
  },
  {
   "cell_type": "code",
   "execution_count": null,
   "metadata": {
    "trusted": true,
    "vscode": {
     "languageId": "r"
    }
   },
   "outputs": [],
   "source": [
    "daily_activity <- read.csv(\n",
    "    \"../input/fitbit/mturkfitbit_export_4.12.16-5.12.16/Fitabase Data 4.12.16-5.12.16/dailyActivity_merged.csv\"\n",
    ")"
   ]
  },
  {
   "cell_type": "markdown",
   "metadata": {},
   "source": [
    "Create another dataframe named 'sleep_day' for the sleep data."
   ]
  },
  {
   "cell_type": "code",
   "execution_count": null,
   "metadata": {
    "trusted": true,
    "vscode": {
     "languageId": "r"
    }
   },
   "outputs": [],
   "source": [
    "sleep_day <- read.csv(\n",
    "    \"../input/fitbit/mturkfitbit_export_4.12.16-5.12.16/Fitabase Data 4.12.16-5.12.16/sleepDay_merged.csv\"\n",
    ")"
   ]
  },
  {
   "cell_type": "markdown",
   "metadata": {},
   "source": [
    "Take a look at the daily_activity data."
   ]
  },
  {
   "cell_type": "code",
   "execution_count": null,
   "metadata": {
    "trusted": true,
    "vscode": {
     "languageId": "r"
    }
   },
   "outputs": [],
   "source": [
    "head(daily_activity)"
   ]
  },
  {
   "cell_type": "markdown",
   "metadata": {},
   "source": [
    "Identify all the columns in the daily_activity data."
   ]
  },
  {
   "cell_type": "code",
   "execution_count": null,
   "metadata": {
    "trusted": true,
    "vscode": {
     "languageId": "r"
    }
   },
   "outputs": [],
   "source": [
    "colnames(daily_activity)"
   ]
  },
  {
   "cell_type": "markdown",
   "metadata": {},
   "source": [
    "Take a look at the sleep_day data."
   ]
  },
  {
   "cell_type": "code",
   "execution_count": null,
   "metadata": {
    "trusted": true,
    "vscode": {
     "languageId": "r"
    }
   },
   "outputs": [],
   "source": [
    "head(sleep_day)"
   ]
  },
  {
   "cell_type": "markdown",
   "metadata": {},
   "source": [
    "Identify all the columns in the sleep_day data."
   ]
  },
  {
   "cell_type": "code",
   "execution_count": null,
   "metadata": {
    "trusted": true,
    "vscode": {
     "languageId": "r"
    }
   },
   "outputs": [],
   "source": [
    "colnames(sleep_day)"
   ]
  },
  {
   "cell_type": "markdown",
   "metadata": {},
   "source": [
    "How many unique participants are there in each dataframe?"
   ]
  },
  {
   "cell_type": "code",
   "execution_count": null,
   "metadata": {
    "trusted": true,
    "vscode": {
     "languageId": "r"
    }
   },
   "outputs": [],
   "source": [
    "n_distinct(daily_activity$Id)\n",
    "n_distinct(sleep_day$Id)"
   ]
  },
  {
   "cell_type": "markdown",
   "metadata": {},
   "source": [
    "It looks like there may be more participants in the daily activity dataset than the sleep dataset.\n",
    "\n",
    "How many observations are there in each dataframe?"
   ]
  },
  {
   "cell_type": "code",
   "execution_count": null,
   "metadata": {
    "trusted": true,
    "vscode": {
     "languageId": "r"
    }
   },
   "outputs": [],
   "source": [
    "nrow(daily_activity)\n",
    "nrow(sleep_day)"
   ]
  },
  {
   "cell_type": "markdown",
   "metadata": {},
   "source": [
    "## Data Preparation\n",
    "\n",
    "* Loaded R's 'tidyverse' package for this analysis.\n",
    "* Created a data frame named 'daily_activity' and read in one of the CSV files from the dataset.\n",
    "* Created another data frame named 'sleep_day' for the sleep data.\n",
    "* Took a look at the daily_activity data.\n",
    "* Identified all the columns in the daily_activity data: 'Id', 'ActivityDate', 'TotalSteps', 'TotalDistance', 'TrackerDistance', 'LoggedActivitiesDistance', 'VeryActiveDistance', 'ModeratelyActiveDistance', 'LightActiveDistance', 'SedentaryActiveDistance', 'VeryActiveMinutes', 'FairlyActiveMinutes', 'LightlyActiveMinutes', 'SedentaryMinutes', 'Calories'.\n",
    "* Took a look at the sleep_day data.\n",
    "* Identified all the columns in the sleep_day data: 'Id', 'SleepDay', 'TotalSleepRecords', 'TotalMinutesAsleep', 'TotalTimeInBed'.\n",
    "* How many unique participants are there in each dataframe?\n",
    "\t* Daily Activity: 33 participants.\n",
    "\t* Sleep Data: 24 participants.\n",
    "* It looks like there may be more participants in the daily activity dataset than the sleep dataset.\n",
    "* How many observations are there in each data frame?\n",
    "\t* Daily Activity: 940 observations.\n",
    "\t* Sleep Data: 413 observations."
   ]
  },
  {
   "cell_type": "markdown",
   "metadata": {},
   "source": [
    "What are some quick summary statistics we'd want to know about each data frame?"
   ]
  },
  {
   "cell_type": "code",
   "execution_count": null,
   "metadata": {
    "trusted": true,
    "vscode": {
     "languageId": "r"
    }
   },
   "outputs": [],
   "source": [
    "# For the daily activity dataframe:\n",
    "daily_activity %>% \n",
    "    select(\n",
    "        TotalSteps, \n",
    "        TotalDistance, \n",
    "        SedentaryMinutes\n",
    "    ) %>% \n",
    "    summary()\n",
    "cat(\"--------------------------------------------------\\n\")\n",
    "# For the sleep dataframe:\n",
    "sleep_day %>% \n",
    "    select(\n",
    "        TotalSleepRecords, \n",
    "        TotalMinutesAsleep, \n",
    "        TotalTimeInBed\n",
    "    ) %>% \n",
    "    summary()"
   ]
  },
  {
   "cell_type": "markdown",
   "metadata": {},
   "source": [
    "What's the relationship between steps taken in a day and sedentary minutes?"
   ]
  },
  {
   "cell_type": "code",
   "execution_count": null,
   "metadata": {
    "trusted": true,
    "vscode": {
     "languageId": "r"
    }
   },
   "outputs": [],
   "source": [
    "plot(daily_activity$TotalSteps, daily_activity$SedentaryMinutes,\n",
    "     main = \"Total Steps vs Sedentary Minutes\",\n",
    "     xlab = \"Total Steps\",\n",
    "     ylab = \"Sedentary Minutes\",\n",
    "     pch = 19,      # solid circle\n",
    "     col = \"blue\")  # point color"
   ]
  },
  {
   "cell_type": "markdown",
   "metadata": {},
   "source": [
    "What's the relationship between minutes asleep and time in bed?"
   ]
  },
  {
   "cell_type": "code",
   "execution_count": null,
   "metadata": {
    "trusted": true,
    "vscode": {
     "languageId": "r"
    }
   },
   "outputs": [],
   "source": [
    "plot(sleep_day$TotalMinutesAsleep, sleep_day$TotalTimeInBed,\n",
    "     main = \"Total Minutes Asleep vs Total Time in Bed\",\n",
    "     xlab = \"Total Minutes Asleep\",\n",
    "     ylab = \"Total Time in Bed\",\n",
    "     pch = 19,      # solid circles\n",
    "     col = \"darkgreen\")  # optional color"
   ]
  },
  {
   "cell_type": "markdown",
   "metadata": {},
   "source": [
    "## Analysis Summary\n",
    "\n",
    "**Daily Activity Data:**\n",
    "\n",
    "* **Total Steps:** The average is 7,638 steps per day, with a median of 7,406. This suggests an overall active population, though some very high step counts (up to 36,019) skew the average.\n",
    "* **Total Distance:** People walk an average of 5.49 km daily, consistent with moderate activity levels.\n",
    "* **Sedentary Minutes:** On average, individuals are sedentary for 991 minutes (16.5 hours) per day, with a median of 1,057.5 minutes (17.5 hours), highlighting a key opportunity for health improvement.\n",
    "\n",
    "**Sleep Data:**\n",
    "\n",
    "* **Total Sleep Records:** Most users have one sleep record per day (with Q1, Q2, and Q3 all at 1), though some log up to 3, likely capturing naps or fragmented sleep.\n",
    "* **Total Minutes Asleep:** Users sleep an average of 419.5 minutes (just under 7 hours), which is on the lower end of the recommended 7–9 hours for adults.\n",
    "* **Total Time in Bed:** The average time in bed is 458.6 minutes, slightly more than time asleep—reflecting time spent falling asleep, waking during the night, or relaxing.\n",
    "\n",
    "\n",
    "**Overall Implications for Bellabeat:**\n",
    "\n",
    "* **Sedentary Behavior is a Concern:** High sedentary time highlights an opportunity for Bellabeat to promote more movement through features or targeted campaigns.\n",
    "* **Sleep is Adequate, but Improvable:** Average sleep duration is acceptable but could be better. Bellabeat could support users with tools like sleep tracking, personalized tips, and relaxation features.\n",
    "* **Activity Levels Vary Widely:** Given the range in activity, personalized insights and recommendations can help users stay engaged and improve their habits.\n",
    "* **Napping as a Feature:** Multiple daily sleep records suggest interest in napping. Bellabeat could highlight nap benefits or enhance nap detection.\n",
    "\n",
    "**Relationship Between Steps and Sedentary Minutes:**\n",
    "\n",
    "* **Negative Correlation:** As step count increases, sedentary minutes generally decrease—an expected pattern showing more active users sit less.\n",
    "* **Stronger Impact at Lower Step Counts:** The correlation is clearer below 10,000 steps, where increasing activity more significantly reduces sedentary time.\n",
    "* **Weaker Link at Higher Step Counts:** Above 10,000 steps, the trend weakens—some highly active users still log high sedentary minutes.\n",
    "* **Possible Plateau Effect:** Sedentary time seems to level off above 500 minutes, regardless of step count, suggesting a limit to how much movement reduces sitting time.\n",
    "\n",
    "**Relationship Between Minutes Asleep and Time in Bed:**\n",
    "\n",
    "* **Strong Positive Correlation:** More time in bed generally leads to more sleep, as expected—showing a clear link between ‘Total Time In Bed’ and ‘Total Minutes Asleep’.\n",
    "* **Linear Relationship:** The trend is fairly linear, suggesting consistent gains in sleep with increased time in bed.\n",
    "* **Gap Between Bedtime and Sleep:** Time in bed typically exceeds time asleep, reflecting time spent falling asleep, waking up, or simply resting.\n",
    "* **Sleep Efficiency Varies:** The spread in data shows differences in sleep efficiency—some users sleep efficiently, while others need more time in bed, possibly due to habits or sleep issues."
   ]
  },
  {
   "cell_type": "markdown",
   "metadata": {},
   "source": [
    "## Key Findings\n",
    "\n",
    "* **Personalized Marketing is Essential:** Avoid generic messaging—tailor marketing, product suggestions, and content to individual user data like activity levels and sleep patterns.\n",
    "* **Target Key Pain Points:** Address the unique needs of different user segments:\n",
    "    * **Highly Sedentary:** \"Feeling sluggish? A little movement goes a long way.\"\n",
    "    * **Inefficient Sleepers:** \"Struggling to fall asleep? Try personalized sleep solutions.\"\n",
    "    * **Short Sleepers:** \"Make every minute of sleep count.\"\n",
    "* **Highlight Relevant Features:** Showcase features based on user needs:\n",
    "    * **Sedentary Users:** Step tracking, movement reminders, gamified challenges.\n",
    "    * **Sleep Inefficient Users:** Sleep insights, guided meditations, ambient sound detection.\n",
    "    * **All Users:** Holistic health tracking through data integration.\n",
    "* **Showcase Data Value:** Emphasize how Bellabeat empowers users with meaningful health insights—visuals like step vs. sedentary time or time in bed vs. sleep can reinforce this.\n",
    "* **Use Social Proof:** Promote testimonials from users who’ve improved their activity or sleep, reinforcing product credibility and effectiveness."
   ]
  },
  {
   "cell_type": "markdown",
   "metadata": {},
   "source": [
    "## Recommendations\n",
    "\n",
    "1. **Bellabeat \"Micro-Movement Motivator\":** To combat high sedentary time, this feature encourages small, frequent movements throughout the day.\n",
    "    * **Key Features:** Timed movement reminders, mini challenges (e.g., “Walk to the kitchen”, “Do 5 squats”, etc), and optional smart desk integration.\n",
    "    * **Marketing Focus:** Target highly sedentary users by emphasizing ease and accessibility.\n",
    "    * **Why It Works:** Breaks inactivity into manageable actions, making it easier for users to stay active.\n",
    "2. **Bellabeat \"Sleep Efficiency Enhancer\":** Designed to reduce the gap between time in bed and actual sleep, this tool helps users improve sleep quality.\n",
    "    * **Key Features:** Ambient noise tracking, guided relaxation, personalized schedules, and smart home integration.\n",
    "    * **Marketing Focus:** Appeal to inefficient sleepers by promoting better rest through environment and habit optimization.\n",
    "    * **Why It Works:** Addresses a specific sleep issue with personalized, data-driven support.\n",
    "3. **Bellabeat \"Nap Navigator\":** With users logging multiple sleep sessions, this feature detects naps and offers personalized insights.\n",
    "    * **Key Features:** Automatic nap detection, smart nap timing recommendations, and nap quality analytics.\n",
    "    * **Marketing Focus:** Target short or inefficient sleepers by highlighting the benefits of smart napping.\n",
    "    * **Why It Works:** Enhances an existing behavior while supporting better overall rest and recovery."
   ]
  },
  {
   "cell_type": "markdown",
   "metadata": {},
   "source": [
    "## Next Steps\n",
    "\n",
    "* **Investigate Sleep Inefficiency:** Use surveys or focus groups to identify lifestyle factors (e.g., stress, screen time) that contribute to poor sleep.\n",
    "* **Analyze Nap Impact:** Study how napping affects sedentary behavior, sleep quality, and overall activity to inform feature development.\n",
    "* **Explore Sleep–Activity Links:** Examine correlations between sleep and physical activity to enable more personalized health insights."
   ]
  }
 ],
 "metadata": {
  "kaggle": {
   "accelerator": "none",
   "dataSources": [
    {
     "datasetId": 1041311,
     "sourceId": 7746251,
     "sourceType": "datasetVersion"
    }
   ],
   "dockerImageVersionId": 30749,
   "isGpuEnabled": false,
   "isInternetEnabled": true,
   "language": "r",
   "sourceType": "notebook"
  },
  "kernelspec": {
   "display_name": "R",
   "language": "R",
   "name": "ir"
  },
  "language_info": {
   "codemirror_mode": "r",
   "file_extension": ".r",
   "mimetype": "text/x-r-source",
   "name": "R",
   "pygments_lexer": "r",
   "version": "4.5.0"
  }
 },
 "nbformat": 4,
 "nbformat_minor": 4
}
